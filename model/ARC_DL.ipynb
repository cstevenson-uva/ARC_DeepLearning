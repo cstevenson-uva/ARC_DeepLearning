{
  "cells": [
    {
      "cell_type": "markdown",
      "metadata": {
        "id": "8q1Ga8mfx1Qo"
      },
      "source": [
        "## **Disclaimer!**\n",
        "This notebook is meant to be used by anyone interested in replicating our model or playing around with the data. In order to access all features, please go to this [Google Drive Folder](https://drive.google.com/drive/folders/1kUTkGI89PJRl0dVy79xIZuH9Qokl9Stq) and store it on your own Google Drive. By clicking on the folder name \"Thesis_LucaThoms\" and selecting \"Add a shortcut to Drive\", all necessary files are automatically shared with your main Drive environment without having to download all the data or files individually! After that, simply run all the code as you like."
      ]
    },
    {
      "cell_type": "markdown",
      "metadata": {
        "id": "QWlGYZJ0V9Np"
      },
      "source": [
        "## **Setup**"
      ]
    },
    {
      "cell_type": "code",
      "execution_count": 161,
      "metadata": {
        "colab": {
          "base_uri": "https://localhost:8080/"
        },
        "id": "96ipln9OlC9Y",
        "outputId": "3fde4bc1-0dad-47db-8d1c-922af149bdaf"
      },
      "outputs": [
        {
          "output_type": "stream",
          "name": "stdout",
          "text": [
            "You are using a cpu device.\n"
          ]
        }
      ],
      "source": [
        "import os\n",
        "import json\n",
        "import random\n",
        "import time\n",
        "import cv2\n",
        "import pickle\n",
        "from typing import List, TypeVar\n",
        "\n",
        "import numpy as np\n",
        "import pandas as pd\n",
        "import matplotlib.pyplot as plt\n",
        "import seaborn as sns\n",
        "import plotly.figure_factory as ff\n",
        "from keras.utils import to_categorical\n",
        "from matplotlib import colors\n",
        "from google.colab import drive\n",
        "\n",
        "import torch\n",
        "import torch.nn as nn\n",
        "import torch.nn.functional as F\n",
        "import torch.distributions\n",
        "import torchvision\n",
        "from torch.optim import Adam\n",
        "from torch.utils.data import Dataset, DataLoader\n",
        "\n",
        "# Tensor = TypeVar('torch.Tensor')\n",
        "\n",
        "device = torch.device('cuda:0' if torch.cuda.is_available() else 'cpu')\n",
        "print(f\"You are using a {device} device.\")"
      ]
    },
    {
      "cell_type": "code",
      "execution_count": 162,
      "metadata": {
        "colab": {
          "base_uri": "https://localhost:8080/"
        },
        "id": "gppFKWfRYh7q",
        "outputId": "5e395ba9-0f2d-4f96-bed5-597490cbcc8d"
      },
      "outputs": [
        {
          "output_type": "stream",
          "name": "stdout",
          "text": [
            "Mounted at /content/drive\n"
          ]
        }
      ],
      "source": [
        "# Define directory to access image folders, labels, and pre-trained models\n",
        "drive.mount('/content/drive', force_remount = True)\n",
        "our_data_dir = '/content/drive/MyDrive/Thesis_LucaThoms/'"
      ]
    },
    {
      "cell_type": "code",
      "execution_count": 163,
      "metadata": {
        "id": "-OHg2PQjpsJK"
      },
      "outputs": [],
      "source": [
        "training_path = f'{our_data_dir}Data/data_training/'\n",
        "evaluation_path = f'{our_data_dir}Data/data_evaluation/'\n",
        "test_path = f'{our_data_dir}Data/data_test/'\n",
        "\n",
        "training_tasks_files = sorted(os.listdir(training_path))\n",
        "evaluation_tasks_files = sorted(os.listdir(evaluation_path))\n",
        "test_tasks_files = sorted(os.listdir(test_path))"
      ]
    },
    {
      "cell_type": "code",
      "execution_count": 164,
      "metadata": {
        "colab": {
          "base_uri": "https://localhost:8080/"
        },
        "id": "rARIy2725Sk2",
        "outputId": "cf75f884-6c5f-4953-d400-95e4afb7b000"
      },
      "outputs": [
        {
          "output_type": "execute_result",
          "data": {
            "text/plain": [
              "[[0, 0, 0, 0, 0, 0, 0, 0, 0],\n",
              " [0, 0, 6, 6, 6, 0, 0, 0, 0],\n",
              " [0, 0, 6, 0, 0, 6, 0, 0, 0],\n",
              " [0, 0, 0, 6, 0, 0, 6, 0, 0],\n",
              " [0, 0, 0, 0, 6, 0, 6, 0, 0],\n",
              " [0, 0, 0, 0, 6, 6, 6, 0, 0],\n",
              " [0, 0, 0, 0, 0, 0, 0, 0, 0],\n",
              " [0, 0, 0, 0, 0, 0, 0, 0, 0],\n",
              " [0, 0, 0, 0, 0, 0, 0, 0, 0],\n",
              " [0, 0, 0, 2, 2, 2, 2, 0, 0],\n",
              " [0, 0, 0, 2, 0, 0, 2, 0, 0],\n",
              " [0, 0, 0, 2, 2, 2, 2, 0, 0],\n",
              " [0, 0, 0, 0, 0, 0, 0, 0, 0],\n",
              " [0, 0, 0, 0, 0, 0, 0, 0, 0]]"
            ]
          },
          "metadata": {},
          "execution_count": 164
        }
      ],
      "source": [
        "training_tasks = []\n",
        "for task_file in training_tasks_files:\n",
        "    with open(f'{training_path}{task_file}', 'r') as f:\n",
        "        task = json.load(f)\n",
        "        training_tasks.append(task)\n",
        "\n",
        "# Example\n",
        "training_tasks[3][\"train\"][0][\"output\"]"
      ]
    },
    {
      "cell_type": "code",
      "execution_count": 165,
      "metadata": {
        "colab": {
          "base_uri": "https://localhost:8080/"
        },
        "id": "0OFklPsCRKK8",
        "outputId": "ba487608-1489-418e-95c0-790e3b9d4384"
      },
      "outputs": [
        {
          "output_type": "execute_result",
          "data": {
            "text/plain": [
              "[[[0, 0, 0, 0, 0, 0, 0, 0, 0, 0],\n",
              "  [0, 4, 4, 4, 4, 4, 4, 0, 0, 0],\n",
              "  [0, 4, 0, 0, 0, 0, 0, 4, 0, 0],\n",
              "  [0, 0, 4, 0, 0, 0, 0, 0, 4, 0],\n",
              "  [0, 0, 0, 4, 0, 0, 0, 0, 0, 4],\n",
              "  [0, 0, 0, 0, 4, 4, 4, 4, 4, 4],\n",
              "  [0, 0, 0, 0, 0, 0, 0, 0, 0, 0],\n",
              "  [0, 0, 0, 0, 0, 0, 0, 0, 0, 0],\n",
              "  [0, 0, 0, 0, 0, 0, 0, 0, 0, 0],\n",
              "  [0, 0, 0, 0, 0, 0, 0, 0, 0, 0]]]"
            ]
          },
          "metadata": {},
          "execution_count": 165
        }
      ],
      "source": [
        "X_test, X_train, y_train = [], [], []\n",
        "\n",
        "for task in training_tasks:\n",
        "    Xs_test, Xs_train, ys_train = [], [], []\n",
        "\n",
        "    for pair in task[\"test\"]:\n",
        "        Xs_test.append(pair[\"input\"])\n",
        "\n",
        "    for pair in task[\"train\"]:\n",
        "        Xs_train.append(pair[\"input\"])\n",
        "        ys_train.append(pair[\"output\"])\n",
        "    \n",
        "    X_test.append(Xs_test)\n",
        "    X_train.append(Xs_train)\n",
        "    y_train.append(ys_train)\n",
        "\n",
        "matrices = []\n",
        "for Xs_test in X_test:\n",
        "    for X in Xs_test:\n",
        "        matrices.append(X)\n",
        "\n",
        "# Example\n",
        "X_test[3]"
      ]
    },
    {
      "cell_type": "code",
      "execution_count": null,
      "metadata": {
        "id": "Vx3vH7Y7kOnD"
      },
      "outputs": [],
      "source": [
        "# Saving predictions\n",
        "# with open('example_pred.pkl', 'wb') as f:\n",
        "#   pickle.dump(test_predictions, f)\n",
        "\n",
        "# Loading saved predictions\n",
        "with open('/content/drive/MyDrive/Thesis_LucaThoms/example_pred.pkl', 'rb') as f:\n",
        "    test_predictions = pickle.load(f)\n"
      ]
    },
    {
      "cell_type": "markdown",
      "metadata": {
        "id": "sVuzNCh7lx-B"
      },
      "source": [
        "## **Helper Functions**"
      ]
    },
    {
      "cell_type": "code",
      "execution_count": 166,
      "metadata": {
        "id": "nRb9aHZ1rXLV"
      },
      "outputs": [],
      "source": [
        "def plot_one(task, ax, i, train_or_test, input_or_output):\n",
        "    cmap = colors.ListedColormap(\n",
        "    ['#000000', '#0074D9','#FF4136','#2ECC40','#FFDC00',\n",
        "     '#AAAAAA', '#F012BE', '#FF851B', '#7FDBFF', '#870C25'])\n",
        "    norm = colors.Normalize(vmin=0, vmax=9)\n",
        "    \n",
        "    if input_or_output == 'prediction':\n",
        "        input_matrix = test_predictions[i]\n",
        "    else:\n",
        "        input_matrix = task[train_or_test][i][input_or_output]\n",
        "\n",
        "    ax.imshow(input_matrix, cmap=cmap, norm=norm)\n",
        "    ax.grid(True, which='both', color='lightgrey', linewidth=0.5)    \n",
        "    ax.set_yticks([x-0.5 for x in range(1+len(input_matrix))])\n",
        "    ax.set_xticks([x-0.5 for x in range(1+len(input_matrix[0]))])     \n",
        "    ax.set_xticklabels([])\n",
        "    ax.set_yticklabels([])\n",
        "    ax.set_title(train_or_test + ' ' + input_or_output)\n",
        "\n",
        "def plot_task(task, idx):   \n",
        "    num_train = len(task['train'])\n",
        "    fig, axs = plt.subplots(2, num_train, figsize=(3*num_train,3*2))\n",
        "    for i in range(num_train):     \n",
        "        plot_one(task, axs[0,i], i, 'train', 'input')\n",
        "        plot_one(task, axs[1,i], i, 'train', 'output')        \n",
        "    plt.tight_layout()\n",
        "    plt.show()        \n",
        "        \n",
        "    num_test = len(task['test'])\n",
        "    num_outp = len(task['test'][0])\n",
        "    fig, axs = plt.subplots(2, num_test, figsize=(3*num_test,3*2))\n",
        "    if num_test == 1: \n",
        "        plot_one(task, axs[0], 0, 'test', 'input')\n",
        "        if num_outp > 1:\n",
        "            plot_one(task, axs[1], 0, 'test', 'output')  \n",
        "        elif 'test_predictions' in locals() or 'test_predictions' in globals():\n",
        "            plot_one(task, axs[1], idx, 'test', 'prediction')\n",
        "    else:\n",
        "        for i in range(num_test):      \n",
        "            plot_one(task, axs[0,i], i, 'test', 'input')\n",
        "            plot_one(task, axs[1,i], i, 'test', 'output')  \n",
        "    plt.tight_layout()\n",
        "    plt.show() \n",
        "\n",
        "\n",
        "def plot_ARC(example_num = None, path = 'training'):\n",
        "    idx = random.randint(0, 99) if example_num is None else example_num\n",
        "\n",
        "    task_file = f'{eval(path + \"_path\")}{(eval(path + \"_tasks_files\"))[idx]}'\n",
        "    with open(task_file, 'r') as f:\n",
        "        example = json.load(f)\n",
        "\n",
        "    plot_task(example, idx)"
      ]
    },
    {
      "cell_type": "code",
      "execution_count": 182,
      "metadata": {
        "id": "4Hrcf6LoqQ4n"
      },
      "outputs": [],
      "source": [
        "def padding(X, height, width):\n",
        "    h = X.shape[0]\n",
        "    w = X.shape[1]\n",
        "\n",
        "    a = (height - h) // 2\n",
        "    aa = height - a - h\n",
        "\n",
        "    b = (width - w) // 2\n",
        "    bb = width - b - w\n",
        "\n",
        "    return np.pad(X, pad_width=((a, aa), (b, bb)), mode='constant')\n",
        "\n",
        "def one_hot_encoder(X):\n",
        "    one_hot = (np.arange(10) == X[..., None]).astype(int)\n",
        "    \n",
        "    return one_hot\n",
        "\n",
        "def get_full_matrix(X_full):\n",
        "    X_full_mat = []\n",
        "    for X in X_full:\n",
        "        for i in range(len(X)):\n",
        "            X_pad = padding(np.array(X[i]), 30, 30)\n",
        "            X_one = one_hot_encoder(X_pad)\n",
        "            X_full_mat.append(X_one)\n",
        "            \n",
        "    return X_full_mat"
      ]
    },
    {
      "cell_type": "code",
      "execution_count": 168,
      "metadata": {
        "id": "mGmZe7jxWm2K"
      },
      "outputs": [],
      "source": [
        "# Transformation / Resizing still in works!\n",
        "def transform_dim(inp_dim, outp_dim, test_dim):\n",
        "    return (test_dim[0]*outp_dim[0]/inp_dim[0],\n",
        "            test_dim[1]*outp_dim[1]/inp_dim[1])\n",
        "\n",
        "def resize(x, test_dim, inp_dim):\n",
        "    if inp_dim == test_dim:\n",
        "        return x\n",
        "    else:\n",
        "        return cv2.resize(flt(x), inp_dim, interpolation=cv2.INTER_AREA)\n",
        "\n",
        "def flt(x): return np.float32(x)\n",
        "def npy(x): return x.cpu().detach().numpy()\n",
        "def itg(x): return np.int32(np.round(x))"
      ]
    },
    {
      "cell_type": "markdown",
      "metadata": {
        "id": "s780SDsKp0u9"
      },
      "source": [
        "## **Exploration**"
      ]
    },
    {
      "cell_type": "code",
      "execution_count": null,
      "metadata": {
        "colab": {
          "base_uri": "https://localhost:8080/",
          "height": 853
        },
        "id": "cIHhe1UoJ3NA",
        "outputId": "899a9f20-bd17-4a2d-b31e-0403562c5ed6"
      },
      "outputs": [
        {
          "data": {
            "image/png": "[encoded data removed]",
            "text/plain": [
              "<Figure size 864x432 with 8 Axes>"
            ]
          },
          "metadata": {},
          "output_type": "display_data"
        },
        {
          "data": {
            "image/png": "[encoded data removed]",
            "text/plain": [
              "<Figure size 216x432 with 2 Axes>"
            ]
          },
          "metadata": {},
          "output_type": "display_data"
        }
      ],
      "source": [
        "plot_ARC(12, path = \"evaluation\")"
      ]
    },
    {
      "cell_type": "code",
      "execution_count": null,
      "metadata": {
        "colab": {
          "base_uri": "https://localhost:8080/",
          "height": 542
        },
        "id": "PM6GunEWTfp0",
        "outputId": "9acb9a0f-5b38-4a07-8587-695d949094c9"
      },
      "outputs": [
        {
          "data": {
            "text/html": [
              "<html>\n",
              "<head><meta charset=\"utf-8\" /></head>\n",
              "<body>\n",
              "    <div>            <script src=\"https://cdnjs.cloudflare.com/ajax/libs/mathjax/2.7.5/MathJax.js?config=TeX-AMS-MML_SVG\"></script><script type=\"text/javascript\">if (window.MathJax) {MathJax.Hub.Config({SVG: {font: \"STIX-Web\"}});}</script>                <script type=\"text/javascript\">window.PlotlyConfig = {MathJaxConfig: 'local'};</script>\n",
              "        <script src=\"https://cdn.plot.ly/plotly-2.8.3.min.js\"></script>                <div id=\"2f1b238f-b197-4ba5-a5cc-7ba33b7c2785\" class=\"plotly-graph-div\" style=\"height:525px; width:100%;\"></div>            <script type=\"text/javascript\">                                    window.PLOTLYENV=window.PLOTLYENV || {};                                    if (document.getElementById(\"2f1b238f-b197-4ba5-a5cc-7ba33b7c2785\")) {                    Plotly.newPlot(                        \"2f1b238f-b197-4ba5-a5cc-7ba33b7c2785\",                        [{\"autobinx\":false,\"histnorm\":\"probability density\",\"legendgroup\":\"Means\",\"marker\":{\"color\":\"green\"},\"name\":\"Means\",\"opacity\":0.7,\"x\":[5.0,1.0918367346938775,0.46,1.06,0.5311111111111111,2.356060606060606,1.3333333333333333,0.125,0.0650887573964497,5.294444444444444,0.4855555555555556,3.1133333333333333,2.6980392156862747,0.013333333333333334,0.5824175824175825,1.48,6.75,2.4615384615384617,0.5391304347826087,0.05325443786982249,0.06222222222222222,1.5745192307692308,0.11904761904761904,0.6428571428571429,0.2066115702479339,0.23232323232323232,1.71875,0.8140350877192982,0.48830409356725146,1.8,7.857142857142857,2.8005540166204987,2.0434782608695654,0.95,4.111111111111111,0.9066666666666666,0.754325259515571,1.6666666666666667,1.2774725274725274,1.866153846153846,3.169230769230769,0.16608996539792387,4.190476190476191,1.6013986013986015,1.9437037037037037,0.6944444444444444,3.8933333333333335,2.4142011834319526,1.4622222222222223,2.2928,0.2013888888888889,0.12890625,1.0042105263157894,0.8266666666666667,4.258979206049149,0.5233333333333333,2.2222222222222223,1.53125,0.19909502262443438,0.8115942028985508,0.023668639053254437,3.465909090909091,4.2011111111111115,2.269230769230769,0.30153846153846153,1.09,0.8,1.08984375,2.802469135802469,6.777777777777778,3.513157894736842,3.4,0.21487603305785125,0.8224852071005917,0.3482142857142857,4.140316205533597,0.39090909090909093,5.961218836565097,0.5,4.1125,5.0175,2.0,3.433333333333333,2.566666666666667,0.96,0.0,0.8181818181818182,1.436672967863894,0.7114624505928854,3.8,2.158974358974359,0.3498452012383901,3.5555555555555554,3.24,0.42630385487528344,0.925,0.96875,1.8611111111111112,1.04,0.2277432712215321,0.02786377708978328,0.8144444444444444,0.9871794871794872,1.0769230769230769],\"xaxis\":\"x\",\"xbins\":{\"end\":7.857142857142857,\"size\":1.0,\"start\":0.0},\"yaxis\":\"y\",\"type\":\"histogram\"},{\"legendgroup\":\"Means\",\"marker\":{\"color\":\"green\"},\"mode\":\"lines\",\"name\":\"Means\",\"showlegend\":false,\"x\":[0.0,0.015714285714285712,0.031428571428571424,0.04714285714285714,0.06285714285714285,0.07857142857142857,0.09428571428571428,0.11,0.1257142857142857,0.1414285714285714,0.15714285714285714,0.17285714285714285,0.18857142857142856,0.20428571428571426,0.22,0.23571428571428568,0.2514285714285714,0.2671428571428571,0.2828571428571428,0.29857142857142854,0.3142857142857143,0.33,0.3457142857142857,0.3614285714285714,0.3771428571428571,0.39285714285714285,0.40857142857142853,0.42428571428571427,0.44,0.4557142857142857,0.47142857142857136,0.4871428571428571,0.5028571428571428,0.5185714285714286,0.5342857142857143,0.55,0.5657142857142856,0.5814285714285714,0.5971428571428571,0.6128571428571428,0.6285714285714286,0.6442857142857142,0.66,0.6757142857142857,0.6914285714285714,0.7071428571428571,0.7228571428571428,0.7385714285714285,0.7542857142857142,0.77,0.7857142857142857,0.8014285714285715,0.8171428571428571,0.8328571428571427,0.8485714285714285,0.8642857142857142,0.88,0.8957142857142857,0.9114285714285714,0.9271428571428572,0.9428571428571427,0.9585714285714285,0.9742857142857142,0.99,1.0057142857142856,1.0214285714285714,1.0371428571428571,1.052857142857143,1.0685714285714285,1.0842857142857143,1.1,1.1157142857142857,1.1314285714285712,1.147142857142857,1.1628571428571428,1.1785714285714284,1.1942857142857142,1.21,1.2257142857142855,1.2414285714285713,1.2571428571428571,1.272857142857143,1.2885714285714285,1.3042857142857143,1.32,1.3357142857142856,1.3514285714285714,1.3671428571428572,1.3828571428571428,1.3985714285714284,1.4142857142857141,1.43,1.4457142857142855,1.4614285714285713,1.477142857142857,1.4928571428571429,1.5085714285714285,1.5242857142857142,1.54,1.5557142857142856,1.5714285714285714,1.5871428571428572,1.602857142857143,1.6185714285714285,1.6342857142857141,1.65,1.6657142857142855,1.6814285714285713,1.697142857142857,1.7128571428571426,1.7285714285714284,1.7442857142857142,1.76,1.7757142857142856,1.7914285714285714,1.8071428571428572,1.8228571428571427,1.8385714285714285,1.8542857142857143,1.87,1.8857142857142855,1.9014285714285712,1.917142857142857,1.9328571428571426,1.9485714285714284,1.9642857142857142,1.98,1.9957142857142856,2.011428571428571,2.027142857142857,2.0428571428571427,2.0585714285714283,2.0742857142857143,2.09,2.105714285714286,2.121428571428571,2.137142857142857,2.1528571428571426,2.1685714285714286,2.184285714285714,2.2,2.2157142857142857,2.2314285714285713,2.247142857142857,2.2628571428571425,2.2785714285714285,2.294285714285714,2.31,2.3257142857142856,2.341428571428571,2.3571428571428568,2.3728571428571428,2.3885714285714283,2.4042857142857144,2.42,2.435714285714286,2.451428571428571,2.467142857142857,2.4828571428571427,2.498571428571428,2.5142857142857142,2.53,2.545714285714286,2.561428571428571,2.577142857142857,2.5928571428571425,2.6085714285714285,2.624285714285714,2.64,2.6557142857142857,2.6714285714285713,2.687142857142857,2.702857142857143,2.7185714285714284,2.7342857142857144,2.75,2.7657142857142856,2.781428571428571,2.7971428571428567,2.8128571428571427,2.8285714285714283,2.8442857142857143,2.86,2.875714285714286,2.891428571428571,2.907142857142857,2.9228571428571426,2.9385714285714286,2.954285714285714,2.97,2.9857142857142858,3.001428571428571,3.017142857142857,3.0328571428571425,3.0485714285714285,3.064285714285714,3.08,3.0957142857142856,3.111428571428571,3.127142857142857,3.142857142857143,3.1585714285714284,3.1742857142857144,3.19,3.205714285714286,3.221428571428571,3.237142857142857,3.2528571428571427,3.2685714285714282,3.2842857142857143,3.3,3.315714285714286,3.331428571428571,3.347142857142857,3.3628571428571425,3.3785714285714286,3.394285714285714,3.41,3.4257142857142853,3.4414285714285713,3.457142857142857,3.472857142857143,3.4885714285714284,3.504285714285714,3.52,3.535714285714285,3.551428571428571,3.5671428571428567,3.5828571428571427,3.5985714285714283,3.6142857142857143,3.63,3.6457142857142855,3.661428571428571,3.677142857142857,3.6928571428571426,3.7085714285714286,3.724285714285714,3.74,3.7557142857142853,3.771428571428571,3.787142857142857,3.8028571428571425,3.8185714285714285,3.834285714285714,3.85,3.865714285714285,3.8814285714285712,3.897142857142857,3.912857142857143,3.9285714285714284,3.9442857142857144,3.96,3.9757142857142855,3.991428571428571,4.007142857142857,4.022857142857142,4.038571428571428,4.054285714285714,4.07,4.085714285714285,4.101428571428571,4.1171428571428565,4.132857142857143,4.148571428571429,4.164285714285714,4.18,4.195714285714286,4.211428571428572,4.227142857142857,4.242857142857142,4.258571428571428,4.274285714285714,4.29,4.305714285714285,4.321428571428571,4.337142857142857,4.352857142857142,4.368571428571428,4.3842857142857135,4.4,4.4157142857142855,4.4314285714285715,4.447142857142857,4.462857142857143,4.478571428571429,4.494285714285714,4.51,4.525714285714285,4.541428571428572,4.557142857142857,4.572857142857142,4.588571428571428,4.604285714285714,4.62,4.635714285714285,4.651428571428571,4.667142857142857,4.682857142857142,4.698571428571428,4.7142857142857135,4.73,4.7457142857142856,4.761428571428572,4.777142857142857,4.792857142857142,4.808571428571429,4.824285714285714,4.84,4.855714285714285,4.871428571428572,4.887142857142857,4.902857142857142,4.918571428571428,4.934285714285714,4.95,4.965714285714285,4.981428571428571,4.997142857142856,5.0128571428571425,5.0285714285714285,5.044285714285714,5.06,5.075714285714286,5.091428571428572,5.107142857142857,5.122857142857142,5.138571428571429,5.154285714285714,5.17,5.185714285714285,5.201428571428572,5.217142857142857,5.232857142857142,5.248571428571428,5.264285714285713,5.28,5.295714285714285,5.311428571428571,5.3271428571428565,5.3428571428571425,5.3585714285714285,5.374285714285714,5.39,5.405714285714286,5.421428571428572,5.437142857142857,5.452857142857142,5.468571428571429,5.484285714285714,5.5,5.515714285714285,5.531428571428571,5.547142857142857,5.562857142857142,5.578571428571428,5.594285714285713,5.61,5.6257142857142854,5.6414285714285715,5.657142857142857,5.672857142857143,5.688571428571429,5.704285714285714,5.72,5.735714285714286,5.751428571428572,5.767142857142857,5.782857142857142,5.798571428571428,5.814285714285714,5.83,5.845714285714285,5.861428571428571,5.877142857142857,5.892857142857142,5.908571428571428,5.9242857142857135,5.94,5.9557142857142855,5.9714285714285715,5.987142857142857,6.002857142857142,6.018571428571429,6.034285714285714,6.05,6.065714285714285,6.081428571428572,6.097142857142857,6.112857142857142,6.128571428571428,6.144285714285714,6.16,6.175714285714285,6.191428571428571,6.207142857142857,6.222857142857142,6.238571428571428,6.254285714285714,6.27,6.285714285714286,6.301428571428572,6.317142857142857,6.332857142857142,6.348571428571429,6.364285714285714,6.38,6.395714285714285,6.411428571428572,6.427142857142857,6.442857142857142,6.458571428571428,6.474285714285714,6.49,6.505714285714285,6.521428571428571,6.5371428571428565,6.5528571428571425,6.5685714285714285,6.584285714285714,6.6,6.615714285714286,6.631428571428572,6.647142857142857,6.662857142857142,6.678571428571429,6.694285714285714,6.71,6.725714285714285,6.74142857142857,6.757142857142857,6.772857142857142,6.788571428571428,6.804285714285713,6.82,6.835714285714285,6.8514285714285705,6.8671428571428565,6.882857142857143,6.898571428571429,6.914285714285714,6.93,6.945714285714286,6.961428571428571,6.977142857142857,6.992857142857142,7.008571428571428,7.024285714285714,7.04,7.055714285714285,7.07142857142857,7.087142857142857,7.102857142857142,7.118571428571428,7.1342857142857135,7.15,7.1657142857142855,7.181428571428571,7.197142857142857,7.212857142857143,7.228571428571429,7.244285714285714,7.26,7.275714285714285,7.291428571428571,7.307142857142857,7.322857142857142,7.338571428571428,7.354285714285714,7.37,7.385714285714285,7.40142857142857,7.417142857142857,7.432857142857142,7.448571428571428,7.4642857142857135,7.48,7.4957142857142856,7.511428571428571,7.527142857142857,7.542857142857142,7.558571428571429,7.574285714285714,7.59,7.605714285714285,7.621428571428571,7.637142857142857,7.652857142857142,7.668571428571428,7.684285714285714,7.7,7.715714285714285,7.73142857142857,7.747142857142856,7.7628571428571425,7.7785714285714285,7.794285714285714,7.81,7.825714285714286,7.841428571428571],\"xaxis\":\"x\",\"y\":[0.21589190053336454,0.2192134001587984,0.22250026908270124,0.22574988747621222,0.2289596639463246,0.23212703977633256,0.23524949311166346,0.2383245430810259,0.24134975384300475,0.2443227385484791,0.24724116320949704,0.25010275046553987,0.2529052832384218,0.2556466082674207,0.25832463951659324,0.2609373614466239,0.26348283214395524,0.2659591863003783,0.2683646380366971,0.2706974835645389,0.2729561036808456,0.27513896609006405,0.27724462754953355,0.2792717358340674,0.2812190315162202,0.2830853495592394,0.2848696207202,0.2865708727613287,0.28818823146803013,0.2897209214726229,0.2911682668832977,0.29252969171829685,0.29380472014580283,0.29499297653049916,0.2960941852882372,0.2971081705506978,0.2980348556423893,0.2988742623727496,0.2996265101465547,0.30029181489622864,0.30087048784005854,0.30136293407068937,0.30176965097863256,0.3020912265158793,0.3023283373050283,0.30248174659965776,0.3025523021019601,0.30254093364393847,0.302448650738723,0.30227654000879484,0.3020257624981455,0.3016975508755782,0.3012932065365583,0.30081409661117425,0.30026165088591705,0.2996373586471096,0.2989427654539223,0.29817946984899807,0.297349120014772,0.29645341038362266,0.29549407821001067,0.29447290011277744,0.2933916885957538,0.2922522885548053,0.29105657377938704,0.28980644345660767,0.2885038186857228,0.2871506390108578,0.2857488589796499,0.28430044473533783,0.2828073706496855,0.28127161600392814,0.27969516172474607,0.2780799871820549,0.27642806705516726,0.27474136827364376,0.2730218470388835,0.27127144593223507,0.2694920911151186,0.2676856896263445,0.2658541267815053,0.263999263678985,0.26212293481679966,0.26022694582412687,0.25831307131103587,0.2563830528395549,0.254438597018851,0.2524813737269098,0.2505130144607301,0.2485351108166515,0.24654921310205505,0.24455682907927606,0.24255942284218573,0.24055841382550314,0.2385551759465146,0.23655103687849252,0.23454727745472795,0.23254513120171524,0.23054578399966405,0.22855037386815816,0.22655999087442816,0.22457567716137355,0.2225984270921451,0.22062918750778224,0.2186688580941141,0.21671829185383817,0.21477829567943887,0.21284963102235252,0.21093301465355724,0.20902911951056047,0.20713857562555993,0.20526197112938718,0.20339985332569457,0.20155272982971123,0.19972106976579876,0.19790530501794035,0.19610583152724353,0.194323010630492,0.19255717043376788,0.1908086072151645,0.18907758685064316,0.18736434625713086,0.18566909484702596,0.18399201598837076,0.1823332684650628,0.18069298793160127,0.17907128835702107,0.17746826345283387,0.17588398807997704,0.1743185196299799,0.1727718993757699,0.17124415378777258,0.16973529581121324,0.16824532610077103,0.16677423420902054,0.16532199972536327,0.1638885933624435,0.16247397798733695,0.1610781095950966,0.15970093822254974,0.1583424088005461,0.15700246194316111,0.15568103467267952,0.15437806107948168,0.15309347291626943,0.15182720012637,0.15057917130615409,0.14934931410189958,0.14813755554171634,0.14694382230342756,0.14576804091956955,0.14461013792093266,0.14347003992031213,0.14234767363837356,0.14124296587375962,0.14015584341977325,0.1390862329301702,0.1380340607367681,0.1369992526217492,0.13598173354767776,0.13498142734838992,0.13399825638402557,0.13303214116357395,0.13208299993838626,0.1311507482701728,0.130235298577056,0.12933655966127527,0.12845443622216346,0.12758882835800864,0.12673963106040353,0.12590673370464853,0.12509001953973314,0.12428936518135492,0.1235046401113651,0.12273570618693883,0.12198241716266905,0.12124461822867152,0.12052214556766505,0.11981482593385737,0.11912247625632477,0.1184449032694253,0.11778190317261973,0.11713326132191725,0.1164987519549864,0.1158781379517952,0.11527117063246765,0.11467758959385466,0.11409712258613663,0.1135294854305834,0.11297438197940902,0.11243150411847283,0.11190053181338826,0.11138113319941469,0.11087296471532668,0.11037567128126921,0.1098888865204356,0.10941223302422688,0.10894532266038671,0.10848775692343907,0.10803912732660174,0.10759901583419422,0.10716699533341476,0.10674263014422265,0.10632547656593026,0.10591508345898405,0.10551099286030008,0.10511274063040549,0.10471985713053986,0.10433186792777562,0.10394829452612876,0.10356865512155562,0.10319246537865917,0.10281923922686682,0.10244848967378589,0.10207972963339644,0.10171247276670167,0.1013462343324211,0.100980532045291,0.10061488693951484,0.10024882423489657,0.09988187420318696,0.09951357303217298,0.09914346368505161,0.09877109675264376,0.09839603129602562,0.09801783567718332,0.09763608837532926,0.09725037878655926,0.09686030800457382,0.09646548958023876,0.09606555025781503,0.09566013068575188,0.09524888610000067,0.09483148697788252,0.09440761966061752,0.09397698694270523,0.09353930862643542,0.09309432203989641,0.09264178251694777,0.0921814638377213,0.09171315862832385,0.09123667871852098,0.09075185545629597,0.09025853997829664,0.08975660343530253,0.0892459371719701,0.08872645286024308,0.0881980825859449,0.0876607788882055,0.08711451475151061,0.08655928355030129,0.08599509894619217,0.08542199473801936,0.08484002466507064,0.08424926216399922,0.08364980008005954,0.08304175033345561,0.08242524354172748,0.08180042859925137,0.08116747221506211,0.08052655841034717,0.0798778879770975,0.07922167789952797,0.07855816074000893,0.07788758399137216,0.07721020939756996,0.07652631224477835,0.07583618062513578,0.07514011467541001,0.07443842579297018,0.07373143583152411,0.07301947627915253,0.07230288742123366,0.07158201749090344,0.07085722180974252,0.07012886192140864,0.06939730472095904,0.06866292158261388,0.06792608748871325,0.06718718016260634,0.06644657920818912,0.06570466525876936,0.06496181913789253,0.06421842103470424,0.06347484969635307,0.0627314816398607,0.0619886903857921,0.06124684571595929,0.060506312957281046,0.05976745229379824,0.059030618108719686,0.058296158358230016,0.05756441397865328,0.05683571832840735,0.0561103966660323,0.055388765665408644,0.05467113296911758,0.053957796780721885,0.05324904549657418,0.052545157377583696,0.0518464002611963,0.051153031313667635,0.050465296822533943,0.0497834320290108,0.049107660999884346,0.04843819653828725,0.04777524013259686,0.04711898194253134,0.04646960082137296,0.04582726437310558,0.045192129043115044,0.04456434024098008,0.043944032493758375,0.0433313296280697,0.04272634497917749,0.04212918162518425,0.04153993264438085,0.0409586813937234,0.040385501806360885,0.039820458706091126,0.039263608136597725,0.03871499770329741,0.03817466692562513,0.03764264759758659,0.03711896415442536,0.03660363404327988,0.03609666809574336,0.035598070900288964,0.035107841172581686,0.03462597212176596,0.034152451810898085,0.033687263509774044,0.03323038603850257,0.032781794100268935,0.03234145860184617,0.03190934696052147,0.031485423396224704,0.031069649207767447,0.030661983032228054,0.03026238108664618,0.029870797391320862,0.02948718397413904,0.029111491055492864,0.028743667213476293,0.028383659529184074,0.028031413712063215,0.027686874205396658,0.027349984272120587,0.027020686061299294,0.02669892065569592,0.026384628100989408,0.02607774741729429,0.025778216593739283,0.025485972566955645,0.025200951184412193,0.02492308715361592,0.024652313978268534,0.02438856388253586,0.024131767724644947,0.023881854901072194,0.023638753242629606,0.023402388903788488,0.023172686246606213,0.022949567720638737,0.022732953740231338,0.02252276256058074,0.022318910153955738,0.022121310087448907,0.021929873403609995,0.02174450850528282,0.021565121045930957,0.021391613826694352,0.021223886701370303,0.021061836490455857,0.020905356905327768,0.020754338483569414,0.020608668536382373,0.020468231108944083,0.020332906954492518,0.020202573522835002,0.020077104963890383,0.019956372146784467,0.01984024269492527,0.019728581037390884,0.019621248476867043,0.01951810327427433,0.01941900075012884,0.019323793402582272,0.01923233104199137,0.019144460941771215,0.019060028005192468,0.01897887494769092,0.018900842494167368,0.018825769590669336,0.01875349362976138,0.018683850688811468,0.018616675780343258,0.01855180311353304,0.018489066365861884,0.018428298963871503,0.01836933437191508,0.01831200638774242,0.018256149443713482,0.018201598912394087,0.01814819141525467,0.018095765133165513,0.018044160117361742,0.017993218599537588,0.017942785299722343,0.017892707730591033,0.01784283649686841,0.01779302558850028,0.01774313266628508,0.017693019338686982,0.01764255142858523,0.017591599228755066,0.017540037744922236,0.017487746925285763,0.01743461187546282,0.017380523057873364,0.01732537647465196,0.01726907383324878,0.017211522693960882,0.01715263659871783,0.017092335180533238,0.017030544253123635,0.01696719588028992,0.016902228424751364,0.016835586576220578,0.01676722135860578,0.016697090116327116,0.01662515647983297,0.016551390310502734,0.016475767625220822,0.01639827050100451,0.016318886960164238,0.016237610836567943,0.01615444162367177,0.01606938430506654,0.01598244916837252,0.015893651603393736,0.015803011885517308,0.015710554945411858,0.015616310126142374,0.015520310928875859,0.015422594748403358,0.015323202599747697,0.01522217883716446,0.015119570866873207,0.015015428854880058,0.014909805431267782,0.014802755392338475,0.014694335401994682,0.01458460369373794,0.014473619774650599,0.014361444132704277,0.014248137948711447,0.014133762814199603,0.014018380456446515,0.013902052471865883,0.013784840068877731,0.01366680382133773,0.013548003433532612,0.01342849751767872,0.013308343384783913,0.013187596849653723,0.01306631205073884,0.012944541285434196,0.012822334861350869,0.012699740963990094,0.012576805541156406,0.012453572204352406,0.012330082147303963,0.012206374081670156,0.012082484189898978,0.011958446095097917,0.01183429084769788,0.011710046928601434,0.01158574026842045,0.011461394282327118,0.011337029919963817,0.011212665729783161,0.01108831793712081,0.010964000535238272,0.010839725388514724,0.010715502346912242,0.01059133937079182,0.01046724266511493,0.010343216822030156,0.010219264970814997,0.010095388934119494,0.0099715893894424,0.009847866034759878,0.00972421775722331,0.009600642803845335,0.009477138953101859,0.009353703686392871,0.009230334358325435,0.009107028364808683,0.008983783307982399],\"yaxis\":\"y\",\"type\":\"scatter\"},{\"legendgroup\":\"Means\",\"marker\":{\"color\":\"green\",\"symbol\":\"line-ns-open\"},\"mode\":\"markers\",\"name\":\"Means\",\"showlegend\":false,\"x\":[5.0,1.0918367346938775,0.46,1.06,0.5311111111111111,2.356060606060606,1.3333333333333333,0.125,0.0650887573964497,5.294444444444444,0.4855555555555556,3.1133333333333333,2.6980392156862747,0.013333333333333334,0.5824175824175825,1.48,6.75,2.4615384615384617,0.5391304347826087,0.05325443786982249,0.06222222222222222,1.5745192307692308,0.11904761904761904,0.6428571428571429,0.2066115702479339,0.23232323232323232,1.71875,0.8140350877192982,0.48830409356725146,1.8,7.857142857142857,2.8005540166204987,2.0434782608695654,0.95,4.111111111111111,0.9066666666666666,0.754325259515571,1.6666666666666667,1.2774725274725274,1.866153846153846,3.169230769230769,0.16608996539792387,4.190476190476191,1.6013986013986015,1.9437037037037037,0.6944444444444444,3.8933333333333335,2.4142011834319526,1.4622222222222223,2.2928,0.2013888888888889,0.12890625,1.0042105263157894,0.8266666666666667,4.258979206049149,0.5233333333333333,2.2222222222222223,1.53125,0.19909502262443438,0.8115942028985508,0.023668639053254437,3.465909090909091,4.2011111111111115,2.269230769230769,0.30153846153846153,1.09,0.8,1.08984375,2.802469135802469,6.777777777777778,3.513157894736842,3.4,0.21487603305785125,0.8224852071005917,0.3482142857142857,4.140316205533597,0.39090909090909093,5.961218836565097,0.5,4.1125,5.0175,2.0,3.433333333333333,2.566666666666667,0.96,0.0,0.8181818181818182,1.436672967863894,0.7114624505928854,3.8,2.158974358974359,0.3498452012383901,3.5555555555555554,3.24,0.42630385487528344,0.925,0.96875,1.8611111111111112,1.04,0.2277432712215321,0.02786377708978328,0.8144444444444444,0.9871794871794872,1.0769230769230769],\"xaxis\":\"x\",\"y\":[\"Means\",\"Means\",\"Means\",\"Means\",\"Means\",\"Means\",\"Means\",\"Means\",\"Means\",\"Means\",\"Means\",\"Means\",\"Means\",\"Means\",\"Means\",\"Means\",\"Means\",\"Means\",\"Means\",\"Means\",\"Means\",\"Means\",\"Means\",\"Means\",\"Means\",\"Means\",\"Means\",\"Means\",\"Means\",\"Means\",\"Means\",\"Means\",\"Means\",\"Means\",\"Means\",\"Means\",\"Means\",\"Means\",\"Means\",\"Means\",\"Means\",\"Means\",\"Means\",\"Means\",\"Means\",\"Means\",\"Means\",\"Means\",\"Means\",\"Means\",\"Means\",\"Means\",\"Means\",\"Means\",\"Means\",\"Means\",\"Means\",\"Means\",\"Means\",\"Means\",\"Means\",\"Means\",\"Means\",\"Means\",\"Means\",\"Means\",\"Means\",\"Means\",\"Means\",\"Means\",\"Means\",\"Means\",\"Means\",\"Means\",\"Means\",\"Means\",\"Means\",\"Means\",\"Means\",\"Means\",\"Means\",\"Means\",\"Means\",\"Means\",\"Means\",\"Means\",\"Means\",\"Means\",\"Means\",\"Means\",\"Means\",\"Means\",\"Means\",\"Means\",\"Means\",\"Means\",\"Means\",\"Means\",\"Means\",\"Means\",\"Means\",\"Means\",\"Means\",\"Means\"],\"yaxis\":\"y2\",\"type\":\"scatter\"}],                        {\"barmode\":\"overlay\",\"hovermode\":\"closest\",\"legend\":{\"traceorder\":\"reversed\"},\"xaxis\":{\"anchor\":\"y2\",\"domain\":[0.0,1.0],\"zeroline\":false},\"yaxis\":{\"anchor\":\"free\",\"domain\":[0.35,1],\"position\":0.0},\"yaxis2\":{\"anchor\":\"x\",\"domain\":[0,0.25],\"dtick\":1,\"showticklabels\":false},\"template\":{\"data\":{\"bar\":[{\"error_x\":{\"color\":\"#2a3f5f\"},\"error_y\":{\"color\":\"#2a3f5f\"},\"marker\":{\"line\":{\"color\":\"#E5ECF6\",\"width\":0.5},\"pattern\":{\"fillmode\":\"overlay\",\"size\":10,\"solidity\":0.2}},\"type\":\"bar\"}],\"barpolar\":[{\"marker\":{\"line\":{\"color\":\"#E5ECF6\",\"width\":0.5},\"pattern\":{\"fillmode\":\"overlay\",\"size\":10,\"solidity\":0.2}},\"type\":\"barpolar\"}],\"carpet\":[{\"aaxis\":{\"endlinecolor\":\"#2a3f5f\",\"gridcolor\":\"white\",\"linecolor\":\"white\",\"minorgridcolor\":\"white\",\"startlinecolor\":\"#2a3f5f\"},\"baxis\":{\"endlinecolor\":\"#2a3f5f\",\"gridcolor\":\"white\",\"linecolor\":\"white\",\"minorgridcolor\":\"white\",\"startlinecolor\":\"#2a3f5f\"},\"type\":\"carpet\"}],\"choropleth\":[{\"colorbar\":{\"outlinewidth\":0,\"ticks\":\"\"},\"type\":\"choropleth\"}],\"contour\":[{\"colorbar\":{\"outlinewidth\":0,\"ticks\":\"\"},\"colorscale\":[[0.0,\"#0d0887\"],[0.1111111111111111,\"#46039f\"],[0.2222222222222222,\"#7201a8\"],[0.3333333333333333,\"#9c179e\"],[0.4444444444444444,\"#bd3786\"],[0.5555555555555556,\"#d8576b\"],[0.6666666666666666,\"#ed7953\"],[0.7777777777777778,\"#fb9f3a\"],[0.8888888888888888,\"#fdca26\"],[1.0,\"#f0f921\"]],\"type\":\"contour\"}],\"contourcarpet\":[{\"colorbar\":{\"outlinewidth\":0,\"ticks\":\"\"},\"type\":\"contourcarpet\"}],\"heatmap\":[{\"colorbar\":{\"outlinewidth\":0,\"ticks\":\"\"},\"colorscale\":[[0.0,\"#0d0887\"],[0.1111111111111111,\"#46039f\"],[0.2222222222222222,\"#7201a8\"],[0.3333333333333333,\"#9c179e\"],[0.4444444444444444,\"#bd3786\"],[0.5555555555555556,\"#d8576b\"],[0.6666666666666666,\"#ed7953\"],[0.7777777777777778,\"#fb9f3a\"],[0.8888888888888888,\"#fdca26\"],[1.0,\"#f0f921\"]],\"type\":\"heatmap\"}],\"heatmapgl\":[{\"colorbar\":{\"outlinewidth\":0,\"ticks\":\"\"},\"colorscale\":[[0.0,\"#0d0887\"],[0.1111111111111111,\"#46039f\"],[0.2222222222222222,\"#7201a8\"],[0.3333333333333333,\"#9c179e\"],[0.4444444444444444,\"#bd3786\"],[0.5555555555555556,\"#d8576b\"],[0.6666666666666666,\"#ed7953\"],[0.7777777777777778,\"#fb9f3a\"],[0.8888888888888888,\"#fdca26\"],[1.0,\"#f0f921\"]],\"type\":\"heatmapgl\"}],\"histogram\":[{\"marker\":{\"pattern\":{\"fillmode\":\"overlay\",\"size\":10,\"solidity\":0.2}},\"type\":\"histogram\"}],\"histogram2d\":[{\"colorbar\":{\"outlinewidth\":0,\"ticks\":\"\"},\"colorscale\":[[0.0,\"#0d0887\"],[0.1111111111111111,\"#46039f\"],[0.2222222222222222,\"#7201a8\"],[0.3333333333333333,\"#9c179e\"],[0.4444444444444444,\"#bd3786\"],[0.5555555555555556,\"#d8576b\"],[0.6666666666666666,\"#ed7953\"],[0.7777777777777778,\"#fb9f3a\"],[0.8888888888888888,\"#fdca26\"],[1.0,\"#f0f921\"]],\"type\":\"histogram2d\"}],\"histogram2dcontour\":[{\"colorbar\":{\"outlinewidth\":0,\"ticks\":\"\"},\"colorscale\":[[0.0,\"#0d0887\"],[0.1111111111111111,\"#46039f\"],[0.2222222222222222,\"#7201a8\"],[0.3333333333333333,\"#9c179e\"],[0.4444444444444444,\"#bd3786\"],[0.5555555555555556,\"#d8576b\"],[0.6666666666666666,\"#ed7953\"],[0.7777777777777778,\"#fb9f3a\"],[0.8888888888888888,\"#fdca26\"],[1.0,\"#f0f921\"]],\"type\":\"histogram2dcontour\"}],\"mesh3d\":[{\"colorbar\":{\"outlinewidth\":0,\"ticks\":\"\"},\"type\":\"mesh3d\"}],\"parcoords\":[{\"line\":{\"colorbar\":{\"outlinewidth\":0,\"ticks\":\"\"}},\"type\":\"parcoords\"}],\"pie\":[{\"automargin\":true,\"type\":\"pie\"}],\"scatter\":[{\"marker\":{\"colorbar\":{\"outlinewidth\":0,\"ticks\":\"\"}},\"type\":\"scatter\"}],\"scatter3d\":[{\"line\":{\"colorbar\":{\"outlinewidth\":0,\"ticks\":\"\"}},\"marker\":{\"colorbar\":{\"outlinewidth\":0,\"ticks\":\"\"}},\"type\":\"scatter3d\"}],\"scattercarpet\":[{\"marker\":{\"colorbar\":{\"outlinewidth\":0,\"ticks\":\"\"}},\"type\":\"scattercarpet\"}],\"scattergeo\":[{\"marker\":{\"colorbar\":{\"outlinewidth\":0,\"ticks\":\"\"}},\"type\":\"scattergeo\"}],\"scattergl\":[{\"marker\":{\"colorbar\":{\"outlinewidth\":0,\"ticks\":\"\"}},\"type\":\"scattergl\"}],\"scattermapbox\":[{\"marker\":{\"colorbar\":{\"outlinewidth\":0,\"ticks\":\"\"}},\"type\":\"scattermapbox\"}],\"scatterpolar\":[{\"marker\":{\"colorbar\":{\"outlinewidth\":0,\"ticks\":\"\"}},\"type\":\"scatterpolar\"}],\"scatterpolargl\":[{\"marker\":{\"colorbar\":{\"outlinewidth\":0,\"ticks\":\"\"}},\"type\":\"scatterpolargl\"}],\"scatterternary\":[{\"marker\":{\"colorbar\":{\"outlinewidth\":0,\"ticks\":\"\"}},\"type\":\"scatterternary\"}],\"surface\":[{\"colorbar\":{\"outlinewidth\":0,\"ticks\":\"\"},\"colorscale\":[[0.0,\"#0d0887\"],[0.1111111111111111,\"#46039f\"],[0.2222222222222222,\"#7201a8\"],[0.3333333333333333,\"#9c179e\"],[0.4444444444444444,\"#bd3786\"],[0.5555555555555556,\"#d8576b\"],[0.6666666666666666,\"#ed7953\"],[0.7777777777777778,\"#fb9f3a\"],[0.8888888888888888,\"#fdca26\"],[1.0,\"#f0f921\"]],\"type\":\"surface\"}],\"table\":[{\"cells\":{\"fill\":{\"color\":\"#EBF0F8\"},\"line\":{\"color\":\"white\"}},\"header\":{\"fill\":{\"color\":\"#C8D4E3\"},\"line\":{\"color\":\"white\"}},\"type\":\"table\"}]},\"layout\":{\"annotationdefaults\":{\"arrowcolor\":\"#2a3f5f\",\"arrowhead\":0,\"arrowwidth\":1},\"autotypenumbers\":\"strict\",\"coloraxis\":{\"colorbar\":{\"outlinewidth\":0,\"ticks\":\"\"}},\"colorscale\":{\"diverging\":[[0,\"#8e0152\"],[0.1,\"#c51b7d\"],[0.2,\"#de77ae\"],[0.3,\"#f1b6da\"],[0.4,\"#fde0ef\"],[0.5,\"#f7f7f7\"],[0.6,\"#e6f5d0\"],[0.7,\"#b8e186\"],[0.8,\"#7fbc41\"],[0.9,\"#4d9221\"],[1,\"#276419\"]],\"sequential\":[[0.0,\"#0d0887\"],[0.1111111111111111,\"#46039f\"],[0.2222222222222222,\"#7201a8\"],[0.3333333333333333,\"#9c179e\"],[0.4444444444444444,\"#bd3786\"],[0.5555555555555556,\"#d8576b\"],[0.6666666666666666,\"#ed7953\"],[0.7777777777777778,\"#fb9f3a\"],[0.8888888888888888,\"#fdca26\"],[1.0,\"#f0f921\"]],\"sequentialminus\":[[0.0,\"#0d0887\"],[0.1111111111111111,\"#46039f\"],[0.2222222222222222,\"#7201a8\"],[0.3333333333333333,\"#9c179e\"],[0.4444444444444444,\"#bd3786\"],[0.5555555555555556,\"#d8576b\"],[0.6666666666666666,\"#ed7953\"],[0.7777777777777778,\"#fb9f3a\"],[0.8888888888888888,\"#fdca26\"],[1.0,\"#f0f921\"]]},\"colorway\":[\"#636efa\",\"#EF553B\",\"#00cc96\",\"#ab63fa\",\"#FFA15A\",\"#19d3f3\",\"#FF6692\",\"#B6E880\",\"#FF97FF\",\"#FECB52\"],\"font\":{\"color\":\"#2a3f5f\"},\"geo\":{\"bgcolor\":\"white\",\"lakecolor\":\"white\",\"landcolor\":\"#E5ECF6\",\"showlakes\":true,\"showland\":true,\"subunitcolor\":\"white\"},\"hoverlabel\":{\"align\":\"left\"},\"hovermode\":\"closest\",\"mapbox\":{\"style\":\"light\"},\"paper_bgcolor\":\"white\",\"plot_bgcolor\":\"#E5ECF6\",\"polar\":{\"angularaxis\":{\"gridcolor\":\"white\",\"linecolor\":\"white\",\"ticks\":\"\"},\"bgcolor\":\"#E5ECF6\",\"radialaxis\":{\"gridcolor\":\"white\",\"linecolor\":\"white\",\"ticks\":\"\"}},\"scene\":{\"xaxis\":{\"backgroundcolor\":\"#E5ECF6\",\"gridcolor\":\"white\",\"gridwidth\":2,\"linecolor\":\"white\",\"showbackground\":true,\"ticks\":\"\",\"zerolinecolor\":\"white\"},\"yaxis\":{\"backgroundcolor\":\"#E5ECF6\",\"gridcolor\":\"white\",\"gridwidth\":2,\"linecolor\":\"white\",\"showbackground\":true,\"ticks\":\"\",\"zerolinecolor\":\"white\"},\"zaxis\":{\"backgroundcolor\":\"#E5ECF6\",\"gridcolor\":\"white\",\"gridwidth\":2,\"linecolor\":\"white\",\"showbackground\":true,\"ticks\":\"\",\"zerolinecolor\":\"white\"}},\"shapedefaults\":{\"line\":{\"color\":\"#2a3f5f\"}},\"ternary\":{\"aaxis\":{\"gridcolor\":\"white\",\"linecolor\":\"white\",\"ticks\":\"\"},\"baxis\":{\"gridcolor\":\"white\",\"linecolor\":\"white\",\"ticks\":\"\"},\"bgcolor\":\"#E5ECF6\",\"caxis\":{\"gridcolor\":\"white\",\"linecolor\":\"white\",\"ticks\":\"\"}},\"title\":{\"x\":0.05},\"xaxis\":{\"automargin\":true,\"gridcolor\":\"white\",\"linecolor\":\"white\",\"ticks\":\"\",\"title\":{\"standoff\":15},\"zerolinecolor\":\"white\",\"zerolinewidth\":2},\"yaxis\":{\"automargin\":true,\"gridcolor\":\"white\",\"linecolor\":\"white\",\"ticks\":\"\",\"title\":{\"standoff\":15},\"zerolinecolor\":\"white\",\"zerolinewidth\":2}}},\"title\":{\"text\":\"Distribution of matrix mean values\"}},                        {\"responsive\": true}                    ).then(function(){\n",
              "                            \n",
              "var gd = document.getElementById('2f1b238f-b197-4ba5-a5cc-7ba33b7c2785');\n",
              "var x = new MutationObserver(function (mutations, observer) {{\n",
              "        var display = window.getComputedStyle(gd).display;\n",
              "        if (!display || display === 'none') {{\n",
              "            console.log([gd, 'removed!']);\n",
              "            Plotly.purge(gd);\n",
              "            observer.disconnect();\n",
              "        }}\n",
              "}});\n",
              "\n",
              "// Listen for the removal of the full notebook cells\n",
              "var notebookContainer = gd.closest('#notebook-container');\n",
              "if (notebookContainer) {{\n",
              "    x.observe(notebookContainer, {childList: true});\n",
              "}}\n",
              "\n",
              "// Listen for the clearing of the current output cell\n",
              "var outputEl = gd.closest('.output');\n",
              "if (outputEl) {{\n",
              "    x.observe(outputEl, {childList: true});\n",
              "}}\n",
              "\n",
              "                        })                };                            </script>        </div>\n",
              "</body>\n",
              "</html>"
            ]
          },
          "metadata": {},
          "output_type": "display_data"
        }
      ],
      "source": [
        "means = [np.mean(matrix) for matrix in matrices]\n",
        "fig = ff.create_distplot([means], group_labels=[\"Means\"], colors=[\"green\"])\n",
        "fig.update_layout(title_text=\"Distribution of matrix mean values\")"
      ]
    },
    {
      "cell_type": "code",
      "execution_count": null,
      "metadata": {
        "colab": {
          "base_uri": "https://localhost:8080/",
          "height": 901
        },
        "id": "3zyoHYF3XQSd",
        "outputId": "37e1d284-dd9b-41d1-a0aa-d56cdb110b2d"
      },
      "outputs": [
        {
          "data": {
            "image/png": "[encoded data removed]",
            "text/plain": [
              "<Figure size 432x432 with 3 Axes>"
            ]
          },
          "metadata": {},
          "output_type": "display_data"
        },
        {
          "data": {
            "image/png": "[encoded data removed]",
            "text/plain": [
              "<Figure size 432x432 with 3 Axes>"
            ]
          },
          "metadata": {},
          "output_type": "display_data"
        }
      ],
      "source": [
        "heights = [np.shape(matrix)[0] for matrix in matrices]\n",
        "widths = [np.shape(matrix)[1] for matrix in matrices]\n",
        "\n",
        "plot = sns.jointplot(x=widths, y=heights, kind=\"kde\", fill=True, thresh = 0.09, color=\"blueviolet\")\n",
        "plot.set_axis_labels(xlabel=\"Width\", ylabel=\"Height\", fontsize=14)\n",
        "plt.show(plot)\n",
        "\n",
        "plot = sns.jointplot(x=widths, y=heights, kind=\"reg\", color=\"blueviolet\")\n",
        "plot.set_axis_labels(xlabel=\"Width\", ylabel=\"Height\", fontsize=14)\n",
        "plt.show(plot)"
      ]
    },
    {
      "cell_type": "markdown",
      "metadata": {
        "id": "QXmGhTPqp6AG"
      },
      "source": [
        "## **Training**"
      ]
    },
    {
      "cell_type": "code",
      "execution_count": 183,
      "metadata": {
        "id": "GP9zDHPcGm8k"
      },
      "outputs": [],
      "source": [
        "class ARCDataset(Dataset):\n",
        "    def __init__(self, X, y, stage=\"train\"):\n",
        "        self.X = get_full_matrix(X)\n",
        "        self.stage = stage\n",
        "        if self.stage == \"train\":\n",
        "            self.y = get_full_matrix(y)\n",
        "        \n",
        "    def __len__(self):\n",
        "        return len(self.X)\n",
        "    \n",
        "    def __getitem__(self, idx):\n",
        "        inp = self.X[idx]\n",
        "        inp = torch.tensor(inp, dtype=torch.float32)\n",
        "\n",
        "        if self.stage == \"train\":\n",
        "            outp = self.y[idx]\n",
        "            outp = torch.tensor(outp, dtype=torch.float32)\n",
        "\n",
        "        return inp, outp"
      ]
    },
    {
      "cell_type": "code",
      "execution_count": 196,
      "metadata": {
        "id": "unHmrO8r-3ED"
      },
      "outputs": [],
      "source": [
        "class VariationalAutoencoder(nn.Module):\n",
        "    def __init__(self, img_channels=30, feature_dim=32*20*20, latent_dim=256):\n",
        "        super(VariationalAutoencoder, self).__init__()\n",
        "\n",
        "        # Initializing the 2 convolutional layers and 2 full-connected layers for the encoder\n",
        "        self.encoder = nn.Sequential(\n",
        "            nn.Conv2d(in_channels=img_channels, \n",
        "                      out_channels=16, \n",
        "                      kernel_size=3),\n",
        "            nn.ReLU(),\n",
        "            nn.Conv2d(in_channels=16, \n",
        "                      out_channels=32, \n",
        "                      kernel_size=3),\n",
        "            nn.ReLU())\n",
        "        self.fc_mu = nn.Linear(feature_dim, latent_dim)\n",
        "        self.fc_var = nn.Linear(feature_dim, latent_dim)\n",
        "\n",
        "        # Initializing the fully-connected layer and 2 convolutional layers for decoder\n",
        "        self.dec_inp = nn.Linear(latent_dim, feature_dim)\n",
        "        self.decoder = nn.Sequential(\n",
        "            nn.ConvTranspose2d(in_channels=32, \n",
        "                               out_channels=16, \n",
        "                               kernel_size=3),\n",
        "            nn.ReLU(),\n",
        "            nn.ConvTranspose2d(in_channels=16, \n",
        "                               out_channels=img_channels, \n",
        "                               kernel_size=3),\n",
        "            nn.Sigmoid())\n",
        "\n",
        "    def encode(self, x):\n",
        "        # Input is fed into 2 convolutional layers sequentially\n",
        "        # The output feature map are fed into 2 fully-connected layers to predict mean (mu) and variance (logVar)\n",
        "        # Mu and logVar are used for generating middle representation z and KL divergence loss\n",
        "        x = self.encoder(x)\n",
        "        x = x.view(-1, 32*20*20)\n",
        "        mu = self.fc_mu(x)\n",
        "        logVar = self.fc_var(x)\n",
        "        return mu, logVar\n",
        "\n",
        "    def reparameterize(self, mu, logVar):\n",
        "        # Reparameterization takes in the input mu and logVar and sample the mu + std * eps\n",
        "        std = torch.exp(logVar/2)\n",
        "        eps = torch.randn_like(std)\n",
        "        return mu + std * eps\n",
        "\n",
        "    def decode(self, z):\n",
        "        # z is fed back into a fully-connected layers and then into two transpose convolutional layers\n",
        "        # The generated output is the same size of the original input\n",
        "        x = F.relu(self.dec_inp(z))\n",
        "        x = x.view(-1, 32, 20, 20)\n",
        "        x = self.decoder(x)\n",
        "        return x\n",
        "\n",
        "    def forward(self, x):\n",
        "        # The entire pipeline of the VAE: encoder -> reparameterization -> decoder\n",
        "        # output, mu, and logVar are returned for loss computation\n",
        "        mu, logVar = self.encode(x)\n",
        "        z = self.reparameterize(mu, logVar)\n",
        "        out = self.decode(z)\n",
        "        return out, mu, logVar"
      ]
    },
    {
      "cell_type": "code",
      "execution_count": 197,
      "metadata": {
        "id": "wt0cW09_OuNu",
        "colab": {
          "base_uri": "https://localhost:8080/",
          "height": 380
        },
        "outputId": "a798e50a-46d0-4405-9298-9cf2487f7297"
      },
      "outputs": [
        {
          "output_type": "error",
          "ename": "RuntimeError",
          "evalue": "ignored",
          "traceback": [
            "\u001b[0;31m---------------------------------------------------------------------------\u001b[0m",
            "\u001b[0;31mRuntimeError\u001b[0m                              Traceback (most recent call last)",
            "\u001b[0;32m<ipython-input-197-67ded6cbf5eb>\u001b[0m in \u001b[0;36m<module>\u001b[0;34m\u001b[0m\n\u001b[1;32m     18\u001b[0m \u001b[0;34m\u001b[0m\u001b[0m\n\u001b[1;32m     19\u001b[0m         \u001b[0;31m# Feeding a batch of images into the network to obtain the output image, mu, and logVar\u001b[0m\u001b[0;34m\u001b[0m\u001b[0;34m\u001b[0m\u001b[0;34m\u001b[0m\u001b[0m\n\u001b[0;32m---> 20\u001b[0;31m         \u001b[0mout\u001b[0m\u001b[0;34m,\u001b[0m \u001b[0mmu\u001b[0m\u001b[0;34m,\u001b[0m \u001b[0mlogVar\u001b[0m \u001b[0;34m=\u001b[0m \u001b[0mmodel\u001b[0m\u001b[0;34m(\u001b[0m\u001b[0minputs\u001b[0m\u001b[0;34m)\u001b[0m\u001b[0;34m\u001b[0m\u001b[0;34m\u001b[0m\u001b[0m\n\u001b[0m\u001b[1;32m     21\u001b[0m \u001b[0;34m\u001b[0m\u001b[0m\n\u001b[1;32m     22\u001b[0m         \u001b[0;31m# The loss is the BCE loss combined with the KL divergence to ensure the distribution is learnt\u001b[0m\u001b[0;34m\u001b[0m\u001b[0;34m\u001b[0m\u001b[0;34m\u001b[0m\u001b[0m\n",
            "\u001b[0;32m/usr/local/lib/python3.8/dist-packages/torch/nn/modules/module.py\u001b[0m in \u001b[0;36m_call_impl\u001b[0;34m(self, *input, **kwargs)\u001b[0m\n\u001b[1;32m   1192\u001b[0m         if not (self._backward_hooks or self._forward_hooks or self._forward_pre_hooks or _global_backward_hooks\n\u001b[1;32m   1193\u001b[0m                 or _global_forward_hooks or _global_forward_pre_hooks):\n\u001b[0;32m-> 1194\u001b[0;31m             \u001b[0;32mreturn\u001b[0m \u001b[0mforward_call\u001b[0m\u001b[0;34m(\u001b[0m\u001b[0;34m*\u001b[0m\u001b[0minput\u001b[0m\u001b[0;34m,\u001b[0m \u001b[0;34m**\u001b[0m\u001b[0mkwargs\u001b[0m\u001b[0;34m)\u001b[0m\u001b[0;34m\u001b[0m\u001b[0;34m\u001b[0m\u001b[0m\n\u001b[0m\u001b[1;32m   1195\u001b[0m         \u001b[0;31m# Do not call functions when jit is used\u001b[0m\u001b[0;34m\u001b[0m\u001b[0;34m\u001b[0m\u001b[0;34m\u001b[0m\u001b[0m\n\u001b[1;32m   1196\u001b[0m         \u001b[0mfull_backward_hooks\u001b[0m\u001b[0;34m,\u001b[0m \u001b[0mnon_full_backward_hooks\u001b[0m \u001b[0;34m=\u001b[0m \u001b[0;34m[\u001b[0m\u001b[0;34m]\u001b[0m\u001b[0;34m,\u001b[0m \u001b[0;34m[\u001b[0m\u001b[0;34m]\u001b[0m\u001b[0;34m\u001b[0m\u001b[0;34m\u001b[0m\u001b[0m\n",
            "\u001b[0;32m<ipython-input-196-85fbad43f778>\u001b[0m in \u001b[0;36mforward\u001b[0;34m(self, x)\u001b[0m\n\u001b[1;32m     55\u001b[0m         \u001b[0;31m# The entire pipeline of the VAE: encoder -> reparameterization -> decoder\u001b[0m\u001b[0;34m\u001b[0m\u001b[0;34m\u001b[0m\u001b[0;34m\u001b[0m\u001b[0m\n\u001b[1;32m     56\u001b[0m         \u001b[0;31m# output, mu, and logVar are returned for loss computation\u001b[0m\u001b[0;34m\u001b[0m\u001b[0;34m\u001b[0m\u001b[0;34m\u001b[0m\u001b[0m\n\u001b[0;32m---> 57\u001b[0;31m         \u001b[0mmu\u001b[0m\u001b[0;34m,\u001b[0m \u001b[0mlogVar\u001b[0m \u001b[0;34m=\u001b[0m \u001b[0mself\u001b[0m\u001b[0;34m.\u001b[0m\u001b[0mencode\u001b[0m\u001b[0;34m(\u001b[0m\u001b[0mx\u001b[0m\u001b[0;34m)\u001b[0m\u001b[0;34m\u001b[0m\u001b[0;34m\u001b[0m\u001b[0m\n\u001b[0m\u001b[1;32m     58\u001b[0m         \u001b[0mz\u001b[0m \u001b[0;34m=\u001b[0m \u001b[0mself\u001b[0m\u001b[0;34m.\u001b[0m\u001b[0mreparameterize\u001b[0m\u001b[0;34m(\u001b[0m\u001b[0mmu\u001b[0m\u001b[0;34m,\u001b[0m \u001b[0mlogVar\u001b[0m\u001b[0;34m)\u001b[0m\u001b[0;34m\u001b[0m\u001b[0;34m\u001b[0m\u001b[0m\n\u001b[1;32m     59\u001b[0m         \u001b[0mout\u001b[0m \u001b[0;34m=\u001b[0m \u001b[0mself\u001b[0m\u001b[0;34m.\u001b[0m\u001b[0mdecode\u001b[0m\u001b[0;34m(\u001b[0m\u001b[0mz\u001b[0m\u001b[0;34m)\u001b[0m\u001b[0;34m\u001b[0m\u001b[0;34m\u001b[0m\u001b[0m\n",
            "\u001b[0;32m<ipython-input-196-85fbad43f778>\u001b[0m in \u001b[0;36mencode\u001b[0;34m(self, x)\u001b[0m\n\u001b[1;32m     34\u001b[0m         \u001b[0mx\u001b[0m \u001b[0;34m=\u001b[0m \u001b[0mself\u001b[0m\u001b[0;34m.\u001b[0m\u001b[0mencoder\u001b[0m\u001b[0;34m(\u001b[0m\u001b[0mx\u001b[0m\u001b[0;34m)\u001b[0m\u001b[0;34m\u001b[0m\u001b[0;34m\u001b[0m\u001b[0m\n\u001b[1;32m     35\u001b[0m         \u001b[0mx\u001b[0m \u001b[0;34m=\u001b[0m \u001b[0mx\u001b[0m\u001b[0;34m.\u001b[0m\u001b[0mview\u001b[0m\u001b[0;34m(\u001b[0m\u001b[0;34m-\u001b[0m\u001b[0;36m1\u001b[0m\u001b[0;34m,\u001b[0m \u001b[0;36m159744\u001b[0m\u001b[0;34m)\u001b[0m\u001b[0;34m\u001b[0m\u001b[0;34m\u001b[0m\u001b[0m\n\u001b[0;32m---> 36\u001b[0;31m         \u001b[0mmu\u001b[0m \u001b[0;34m=\u001b[0m \u001b[0mself\u001b[0m\u001b[0;34m.\u001b[0m\u001b[0mfc_mu\u001b[0m\u001b[0;34m(\u001b[0m\u001b[0mx\u001b[0m\u001b[0;34m)\u001b[0m\u001b[0;34m\u001b[0m\u001b[0;34m\u001b[0m\u001b[0m\n\u001b[0m\u001b[1;32m     37\u001b[0m         \u001b[0mlogVar\u001b[0m \u001b[0;34m=\u001b[0m \u001b[0mself\u001b[0m\u001b[0;34m.\u001b[0m\u001b[0mfc_var\u001b[0m\u001b[0;34m(\u001b[0m\u001b[0mx\u001b[0m\u001b[0;34m)\u001b[0m\u001b[0;34m\u001b[0m\u001b[0;34m\u001b[0m\u001b[0m\n\u001b[1;32m     38\u001b[0m         \u001b[0;32mreturn\u001b[0m \u001b[0mmu\u001b[0m\u001b[0;34m,\u001b[0m \u001b[0mlogVar\u001b[0m\u001b[0;34m\u001b[0m\u001b[0;34m\u001b[0m\u001b[0m\n",
            "\u001b[0;32m/usr/local/lib/python3.8/dist-packages/torch/nn/modules/module.py\u001b[0m in \u001b[0;36m_call_impl\u001b[0;34m(self, *input, **kwargs)\u001b[0m\n\u001b[1;32m   1192\u001b[0m         if not (self._backward_hooks or self._forward_hooks or self._forward_pre_hooks or _global_backward_hooks\n\u001b[1;32m   1193\u001b[0m                 or _global_forward_hooks or _global_forward_pre_hooks):\n\u001b[0;32m-> 1194\u001b[0;31m             \u001b[0;32mreturn\u001b[0m \u001b[0mforward_call\u001b[0m\u001b[0;34m(\u001b[0m\u001b[0;34m*\u001b[0m\u001b[0minput\u001b[0m\u001b[0;34m,\u001b[0m \u001b[0;34m**\u001b[0m\u001b[0mkwargs\u001b[0m\u001b[0;34m)\u001b[0m\u001b[0;34m\u001b[0m\u001b[0;34m\u001b[0m\u001b[0m\n\u001b[0m\u001b[1;32m   1195\u001b[0m         \u001b[0;31m# Do not call functions when jit is used\u001b[0m\u001b[0;34m\u001b[0m\u001b[0;34m\u001b[0m\u001b[0;34m\u001b[0m\u001b[0m\n\u001b[1;32m   1196\u001b[0m         \u001b[0mfull_backward_hooks\u001b[0m\u001b[0;34m,\u001b[0m \u001b[0mnon_full_backward_hooks\u001b[0m \u001b[0;34m=\u001b[0m \u001b[0;34m[\u001b[0m\u001b[0;34m]\u001b[0m\u001b[0;34m,\u001b[0m \u001b[0;34m[\u001b[0m\u001b[0;34m]\u001b[0m\u001b[0;34m\u001b[0m\u001b[0;34m\u001b[0m\u001b[0m\n",
            "\u001b[0;32m/usr/local/lib/python3.8/dist-packages/torch/nn/modules/linear.py\u001b[0m in \u001b[0;36mforward\u001b[0;34m(self, input)\u001b[0m\n\u001b[1;32m    112\u001b[0m \u001b[0;34m\u001b[0m\u001b[0m\n\u001b[1;32m    113\u001b[0m     \u001b[0;32mdef\u001b[0m \u001b[0mforward\u001b[0m\u001b[0;34m(\u001b[0m\u001b[0mself\u001b[0m\u001b[0;34m,\u001b[0m \u001b[0minput\u001b[0m\u001b[0;34m:\u001b[0m \u001b[0mTensor\u001b[0m\u001b[0;34m)\u001b[0m \u001b[0;34m->\u001b[0m \u001b[0mTensor\u001b[0m\u001b[0;34m:\u001b[0m\u001b[0;34m\u001b[0m\u001b[0;34m\u001b[0m\u001b[0m\n\u001b[0;32m--> 114\u001b[0;31m         \u001b[0;32mreturn\u001b[0m \u001b[0mF\u001b[0m\u001b[0;34m.\u001b[0m\u001b[0mlinear\u001b[0m\u001b[0;34m(\u001b[0m\u001b[0minput\u001b[0m\u001b[0;34m,\u001b[0m \u001b[0mself\u001b[0m\u001b[0;34m.\u001b[0m\u001b[0mweight\u001b[0m\u001b[0;34m,\u001b[0m \u001b[0mself\u001b[0m\u001b[0;34m.\u001b[0m\u001b[0mbias\u001b[0m\u001b[0;34m)\u001b[0m\u001b[0;34m\u001b[0m\u001b[0;34m\u001b[0m\u001b[0m\n\u001b[0m\u001b[1;32m    115\u001b[0m \u001b[0;34m\u001b[0m\u001b[0m\n\u001b[1;32m    116\u001b[0m     \u001b[0;32mdef\u001b[0m \u001b[0mextra_repr\u001b[0m\u001b[0;34m(\u001b[0m\u001b[0mself\u001b[0m\u001b[0;34m)\u001b[0m \u001b[0;34m->\u001b[0m \u001b[0mstr\u001b[0m\u001b[0;34m:\u001b[0m\u001b[0;34m\u001b[0m\u001b[0;34m\u001b[0m\u001b[0m\n",
            "\u001b[0;31mRuntimeError\u001b[0m: mat1 and mat2 shapes cannot be multiplied (1x159744 and 12800x256)"
          ]
        }
      ],
      "source": [
        "batch_size = 32\n",
        "learning_rate = 0.001\n",
        "num_epochs = 20\n",
        "\n",
        "# Create dataloaders to feed data into the neural network\n",
        "train_set = ARCDataset(X_train, y_train)\n",
        "train_loader = DataLoader(train_set, batch_size=batch_size, shuffle=True)\n",
        "\n",
        "# Initialize the network and the Adam optimizer\n",
        "model = VariationalAutoencoder().to(device)\n",
        "optimizer = Adam(model.parameters(), lr=learning_rate)\n",
        "\n",
        "# Training the network for a given number of epochs (loss after every epoch is printed)\n",
        "for epoch in range(num_epochs):\n",
        "    for idx, data in enumerate(train_loader, 0):\n",
        "        inputs, _ = data\n",
        "        inputs = inputs.to(device)\n",
        "\n",
        "        # Feeding a batch of images into the network to obtain the output image, mu, and logVar\n",
        "        out, mu, logVar = model(inputs)\n",
        "\n",
        "        # The loss is the BCE loss combined with the KL divergence to ensure the distribution is learnt\n",
        "        kl_divergence = -0.5 * torch.sum(1 + logVar - mu.pow(2) - logVar.exp())\n",
        "        loss = F.binary_cross_entropy(out, inputs, size_average=False) + kl_divergence\n",
        "\n",
        "        # Backpropagation based on the loss\n",
        "        optimizer.zero_grad()\n",
        "        loss.backward()\n",
        "        optimizer.step()\n",
        "\n",
        "    print('Epoch {}: Loss {}'.format(epoch, loss))"
      ]
    },
    {
      "cell_type": "code",
      "execution_count": null,
      "metadata": {
        "id": "1GJ2yezsxF1p"
      },
      "outputs": [],
      "source": [
        "def train(autoencoder, data, epochs=20):\n",
        "    opt = Adam(autoencoder.parameters())\n",
        "    for epoch in range(epochs):\n",
        "        for x, y in data:\n",
        "            x = x.to(device) \n",
        "            opt.zero_grad()\n",
        "            x_hat = autoencoder(x)\n",
        "            loss = ((x - x_hat)**2).sum() + autoencoder.encoder.kl\n",
        "            loss.backward()\n",
        "            opt.step()\n",
        "    return autoencoder\n",
        "\n",
        "vae = train(vae, data)"
      ]
    },
    {
      "cell_type": "markdown",
      "metadata": {
        "id": "1dJSyOwbGhMp"
      },
      "source": [
        "## **Old: Archive**"
      ]
    },
    {
      "cell_type": "code",
      "execution_count": null,
      "metadata": {
        "id": "d-HScTvu_Ifb"
      },
      "outputs": [],
      "source": [
        "def replace_values(a, d):\n",
        "    return np.array([d.get(i, -1) for i in range(a.min(), a.max() + 1)])[a - a.min()]\n",
        "\n",
        "def repeat_matrix(X):\n",
        "    return np.concatenate([X]*((1000 // len(X)) + 1))[:1000]\n",
        "\n",
        "def get_new_matrix(X):\n",
        "    if len(set([np.array(x).shape for x in X])) > 1:\n",
        "        X = np.array([X[0]])\n",
        "    return X\n",
        "\n",
        "def get_ind_matrix(X):\n",
        "    X_mat = []\n",
        "    if len(set([np.array(x).shape for x in X])) > 1:\n",
        "        X_ls = list([np.array(x).shape for x in X])\n",
        "        max_ls = [max(X_ls, key=lambda x:x[i])[i] for i in range(2)]\n",
        "        for i in range(len(X)):\n",
        "            X_pad = padding(np.array(X[i]), max_ls[0], max_ls[1])\n",
        "            X_mat.append(X_pad)\n",
        "    else:\n",
        "        for i in range(len(X)):\n",
        "            X_mat.append(np.array(X[i]))\n",
        "    return X_mat\n",
        "\n",
        "def get_outp(outp, dictionary=None, replace=True):\n",
        "    if replace:\n",
        "        outp = replace_values(outp, dictionary)\n",
        "\n",
        "    outp_matrix_dims = outp.shape\n",
        "    outp_probs_len = outp.shape[0]*outp.shape[1]*10\n",
        "    outp = to_categorical(outp.flatten(),\n",
        "                          num_classes=10).flatten()\n",
        "\n",
        "    return outp, outp_probs_len, outp_matrix_dims"
      ]
    },
    {
      "cell_type": "code",
      "execution_count": null,
      "metadata": {
        "id": "at7et6xaq0bK"
      },
      "outputs": [],
      "source": [
        "class ARCDataset(Dataset):\n",
        "    def __init__(self, X, y, stage=\"train\"):\n",
        "        self.X = get_new_matrix(X)\n",
        "        self.X = repeat_matrix(X)\n",
        "        \n",
        "        self.stage = stage\n",
        "        if self.stage == \"train\":\n",
        "            self.y = get_new_matrix(y)\n",
        "            self.y = repeat_matrix(y)\n",
        "        \n",
        "    def __len__(self):\n",
        "        return 1000\n",
        "    \n",
        "    def __getitem__(self, idx):\n",
        "        inp = self.X[idx]\n",
        "        if self.stage == \"train\":\n",
        "            outp = self.y[idx]\n",
        "\n",
        "        if idx != 0:\n",
        "            rep = np.arange(10)\n",
        "            orig = np.arange(10)\n",
        "            np.random.shuffle(rep)\n",
        "            dictionary = dict(zip(orig, rep))\n",
        "            inp = replace_values(inp, dictionary)\n",
        "            if self.stage == \"train\":\n",
        "                outp, outp_probs_len, outp_matrix_dims = get_outp(outp, dictionary)\n",
        "                \n",
        "        if idx == 0:\n",
        "            if self.stage == \"train\":\n",
        "                outp, outp_probs_len, outp_matrix_dims = get_outp(outp, None, False)\n",
        "        \n",
        "        return inp, outp, outp_probs_len, outp_matrix_dims, self.y\n",
        "\n",
        "class ARCDataset(Dataset):\n",
        "    def __init__(self, X, y, stage=\"train\"):\n",
        "        self.X = get_ind_matrix(X)\n",
        "        self.stage = stage\n",
        "        if self.stage == \"train\":\n",
        "            self.y = get_ind_matrix(y)\n",
        "        \n",
        "    def __len__(self):\n",
        "        return len(self.X)\n",
        "    \n",
        "    def __getitem__(self, idx):\n",
        "        inp = self.X[idx]\n",
        "        if self.stage == \"train\":\n",
        "            outp = self.y[idx]\n",
        "            outp, outp_probs_len, outp_matrix_dims = get_outp(outp, None, False)\n",
        "        \n",
        "        return inp, outp, outp_probs_len, outp_matrix_dims, self.y"
      ]
    },
    {
      "cell_type": "code",
      "execution_count": null,
      "metadata": {
        "id": "mircXWr2q-9n"
      },
      "outputs": [],
      "source": [
        "class BasicCNNModel(nn.Module):\n",
        "    def __init__(self, inp_dim=(10, 10), outp_dim=(10, 10)):\n",
        "        super(BasicCNNModel, self).__init__()\n",
        "        \n",
        "        Conv_In = 3\n",
        "        Conv_Out_1 = 50\n",
        "        Conv_Out_2 = 100\n",
        "        Kernel = 3\n",
        "        Dense_In = Conv_Out_2\n",
        "        self.relu = nn.ReLU()\n",
        "        self.softmax = nn.Softmax(dim=1)\n",
        "        self.dense_1 = nn.Linear(Dense_In, outp_dim[0]*outp_dim[1]*10)\n",
        "        \n",
        "        if inp_dim[0] < 5 or inp_dim[1] < 5:\n",
        "            Kernel = 1\n",
        "\n",
        "        self.conv2d_1 = nn.Conv2d(Conv_In, Conv_Out_1, kernel_size=Kernel)\n",
        "        self.conv2d_2 = nn.Conv2d(Conv_Out_1, Conv_Out_2, kernel_size=Kernel)\n",
        "\n",
        "    def forward(self, x, outp_dim):\n",
        "        x = torch.cat([x.unsqueeze(0)]*3)\n",
        "        x = x.permute((1, 0, 2, 3)).float()\n",
        "        self.conv2d_1.in_features = x.shape[1]\n",
        "        conv_1_out = self.relu(self.conv2d_1(x))\n",
        "        self.conv2d_2.in_features = conv_1_out.shape[1]\n",
        "        conv_2_out = self.relu(self.conv2d_2(conv_1_out))\n",
        "        \n",
        "        self.dense_1.out_features = outp_dim\n",
        "        feature_vector, _ = torch.max(conv_2_out, 2)\n",
        "        feature_vector, _ = torch.max(feature_vector, 2)\n",
        "        logit_outputs = self.dense_1(feature_vector)\n",
        "        \n",
        "        out = []\n",
        "        for idx in range(logit_outputs.shape[1]//10):\n",
        "            out.append(self.softmax(logit_outputs[:, idx*10: (idx+1)*10]))\n",
        "        return torch.cat(out, axis=1)\n",
        "\n",
        "class ARCModel(nn.Module):\n",
        "    def __init__(self, inp_dim=(10, 10), outp_dim=(10, 10)):\n",
        "        super(ARCModel, self).__init__()\n",
        "\n",
        "        kernel = 3\n",
        "        if inp_dim[0] < 5 or inp_dim[1] < 5:\n",
        "            kernel = 1\n",
        "        \n",
        "        self.input_shape = inp_dim\n",
        "        self.conv1 = nn.Conv2d(in_channels=3, out_channels=50, kernel_size=(kernel,kernel), padding='same')\n",
        "        self.conv2 = nn.Conv2d(in_channels=50, out_channels=100, kernel_size=(kernel,kernel), padding='same')\n",
        "        self.relu = nn.ReLU()\n",
        "        self.softmax = nn.Softmax(dim=1)\n",
        "        self.dense = nn.Linear(in_features=100, out_features=(outp_dim[0]*outp_dim[1]*10))\n",
        "\n",
        "\n",
        "    def forward(self, x, outp_dim):\n",
        "        x = torch.cat([x.unsqueeze(0)]*3)\n",
        "        x = x.permute((1, 0, 2, 3)).float()\n",
        "        self.conv1.in_features = x.shape[1]\n",
        "        conv_1_out = self.relu(self.conv1(x))\n",
        "        self.conv2.in_features = conv_1_out.shape[1]\n",
        "        conv_2_out = self.relu(self.conv2(conv_1_out))\n",
        "        \n",
        "        self.dense.out_features = outp_dim\n",
        "        feature_vector, _ = torch.max(conv_2_out, 2)\n",
        "        feature_vector, _ = torch.max(feature_vector, 2)\n",
        "        logit_outputs = self.dense(feature_vector)\n",
        "        \n",
        "        out = []\n",
        "        for idx in range(logit_outputs.shape[1]//10):\n",
        "            out.append(self.softmax(logit_outputs[:, idx*10: (idx+1)*10]))\n",
        "        return torch.cat(out, axis=1)\n",
        "\n",
        "class VariationalAutoencoder(nn.Module):\n",
        "\n",
        "    def __init__(self, \n",
        "                 in_channels: int, \n",
        "                 latent_dim: int, \n",
        "                 layer_dim: int,\n",
        "                 hidden_dims: List = None,\n",
        "                 kernel_size: List = None, \n",
        "                 **kwargs) -> None:\n",
        "        super(VariationalAutoencoder, self).__init__()\n",
        "\n",
        "        self.latent_dim = latent_dim\n",
        "\n",
        "        if hidden_dims is None:\n",
        "            hidden_dims = [128] * layer_dim\n",
        "\n",
        "        if kernel_size is None:\n",
        "            kernel_size = list(range(1, (layer_dim + 1)))\n",
        "\n",
        "        # Build Encoder\n",
        "        modules = []\n",
        "        for i in range(len(hidden_dims)):\n",
        "            modules.append(\n",
        "                nn.Sequential(\n",
        "                    nn.Conv2d(in_channels, \n",
        "                              hidden_dims[i],\n",
        "                              kernel_size=kernel_size[i], \n",
        "                              stride=2, \n",
        "                              padding=1),\n",
        "                    nn.BatchNorm2d(hidden_dims[i]),\n",
        "                    nn.LeakyReLU())\n",
        "            )\n",
        "            in_channels = hidden_dims[i]\n",
        "\n",
        "        self.encoder = nn.Sequential(*modules)\n",
        "        self.fc_mu = nn.Linear(hidden_dims[-1]*4, latent_dim)\n",
        "        self.fc_var = nn.Linear(hidden_dims[-1]*4, latent_dim)\n",
        "\n",
        "\n",
        "        # Build Decoder\n",
        "        self.decoder_input = nn.Linear(latent_dim, hidden_dims[-1] * 4)\n",
        "\n",
        "        hidden_dims.reverse()\n",
        "        kernel_size.reverse()\n",
        "        modules = []\n",
        "        for i in range(len(hidden_dims) - 1):\n",
        "            modules.append(\n",
        "                nn.Sequential(\n",
        "                    nn.ConvTranspose2d(hidden_dims[i],\n",
        "                                       hidden_dims[i + 1],\n",
        "                                       kernel_size=kernel_size[i],\n",
        "                                       stride=2,\n",
        "                                       padding=1,\n",
        "                                       output_padding=1),\n",
        "                    nn.BatchNorm2d(hidden_dims[i + 1]),\n",
        "                    nn.LeakyReLU())\n",
        "            )\n",
        "\n",
        "        self.decoder = nn.Sequential(*modules)\n",
        "\n",
        "        self.final_layer = nn.Sequential(\n",
        "                            nn.ConvTranspose2d(hidden_dims[-1],\n",
        "                                               hidden_dims[-1],\n",
        "                                               kernel_size=kernel_size[-1],\n",
        "                                               stride=2,\n",
        "                                               padding=1,\n",
        "                                               output_padding=1),\n",
        "                            nn.BatchNorm2d(hidden_dims[-1]),\n",
        "                            nn.LeakyReLU(),\n",
        "                            nn.Conv2d(hidden_dims[-1], \n",
        "                                      3,\n",
        "                                      kernel_size=kernel_size[-1], \n",
        "                                      padding=1),\n",
        "                            nn.Tanh())\n",
        "\n",
        "    def encode(self, input: Tensor) -> List[Tensor]:\n",
        "        \"\"\"\n",
        "        Encodes the input by passing through the encoder network\n",
        "        and returns the latent codes.\n",
        "        :param input: (Tensor) Input tensor to encoder [N x C x H x W]\n",
        "        :return: (Tensor) List of latent codes\n",
        "        \"\"\"\n",
        "        result = self.encoder(input)\n",
        "        result = torch.flatten(result, start_dim=1)\n",
        "\n",
        "        # Split the result into mu and var components\n",
        "        # of the latent Gaussian distribution\n",
        "        mu = self.fc_mu(result)\n",
        "        log_var = self.fc_var(result)\n",
        "\n",
        "        return [mu, log_var]\n",
        "\n",
        "    def decode(self, z: Tensor) -> Tensor:\n",
        "        \"\"\"\n",
        "        Maps the given latent codes\n",
        "        onto the image space.\n",
        "        :param z: (Tensor) [B x D]\n",
        "        :return: (Tensor) [B x C x H x W]\n",
        "        \"\"\"\n",
        "        result = self.decoder_input(z)\n",
        "        result = result.view(-1, 512, 2, 2)\n",
        "        result = self.decoder(result)\n",
        "        result = self.final_layer(result)\n",
        "        return result\n",
        "\n",
        "    def reparameterize(self, mu: Tensor, logvar: Tensor) -> Tensor:\n",
        "        \"\"\"\n",
        "        Reparameterization trick to sample from N(mu, var) from\n",
        "        N(0,1).\n",
        "        :param mu: (Tensor) Mean of the latent Gaussian [B x D]\n",
        "        :param logvar: (Tensor) Standard deviation of the latent Gaussian [B x D]\n",
        "        :return: (Tensor) [B x D]\n",
        "        \"\"\"\n",
        "        std = torch.exp(0.5 * logvar)\n",
        "        eps = torch.randn_like(std)\n",
        "        return eps * std + mu\n",
        "\n",
        "    def forward(self, input: Tensor, **kwargs) -> List[Tensor]:\n",
        "        mu, log_var = self.encode(input)\n",
        "        z = self.reparameterize(mu, log_var)\n",
        "        return  [self.decode(z), input, mu, log_var]\n",
        "\n",
        "    def loss_function(self, *args, **kwargs) -> dict:\n",
        "        \"\"\"\n",
        "        Computes the VAE loss function.\n",
        "        KL(N(\\mu, \\sigma), N(0, 1)) = \\log \\frac{1}{\\sigma} + \\frac{\\sigma^2 + \\mu^2}{2} - \\frac{1}{2}\n",
        "        :param args:\n",
        "        :param kwargs:\n",
        "        :return:\n",
        "        \"\"\"\n",
        "        recons = args[0]\n",
        "        input = args[1]\n",
        "        mu = args[2]\n",
        "        log_var = args[3]\n",
        "\n",
        "        kld_weight = kwargs['M_N'] # Account for the minibatch samples from the dataset\n",
        "        recons_loss = F.mse_loss(recons, input)\n",
        "\n",
        "        kld_loss = torch.mean(-0.5 * torch.sum(1 + log_var - mu ** 2 - log_var.exp(), dim = 1), dim = 0)\n",
        "\n",
        "        loss = recons_loss + kld_weight * kld_loss\n",
        "        return {'loss': loss, 'Reconstruction_Loss': recons_loss.detach(), 'KLD': kld_loss.detach()}\n",
        "\n",
        "    def sample(self, num_samples: int, current_device: int, **kwargs) -> Tensor:\n",
        "        \"\"\"\n",
        "        Samples from the latent space and return the corresponding\n",
        "        image space map.\n",
        "        :param num_samples: (Int) Number of samples\n",
        "        :param current_device: (Int) Device to run the model\n",
        "        :return: (Tensor)\n",
        "        \"\"\"\n",
        "        z = torch.randn(num_samples,\n",
        "                        self.latent_dim)\n",
        "\n",
        "        z = z.to(current_device)\n",
        "\n",
        "        samples = self.decode(z)\n",
        "        return samples\n",
        "\n",
        "    def generate(self, x: Tensor, **kwargs) -> Tensor:\n",
        "        \"\"\"\n",
        "        Given an input image x, returns the reconstructed image\n",
        "        :param x: (Tensor) [B x C x H x W]\n",
        "        :return: (Tensor) [B x C x H x W]\n",
        "        \"\"\"\n",
        "\n",
        "        return self.forward(x)[0]"
      ]
    },
    {
      "cell_type": "code",
      "execution_count": null,
      "metadata": {
        "id": "NCTua2Q1Y8b5"
      },
      "outputs": [],
      "source": [
        "Batch_Size = 1\n",
        "Epochs = 50\n",
        "\n",
        "idx = 0\n",
        "start = time.time()\n",
        "test_predictions = []\n",
        "\n",
        "for Xs_train, ys_train in zip(X_train, y_train):\n",
        "    print(\"TASK \" + str(idx + 1))\n",
        "\n",
        "    train_set = ARCDataset(Xs_train, ys_train, stage=\"train\")\n",
        "    train_loader = DataLoader(train_set, batch_size=Batch_Size, shuffle=True)\n",
        "\n",
        "    inp_dim = np.array(get_matrix(Xs_train)).shape[1:]\n",
        "    outp_dim = np.array(get_matrix(ys_train)).shape[1:]\n",
        "    network = ARCModel(inp_dim, outp_dim).cuda()\n",
        "    optimizer = Adam(network.parameters(), lr=0.01)\n",
        "    \n",
        "    for epoch in range(Epochs):\n",
        "        for train_batch in train_loader:\n",
        "            train_X, train_y, out_d, d, out = train_batch\n",
        "            train_preds = network.forward(train_X.cuda(), out_d.cuda())\n",
        "            train_loss = nn.MSELoss()(train_preds, train_y.cuda())\n",
        "            \n",
        "            optimizer.zero_grad()\n",
        "            train_loss.backward()\n",
        "            optimizer.step()\n",
        "\n",
        "    end = time.time()        \n",
        "    print(\"Train loss: \" + str(np.round(train_loss.item(), 3)) + \"   \" +\\\n",
        "          \"Total time: \" + str(np.round(end - start, 1)) + \" s\" + \"\\n\")\n",
        "    \n",
        "    Xs_test = np.array([resize(flt(X), np.shape(X), inp_dim) for X in X_test[idx-1]])\n",
        "    for X in Xs_test:\n",
        "        test_dim = np.array(torch.Tensor(X)).shape\n",
        "        test_preds = npy(network.forward(torch.Tensor(X).unsqueeze(0).cuda(), out_d.cuda()))\n",
        "        test_preds = np.argmax(test_preds.reshape((10, *outp_dim)), axis=0)\n",
        "        test_predictions.append(itg(resize(test_preds, np.shape(test_preds),\n",
        "                                           tuple(itg(transform_dim(inp_dim, outp_dim, test_dim))))))\n",
        "    idx += 1"
      ]
    }
  ],
  "metadata": {
    "accelerator": "GPU",
    "colab": {
      "collapsed_sections": [
        "s780SDsKp0u9",
        "1dJSyOwbGhMp"
      ],
      "provenance": []
    },
    "gpuClass": "standard",
    "kernelspec": {
      "display_name": "Python 3",
      "name": "python3"
    },
    "language_info": {
      "name": "python"
    }
  },
  "nbformat": 4,
  "nbformat_minor": 0
}