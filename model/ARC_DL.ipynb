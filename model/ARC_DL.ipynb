{
  "cells": [
    {
      "cell_type": "markdown",
      "metadata": {
        "id": "8q1Ga8mfx1Qo"
      },
      "source": [
        "## **Disclaimer!**\n",
        "This notebook is meant to be used by anyone interested in replicating our model or playing around with the data. In order to access all features, please go to this [Google Drive Folder](https://drive.google.com/drive/folders/1kUTkGI89PJRl0dVy79xIZuH9Qokl9Stq) and store it on your own Google Drive. By clicking on the folder name \"Thesis_LucaThoms\" and selecting \"Add a shortcut to Drive\", all necessary files are automatically shared with your main Drive environment without having to download all the data or files individually! After that, simply run all the code as you like."
      ]
    },
    {
      "cell_type": "markdown",
      "metadata": {
        "id": "QWlGYZJ0V9Np"
      },
      "source": [
        "## **Setup**\n",
        "\n",
        "Loading in required packages, setting up devices (e.g., cuda), and mounting Google Drive for data/model access"
      ]
    },
    {
      "cell_type": "code",
      "execution_count": 1,
      "metadata": {
        "colab": {
          "base_uri": "https://localhost:8080/"
        },
        "id": "96ipln9OlC9Y",
        "outputId": "ae6d8470-0a34-4dee-b095-c79622cce54e"
      },
      "outputs": [
        {
          "output_type": "stream",
          "name": "stdout",
          "text": [
            "You are using a cpu device.\n"
          ]
        }
      ],
      "source": [
        "import os\n",
        "import json\n",
        "import random\n",
        "import time\n",
        "import cv2\n",
        "import pickle\n",
        "\n",
        "import numpy as np\n",
        "import pandas as pd\n",
        "import matplotlib.pyplot as plt\n",
        "import matplotlib.ticker as mtick\n",
        "import seaborn as sns\n",
        "import plotly.figure_factory as ff\n",
        "from keras.utils import to_categorical\n",
        "from matplotlib import colors\n",
        "from google.colab import drive\n",
        "\n",
        "import torch\n",
        "import torch.nn as nn\n",
        "import torch.nn.functional as F\n",
        "import torch.distributions\n",
        "import torchvision\n",
        "from torch.optim import Adam\n",
        "from torch.utils.data import Dataset, DataLoader\n",
        "\n",
        "device = torch.device('cuda:0' if torch.cuda.is_available() else 'cpu')\n",
        "print(f\"You are using a {device.type} device.\")"
      ]
    },
    {
      "cell_type": "code",
      "execution_count": 2,
      "metadata": {
        "colab": {
          "base_uri": "https://localhost:8080/"
        },
        "id": "gppFKWfRYh7q",
        "outputId": "983383d7-c9e1-4c96-e596-a3304799e990"
      },
      "outputs": [
        {
          "output_type": "stream",
          "name": "stdout",
          "text": [
            "Mounted at /content/drive\n"
          ]
        }
      ],
      "source": [
        "# Define directory to access image folders, labels, and pre-trained models\n",
        "drive.mount('/content/drive', force_remount = True)\n",
        "our_data_dir = '/content/drive/MyDrive/Thesis_LucaThoms/'"
      ]
    },
    {
      "cell_type": "markdown",
      "metadata": {
        "id": "sVuzNCh7lx-B"
      },
      "source": [
        "## **Helper Functions**\n",
        "\n",
        "Various helper functions, assisting with plotting, padding, scaling, one-hot encoding, and augmentation of tasks."
      ]
    },
    {
      "cell_type": "code",
      "execution_count": 3,
      "metadata": {
        "id": "nRb9aHZ1rXLV"
      },
      "outputs": [],
      "source": [
        "def plot_one(task, ax, i, train_or_test, input_or_output='representation'):\n",
        "    cmap = colors.ListedColormap(\n",
        "    ['#000000', '#0074D9','#FF4136','#2ECC40','#FFDC00',\n",
        "     '#AAAAAA', '#F012BE', '#FF851B', '#7FDBFF', '#870C25'])\n",
        "    norm = colors.Normalize(vmin=0, vmax=9)\n",
        "    \n",
        "    if input_or_output == 'representation':\n",
        "        input_matrix = task\n",
        "    elif input_or_output == 'prediction':\n",
        "        input_matrix = test_predictions[i]\n",
        "    else:\n",
        "        input_matrix = task[train_or_test][i][input_or_output]\n",
        "\n",
        "    ax.imshow(input_matrix, cmap=cmap, norm=norm)\n",
        "    ax.grid(True, which='both', color='lightgrey', linewidth=0.5)    \n",
        "    ax.set_yticks([x-0.5 for x in range(1+len(input_matrix))])\n",
        "    ax.set_xticks([x-0.5 for x in range(1+len(input_matrix[0]))])     \n",
        "    ax.set_xticklabels([])\n",
        "    ax.set_yticklabels([])\n",
        "    ax.set_title(train_or_test + ' ' + input_or_output)\n",
        "\n",
        "# For single ARC matrices use the following for plotting:\n",
        "# plot_one(X, ax=None, i=None, train_or_test='anything', input_or_output='single')\n",
        "\n",
        "def plot_task(task, idx):   \n",
        "    num_train = len(task['train'])\n",
        "    fig, axs = plt.subplots(2, num_train, figsize=(3*num_train,3*2))\n",
        "    for i in range(num_train):     \n",
        "        plot_one(task, axs[0,i], i, 'train', 'input')\n",
        "        plot_one(task, axs[1,i], i, 'train', 'output')        \n",
        "    plt.tight_layout()\n",
        "    plt.show()        \n",
        "        \n",
        "    num_test = len(task['test'])\n",
        "    num_outp = len(task['test'][0])\n",
        "    fig, axs = plt.subplots(2, num_test, figsize=(3*num_test,3*2))\n",
        "    if num_test == 1: \n",
        "        plot_one(task, axs[0], 0, 'test', 'input')\n",
        "        if num_outp > 1:\n",
        "            plot_one(task, axs[1], 0, 'test', 'output')  \n",
        "        elif 'test_predictions' in locals() or 'test_predictions' in globals():\n",
        "            plot_one(task, axs[1], idx, 'test', 'prediction')\n",
        "    else:\n",
        "        for i in range(num_test):      \n",
        "            plot_one(task, axs[0,i], i, 'test', 'input')\n",
        "            plot_one(task, axs[1,i], i, 'test', 'output')  \n",
        "    plt.tight_layout()\n",
        "    plt.show() \n",
        "\n",
        "def plot_ARC(example_num = None, path = 'training'):\n",
        "    idx = random.randint(0, 99) if example_num is None else example_num\n",
        "\n",
        "    task_file = f'{eval(path + \"_path\")}{(eval(path + \"_tasks_files\"))[idx]}'\n",
        "    with open(task_file, 'r') as f:\n",
        "        example = json.load(f)\n",
        "\n",
        "    plot_task(example, idx)\n",
        "\n",
        "def plot_pix_acc(X_inp, X_out):\n",
        "    raw_diff = []\n",
        "    for i in range(len(X_inp)):\n",
        "        raw_diff.append(np.count_nonzero(X_inp[i] == X_out[i]))\n",
        "    per_diff = [x / 900 for x in raw_diff]\n",
        "    m = np.mean(per_diff)\n",
        "\n",
        "    fig, ax = plt.subplots(figsize=(15,7))\n",
        "    plt.plot(per_diff, color='steelblue', marker='.', linewidth=0)\n",
        "    plt.axhline(m, xmax = len(per_diff), color='firebrick')\n",
        "    plt.title(f'Accuracy of Task Representation (Tasks:{len(per_diff)})', size='large')\n",
        "    plt.xlabel('Case')\n",
        "    plt.ylabel('Correct Pixel (%)')\n",
        "    plt.text(len(per_diff)/2, m+0.02, f'{m.round(2)*100}%', size='large', weight='bold')\n",
        "    plt.gca().yaxis.set_major_formatter(mtick.PercentFormatter(xmax=max([1])))\n",
        "    plt.margins(x=0.01)\n",
        "    plt.show()\n",
        "    print(f'Number of 100% Correct Representations: {per_diff.count(1)}')\n",
        "    print(f'Number of 90%+ Correct Representations: {sum(i >= 0.9 for i in per_diff)}')\n",
        "    print(f'Number of 80%+ Correct Representations: {sum(i >= 0.8 for i in per_diff)}')\n",
        "    print(f'Number of 70%+ Correct Representations: {sum(i >= 0.7 for i in per_diff)}')\n",
        "\n",
        "def plot_pix_heatmap(X_inp, X_out):\n",
        "    pix_diff = []\n",
        "    for i in range(len(X_inp)):\n",
        "        pix_diff.append(X_inp[i] == X_out[i])\n",
        "\n",
        "    pix_sum = np.sum(pix_diff, axis=0)\n",
        "\n",
        "    fig, ax = plt.subplots(figsize=(7,7)) \n",
        "    heatmap = sns.heatmap(pix_sum, cmap='inferno_r', square=True) # oder viridis_r\n",
        "    plt.title('Accuracy of Individual Pixel Representation', size='large', y=1.04)\n",
        "    plt.text(0.2, 32, f'Number of 100% Correct Pixels: {np.count_nonzero((pix_sum == len(X_inp)))}', size='large')\n",
        "    plt.axis('off')\n",
        "    plt.show()"
      ]
    },
    {
      "cell_type": "code",
      "execution_count": 42,
      "metadata": {
        "id": "4Hrcf6LoqQ4n"
      },
      "outputs": [],
      "source": [
        "def padding(X, height=30, width=30):\n",
        "    h = X.shape[0]\n",
        "    w = X.shape[1]\n",
        "\n",
        "    a = (height - h) // 2\n",
        "    aa = height - a - h\n",
        "\n",
        "    b = (width - w) // 2\n",
        "    bb = width - b - w\n",
        "\n",
        "    return np.pad(X, pad_width=((a, aa), (b, bb)), mode='constant')\n",
        "\n",
        "def scaling(X, height=30, width=30):\n",
        "    h = height/X.shape[0]\n",
        "    w = width/X.shape[1]\n",
        "    d = np.floor(min(h, w)).astype(int)\n",
        "      \n",
        "    X_scaled = np.kron(X, np.ones((d, d)))\n",
        "    # X_scaled = np.kron(X, np.ones((np.floor(h).astype(int),\n",
        "    #                                np.floor(w).astype(int))))\n",
        "    \n",
        "    return padding(X_scaled, height, width).astype(int)\n",
        "\n",
        "def one_hot_encoder(X):\n",
        "    one_hot = (np.arange(10) == X[..., None]).astype(int)\n",
        "    \n",
        "    return np.transpose(one_hot, axes = [2, 0, 1])\n",
        "\n",
        "def reverse_one_hot_encoder(X):\n",
        "    one_hot_rev = np.argmax(np.transpose(X, axes=[1,2,0]), axis=-1)\n",
        "\n",
        "    return one_hot_rev\n",
        "\n",
        "def replace_values(X, dic):\n",
        "    return np.array([dic.get(i, -1) for i in range(X.min(), X.max() + 1)])[X - X.min()]\n",
        "\n",
        "def get_all_matrix(X_full):\n",
        "    X_fill = []\n",
        "    for X_task in X_full:\n",
        "        for X_single in X_task:\n",
        "            X_fill.append(np.array(X_single))\n",
        "    \n",
        "    return X_fill\n",
        "\n",
        "def get_final_matrix(X_full, stage=\".\"):\n",
        "    if stage != \"train\":\n",
        "        X_full = get_all_matrix(X_full)\n",
        "\n",
        "    X_full_mat = []\n",
        "    for i in range(len(X_full)):\n",
        "        X_sca = scaling(X_full[i], 30, 30)\n",
        "        X_one = one_hot_encoder(X_sca)\n",
        "        X_full_mat.append(X_one)\n",
        "\n",
        "    return X_full_mat\n",
        "\n",
        "def augment_color(X_full, y_full):\n",
        "    X_flip = []\n",
        "    y_flip = []\n",
        "    for X, y in zip(X_full, y_full): \n",
        "        X_rep = np.tile(X, (10, 1, 1))\n",
        "        X_flip.append(X_rep[0])\n",
        "        y_rep = np.tile(y, (10, 1, 1))\n",
        "        y_flip.append(y_rep[0])\n",
        "        for i in range(1, len(X_rep)):\n",
        "            rep = np.arange(10)\n",
        "            orig = np.arange(10)\n",
        "            np.random.shuffle(rep)\n",
        "            dic = dict(zip(orig, rep))\n",
        "            X_flip.append(replace_values(X_rep[i], dic))\n",
        "            y_flip.append(replace_values(y_rep[i], dic))\n",
        "\n",
        "    return X_flip, y_flip\n",
        "\n",
        "def augment_rotate(X_full, y_full):\n",
        "    X_rot = []\n",
        "    y_rot = []\n",
        "    for X, y in zip(X_full, y_full):\n",
        "        k = random.randint(0, 4)\n",
        "        X_rot.append(np.rot90(X, k))\n",
        "        y_rot.append(np.rot90(y, k))\n",
        "    \n",
        "    return X_rot, y_rot\n",
        "\n",
        "def preprocess_matrix(X_full, y_full, aug=[True, True]):\n",
        "    X_full = get_all_matrix(X_full)\n",
        "    y_full = get_all_matrix(y_full)\n",
        "\n",
        "    if aug[0]:\n",
        "        print(\"Augmentation: Random Color Flipping\")\n",
        "        X_full, y_full = augment_color(X_full, y_full)\n",
        "    \n",
        "    if aug[1]:\n",
        "        print(\"Augmentation: Random Rotation\")\n",
        "        X_full, y_full = augment_rotate(X_full, y_full)\n",
        "\n",
        "    return X_full, y_full\n",
        "\n",
        "def convo_eff(w = 30, num = 1, k = 3, p = 0, s = 1):\n",
        "    for i in range(num):\n",
        "        w = ((w - k + (2*p))/s) + 1\n",
        "\n",
        "    return w"
      ]
    },
    {
      "cell_type": "markdown",
      "source": [
        "## **Load Data**\n",
        "\n",
        "Loading in the JSON files containing the raw tasks. Tasks are encoded as matrices divided into train/test and input/output sections, containing numbers 0-9 which describe the color palette (e.g., red, orange). The below code makes use of this internal structure to access the train and test data in separate objects."
      ],
      "metadata": {
        "id": "Fv1CZ0L010H1"
      }
    },
    {
      "cell_type": "code",
      "execution_count": 5,
      "metadata": {
        "id": "-OHg2PQjpsJK"
      },
      "outputs": [],
      "source": [
        "training_path = f'{our_data_dir}Data/data_training/'\n",
        "evaluation_path = f'{our_data_dir}Data/data_evaluation/'\n",
        "test_path = f'{our_data_dir}Data/data_test/'\n",
        "\n",
        "training_tasks_files = sorted(os.listdir(training_path))\n",
        "evaluation_tasks_files = sorted(os.listdir(evaluation_path))\n",
        "test_tasks_files = sorted(os.listdir(test_path))"
      ]
    },
    {
      "cell_type": "code",
      "execution_count": 6,
      "metadata": {
        "colab": {
          "base_uri": "https://localhost:8080/"
        },
        "id": "rARIy2725Sk2",
        "outputId": "7b562f70-958e-4636-e669-872819f13391"
      },
      "outputs": [
        {
          "output_type": "execute_result",
          "data": {
            "text/plain": [
              "[[0, 0, 0, 0, 0, 0, 0, 0, 0],\n",
              " [0, 0, 6, 6, 6, 0, 0, 0, 0],\n",
              " [0, 0, 6, 0, 0, 6, 0, 0, 0],\n",
              " [0, 0, 0, 6, 0, 0, 6, 0, 0],\n",
              " [0, 0, 0, 0, 6, 0, 6, 0, 0],\n",
              " [0, 0, 0, 0, 6, 6, 6, 0, 0],\n",
              " [0, 0, 0, 0, 0, 0, 0, 0, 0],\n",
              " [0, 0, 0, 0, 0, 0, 0, 0, 0],\n",
              " [0, 0, 0, 0, 0, 0, 0, 0, 0],\n",
              " [0, 0, 0, 2, 2, 2, 2, 0, 0],\n",
              " [0, 0, 0, 2, 0, 0, 2, 0, 0],\n",
              " [0, 0, 0, 2, 2, 2, 2, 0, 0],\n",
              " [0, 0, 0, 0, 0, 0, 0, 0, 0],\n",
              " [0, 0, 0, 0, 0, 0, 0, 0, 0]]"
            ]
          },
          "metadata": {},
          "execution_count": 6
        }
      ],
      "source": [
        "training_tasks = []\n",
        "for task_file in training_tasks_files:\n",
        "    with open(f'{training_path}{task_file}', 'r') as f:\n",
        "        task = json.load(f)\n",
        "        training_tasks.append(task)\n",
        "\n",
        "# Example\n",
        "training_tasks[3][\"train\"][0][\"output\"]"
      ]
    },
    {
      "cell_type": "code",
      "execution_count": 11,
      "metadata": {
        "colab": {
          "base_uri": "https://localhost:8080/"
        },
        "id": "0OFklPsCRKK8",
        "outputId": "fb62e253-cc78-45ff-804e-184e92cd536a"
      },
      "outputs": [
        {
          "output_type": "execute_result",
          "data": {
            "text/plain": [
              "[[[0, 0, 0, 0, 0, 0, 0, 0, 0, 0],\n",
              "  [0, 4, 4, 4, 4, 4, 4, 0, 0, 0],\n",
              "  [0, 4, 0, 0, 0, 0, 0, 4, 0, 0],\n",
              "  [0, 0, 4, 0, 0, 0, 0, 0, 4, 0],\n",
              "  [0, 0, 0, 4, 0, 0, 0, 0, 0, 4],\n",
              "  [0, 0, 0, 0, 4, 4, 4, 4, 4, 4],\n",
              "  [0, 0, 0, 0, 0, 0, 0, 0, 0, 0],\n",
              "  [0, 0, 0, 0, 0, 0, 0, 0, 0, 0],\n",
              "  [0, 0, 0, 0, 0, 0, 0, 0, 0, 0],\n",
              "  [0, 0, 0, 0, 0, 0, 0, 0, 0, 0]]]"
            ]
          },
          "metadata": {},
          "execution_count": 11
        }
      ],
      "source": [
        "X_test, X_train, y_train = [], [], []\n",
        "\n",
        "for task in training_tasks:\n",
        "    Xs_test, Xs_train, ys_train = [], [], []\n",
        "\n",
        "    for pair in task[\"test\"]:\n",
        "        Xs_test.append(pair[\"input\"])\n",
        "\n",
        "    for pair in task[\"train\"]:\n",
        "        Xs_train.append(pair[\"input\"])\n",
        "        ys_train.append(pair[\"output\"])\n",
        "    \n",
        "    X_test.append(Xs_test)\n",
        "    X_train.append(Xs_train)\n",
        "    y_train.append(ys_train)\n",
        "\n",
        "matrices = get_all_matrix(X_test)\n",
        "\n",
        "# Example\n",
        "X_test[3]"
      ]
    },
    {
      "cell_type": "markdown",
      "metadata": {
        "id": "s780SDsKp0u9"
      },
      "source": [
        "## **Exploration**\n",
        "\n",
        "Exploring the features of the tasks visually: Means, Distributions, Skews."
      ]
    },
    {
      "cell_type": "code",
      "execution_count": null,
      "metadata": {
        "colab": {
          "base_uri": "https://localhost:8080/",
          "height": 866
        },
        "id": "cIHhe1UoJ3NA",
        "outputId": "8646184e-e98a-4eab-e08a-3fcf57934ebd"
      },
      "outputs": [
        {
          "output_type": "display_data",
          "data": {
            "text/plain": [
              "<Figure size 648x432 with 6 Axes>"
            ],
            "image/png": "[encoded data removed]"
          },
          "metadata": {
            "needs_background": "light"
          }
        },
        {
          "output_type": "display_data",
          "data": {
            "text/plain": [
              "<Figure size 432x432 with 4 Axes>"
            ],
            "image/png": "[encoded data removed]"
          },
          "metadata": {
            "needs_background": "light"
          }
        }
      ],
      "source": [
        "plot_ARC(49, path = \"evaluation\")"
      ]
    },
    {
      "cell_type": "code",
      "execution_count": null,
      "metadata": {
        "colab": {
          "base_uri": "https://localhost:8080/",
          "height": 542
        },
        "id": "PM6GunEWTfp0",
        "outputId": "6b1e5615-008a-452f-9e4b-c381b14a9099"
      },
      "outputs": [
        {
          "output_type": "display_data",
          "data": {
            "text/html": [
              "<html>\n",
              "<head><meta charset=\"utf-8\" /></head>\n",
              "<body>\n",
              "    <div>            <script src=\"https://cdnjs.cloudflare.com/ajax/libs/mathjax/2.7.5/MathJax.js?config=TeX-AMS-MML_SVG\"></script><script type=\"text/javascript\">if (window.MathJax) {MathJax.Hub.Config({SVG: {font: \"STIX-Web\"}});}</script>                <script type=\"text/javascript\">window.PlotlyConfig = {MathJaxConfig: 'local'};</script>\n",
              "        <script src=\"https://cdn.plot.ly/plotly-2.8.3.min.js\"></script>                <div id=\"6d5169fc-1ab8-4cf1-bde2-3230593b7333\" class=\"plotly-graph-div\" style=\"height:525px; width:100%;\"></div>            <script type=\"text/javascript\">                                    window.PLOTLYENV=window.PLOTLYENV || {};                                    if (document.getElementById(\"6d5169fc-1ab8-4cf1-bde2-3230593b7333\")) {                    Plotly.newPlot(                        \"6d5169fc-1ab8-4cf1-bde2-3230593b7333\",                        [{\"autobinx\":false,\"histnorm\":\"probability density\",\"legendgroup\":\"Means\",\"marker\":{\"color\":\"green\"},\"name\":\"Means\",\"opacity\":0.7,\"x\":[4.666666666666667,0.585,0.5555555555555556,0.72,0.17913832199546487,1.1904761904761905,0.4897959183673469,0.4,2.230769230769231,1.4197530864197532,3.2975206611570247,0.2222222222222222,0.02356902356902357,0.9333333333333333,0.2345679012345679,4.0,4.290249433106576,0.20394736842105263,0.3,0.17,2.024793388429752,0.5537190082644629,1.3636363636363635,0.09090909090909091,0.4534412955465587,4.514285714285714,0.31,0.1,3.2095588235294117,0.35,0.4583333333333333,1.44,2.2422145328719725,0.1728395061728395,1.65,0.63,0.58,0.5802469135802469,1.08,1.17,1.04,0.54,0.5,2.49,0.48,1.6666666666666667,0.18518518518518517,3.1666666666666665,2.5,1.5123456790123457,0.358974358974359,0.38636363636363635,4.888888888888889,0.4444444444444444,0.1111111111111111,2.818888888888889,1.8823529411764706,4.444444444444445,3.888888888888889,1.1111111111111112,0.234375,0.0,2.3140495867768593,0.4909090909090909,3.574074074074074,0.08,2.1530612244897958,2.699248120300752,0.8579881656804734,1.7159763313609468,1.52,1.63,1.92,0.7785467128027682,1.171875,1.476923076923077,1.2307692307692308,1.48,3.0444444444444443,0.9145299145299145,0.5333333333333333,4.169934640522876,0.59,0.5306122448979592,2.4209274673008325,1.9591836734693877,0.2222222222222222,1.3333333333333333,0.3,1.731818181818182,1.2152777777777777,5.222222222222222,0.13742690058479531,0.34911242603550297,0.46875,1.2747252747252746,0.125,0.9183673469387755,7.004444444444444,0.30864197530864196,1.3878116343490305,0.7058823529411765,1.4767801857585139,0.37,2.88,0.09803921568627451,1.6319444444444444,1.5555555555555556,0.4444444444444444,1.2222222222222223,0.13609467455621302,4.666666666666667,3.24,0.16,0.7751479289940828,3.249702734839477,0.5,0.1111111111111111,1.3,3.6666666666666665,3.066326530612245,5.666666666666667,0.31555555555555553,2.638755980861244,0.7777777777777778,1.0164835164835164,0.47337278106508873,0.36134453781512604,3.0,0.6,2.08,7.591111111111111,1.0389610389610389,1.6753246753246753,0.6355555555555555,5.777777777777778,1.9876543209876543,0.4444444444444444,0.3888888888888889,0.2771929824561403,1.4895104895104896,3.2222222222222223,0.12,0.015306122448979591,0.925,0.4444444444444444,3.5555555555555554,0.020761245674740483,1.4444444444444444,1.51,2.7777777777777777,0.5,3.6666666666666665,1.32,0.19047619047619047,3.2892561983471076,4.777777777777778,0.6458333333333334,3.111111111111111,0.54,0.4488888888888889,3.204081632653061,2.16,1.2733333333333334,3.010330578512397,0.1858974358974359,0.27,1.0230263157894737,2.05,2.925619834710744,5.555555555555555,0.325,1.9393939393939394,3.0,0.72,0.9,0.5515873015873016,0.0,4.444444444444445,0.22160664819944598,1.25,3.4648526077097506,0.6666666666666666,0.4117647058823529,3.6666666666666665,5.444444444444445,2.671875,1.1111111111111112,0.8275,1.91,2.7267080745341614,0.6920332936979786,0.2222222222222222,0.4444444444444444,1.489090909090909,4.416666666666667,2.3703703703703702,0.56,0.23062381852551986,2.2401960784313726,2.48,2.2222222222222223,0.8359133126934984,0.2986111111111111,0.4857142857142857,1.7489711934156378,0.020833333333333332,0.01,0.7455621301775148,3.6745098039215685,4.918367346938775,0.26,5.547987616099071,0.15454545454545454,2.2,0.8866213151927438,0.6052631578947368,0.2222222222222222,2.5,0.62,1.9861495844875345,2.787878787878788,0.12087912087912088,0.6325,0.12345679012345678,2.997732426303855,1.3333333333333333,0.05078125,1.7777777777777777,1.8046875,1.5555555555555556,0.4444444444444444,0.3055555555555556,3.2,1.0625,0.74,2.2222222222222223,0.5333333333333333,0.6666666666666666,0.2361111111111111,0.9508771929824561,1.1715686274509804,3.2142857142857144,1.1666666666666667,0.30357142857142855,0.6953125,3.375,0.08033240997229917,1.7222222222222223,4.95703125,2.49609375,2.8487712665406426,0.45,0.02976190476190476,0.74,0.02,1.9,0.28,0.8148148148148148,0.9583333333333334,0.31952662721893493,1.2962962962962963,1.0977777777777777,0.12345679012345678,2.8271604938271606,0.12,1.1111111111111112,0.99,1.28,1.6666666666666667,2.577777777777778,1.5541666666666667,3.0709876543209877,0.13333333333333333,2.489795918367347,0.34,2.6666666666666665,0.11555555555555555,2.345679012345679,0.8,0.32,2.950617283950617,3.5625,6.5625,2.0,0.20588235294117646,6.866666666666666,0.8275,0.6863905325443787,0.24691358024691357,2.1,0.07602339181286549,0.18229166666666666,4.013333333333334,5.3359375,0.9629629629629629,3.7777777777777777,0.7032967032967034,2.204761904761905,2.6666666666666665,1.9393939393939394,3.0,0.25,0.14285714285714285,0.7166666666666667,5.111111111111111,4.8125,0.5555555555555556,1.3950617283950617,1.8295454545454546,1.25,2.3407407407407406,3.7777777777777777,3.83984375,0.5190562613430127,2.28,7.766081871345029,5.6,2.560763888888889,3.111111111111111,3.0972222222222223,4.62962962962963,1.046875,1.2222222222222223,0.44,0.24691358024691357,1.0833333333333333,3.3271604938271606,0.5252525252525253,2.642857142857143,2.111111111111111,0.047337278106508875,4.987616099071207,1.0222222222222221,6.5,1.7777777777777777,0.04498269896193772,1.7551020408163265,1.45,0.07,1.6666666666666667,0.5,0.4,0.96,0.0641025641025641,0.85,5.875,0.64,0.192,2.2222222222222223,1.138655462184874,0.68,0.52,1.04,0.7777777777777778,0.21,0.4930555555555556,1.5555555555555556,1.5,0.6049382716049383,0.72,0.047619047619047616,4.53125,0.25,0.05785123966942149,0.7777777777777778,2.28,4.535087719298246,0.48,0.02,0.045,4.217777777777778,1.1222222222222222,0.37,1.62,2.92,0.5892857142857143,2.37,3.59375,1.4583333333333333,2.1,3.6,2.9583333333333335,0.013888888888888888,0.03333333333333333,1.4710743801652892,4.0,0.7,5.950413223140496,1.1647058823529413,2.3290598290598292,0.4583333333333333,0.8668730650154799,1.6666666666666667,0.82,0.18627450980392157,2.435672514619883,0.345679012345679,1.25,2.392857142857143,0.032679738562091505,0.5625,3.72,0.38222222222222224,0.7692307692307693,1.12,0.3888888888888889,4.673469387755102,2.7222222222222223,0.8235294117647058,0.46,6.0,0.6666666666666666,0.6530612244897959,0.8163265306122449,2.9461805555555554],\"xaxis\":\"x\",\"xbins\":{\"end\":7.766081871345029,\"size\":1.0,\"start\":0.0},\"yaxis\":\"y\",\"type\":\"histogram\"},{\"legendgroup\":\"Means\",\"marker\":{\"color\":\"green\"},\"mode\":\"lines\",\"name\":\"Means\",\"showlegend\":false,\"x\":[0.0,0.015532163742690057,0.031064327485380114,0.04659649122807017,0.06212865497076023,0.07766081871345028,0.09319298245614034,0.1087251461988304,0.12425730994152046,0.13978947368421052,0.15532163742690056,0.17085380116959065,0.18638596491228068,0.20191812865497075,0.2174502923976608,0.23298245614035087,0.2485146198830409,0.264046783625731,0.27957894736842104,0.2951111111111111,0.3106432748538011,0.32617543859649123,0.3417076023391813,0.3572397660818713,0.37277192982456137,0.38830409356725143,0.4038362573099415,0.41936842105263156,0.4349005847953216,0.45043274853801163,0.46596491228070175,0.4814970760233918,0.4970292397660818,0.512561403508772,0.528093567251462,0.543625730994152,0.5591578947368421,0.5746900584795321,0.5902222222222222,0.6057543859649123,0.6212865497076022,0.6368187134502923,0.6523508771929825,0.6678830409356725,0.6834152046783626,0.6989473684210527,0.7144795321637426,0.7300116959064327,0.7455438596491227,0.7610760233918128,0.7766081871345029,0.792140350877193,0.807672514619883,0.823204678362573,0.8387368421052631,0.8542690058479532,0.8698011695906432,0.8853333333333333,0.9008654970760233,0.9163976608187133,0.9319298245614035,0.9474619883040936,0.9629941520467836,0.9785263157894737,0.9940584795321636,1.0095906432748538,1.025122807017544,1.040654970760234,1.056187134502924,1.071719298245614,1.087251461988304,1.1027836257309942,1.1183157894736842,1.133847953216374,1.1493801169590643,1.1649122807017542,1.1804444444444444,1.1959766081871344,1.2115087719298245,1.2270409356725145,1.2425730994152044,1.2581052631578946,1.2736374269005846,1.289169590643275,1.304701754385965,1.3202339181286549,1.335766081871345,1.351298245614035,1.3668304093567252,1.3823625730994151,1.3978947368421053,1.4134269005847953,1.4289590643274852,1.4444912280701754,1.4600233918128653,1.4755555555555555,1.4910877192982455,1.5066198830409354,1.5221520467836256,1.5376842105263155,1.5532163742690057,1.568748538011696,1.584280701754386,1.599812865497076,1.615345029239766,1.6308771929824561,1.646409356725146,1.6619415204678363,1.6774736842105262,1.6930058479532162,1.7085380116959064,1.7240701754385963,1.7396023391812865,1.7551345029239764,1.7706666666666666,1.7861988304093566,1.8017309941520465,1.8172631578947367,1.8327953216374266,1.848327485380117,1.863859649122807,1.8793918128654972,1.8949239766081871,1.910456140350877,1.9259883040935672,1.9415204678362572,1.9570526315789474,1.9725847953216373,1.9881169590643273,2.0036491228070172,2.0191812865497076,2.0347134502923976,2.050245614035088,2.065777777777778,2.081309941520468,2.096842105263158,2.112374269005848,2.127906432748538,2.143438596491228,2.158970760233918,2.174502923976608,2.190035087719298,2.2055672514619884,2.2210994152046784,2.2366315789473683,2.2521637426900583,2.267695906432748,2.2832280701754386,2.2987602339181286,2.3142923976608185,2.3298245614035085,2.345356725146199,2.360888888888889,2.3764210526315788,2.3919532163742687,2.4074853801169587,2.423017543859649,2.438549707602339,2.454081871345029,2.469614035087719,2.485146198830409,2.5006783625730993,2.5162105263157892,2.531742690058479,2.547274853801169,2.5628070175438595,2.57833918128655,2.59387134502924,2.60940350877193,2.62493567251462,2.6404678362573097,2.656,2.67153216374269,2.68706432748538,2.70259649122807,2.7181286549707604,2.7336608187134503,2.7491929824561403,2.7647251461988303,2.78025730994152,2.7957894736842106,2.8113216374269006,2.8268538011695905,2.8423859649122805,2.8579181286549704,2.873450292397661,2.8889824561403508,2.9045146198830407,2.9200467836257307,2.9355789473684206,2.951111111111111,2.966643274853801,2.982175438596491,2.997707602339181,3.013239766081871,3.0287719298245612,3.044304093567251,3.059836257309941,3.075368421052631,3.0909005847953215,3.1064327485380114,3.1219649122807014,3.137497076023392,3.1530292397660817,3.168561403508772,3.184093567251462,3.199625730994152,3.215157894736842,3.230690058479532,3.2462222222222223,3.2617543859649123,3.2772865497076022,3.292818713450292,3.308350877192982,3.3238830409356726,3.3394152046783625,3.3549473684210525,3.3704795321637424,3.3860116959064324,3.4015438596491228,3.4170760233918127,3.4326081871345027,3.4481403508771926,3.463672514619883,3.479204678362573,3.494736842105263,3.510269005847953,3.525801169590643,3.541333333333333,3.556865497076023,3.572397660818713,3.587929824561403,3.603461988304093,3.6189941520467834,3.6345263157894734,3.6500584795321633,3.6655906432748533,3.6811228070175432,3.696654970760234,3.712187134502924,3.727719298245614,3.743251461988304,3.7587836257309943,3.7743157894736843,3.7898479532163742,3.805380116959064,3.820912280701754,3.8364444444444445,3.8519766081871345,3.8675087719298245,3.8830409356725144,3.8985730994152044,3.9141052631578948,3.9296374269005847,3.9451695906432747,3.9607017543859646,3.9762339181286546,3.991766081871345,4.0072982456140345,4.022830409356725,4.038362573099415,4.053894736842105,4.069426900584795,4.084959064327485,4.100491228070176,4.116023391812865,4.131555555555556,4.147087719298245,4.162619883040936,4.178152046783626,4.193684210526316,4.209216374269006,4.224748538011696,4.2402807017543855,4.255812865497076,4.2713450292397654,4.286877192982456,4.302409356725145,4.317941520467836,4.333473684210526,4.349005847953216,4.364538011695906,4.380070175438596,4.395602339181286,4.411134502923977,4.426666666666666,4.442198830409357,4.457730994152046,4.473263157894737,4.488795321637427,4.5043274853801165,4.5198596491228065,4.535391812865496,4.550923976608187,4.566456140350877,4.581988304093567,4.597520467836257,4.613052631578947,4.628584795321637,4.644116959064328,4.659649122807017,4.675181286549708,4.690713450292398,4.706245614035088,4.721777777777778,4.737309941520468,4.7528421052631575,4.768374269005848,4.783906432748537,4.799438596491228,4.814970760233917,4.830502923976608,4.846035087719298,4.861567251461988,4.877099415204678,4.892631578947368,4.908163742690058,4.923695906432749,4.939228070175438,4.954760233918129,4.970292397660818,4.985824561403509,5.001356725146199,5.0168888888888885,5.0324210526315785,5.047953216374268,5.063485380116958,5.079017543859649,5.094549707602338,5.110081871345029,5.125614035087719,5.141146198830409,5.1566783625731,5.172210526315789,5.18774269005848,5.203274853801169,5.21880701754386,5.23433918128655,5.24987134502924,5.2654035087719295,5.2809356725146195,5.296467836257309,5.312,5.327532163742689,5.34306432748538,5.358596491228069,5.37412865497076,5.38966081871345,5.40519298245614,5.42072514619883,5.436257309941521,5.45178947368421,5.467321637426901,5.48285380116959,5.498385964912281,5.5139181286549706,5.5294502923976605,5.5449824561403505,5.56051461988304,5.57604678362573,5.591578947368421,5.60711111111111,5.622643274853801,5.63817543859649,5.653707602339181,5.669239766081871,5.684771929824561,5.700304093567252,5.715836257309941,5.731368421052632,5.746900584795322,5.762432748538012,5.7779649122807015,5.7934970760233915,5.809029239766081,5.824561403508772,5.840093567251461,5.855625730994152,5.871157894736841,5.886690058479532,5.902222222222222,5.917754385964912,5.933286549707602,5.948818713450292,5.964350877192982,5.979883040935673,5.995415204678362,6.010947368421053,6.026479532163742,6.0420116959064325,6.0575438596491225,6.073076023391812,6.088608187134502,6.104140350877193,6.119672514619882,6.135204678362573,6.150736842105262,6.166269005847953,6.181801169590643,6.197333333333333,6.212865497076023,6.228397660818713,6.243929824561403,6.259461988304094,6.274994152046784,6.2905263157894735,6.3060584795321635,6.321590643274853,6.337122807017544,6.352654970760233,6.368187134502924,6.383719298245613,6.399251461988304,6.414783625730994,6.430315789473684,6.445847953216374,6.461380116959064,6.476912280701754,6.492444444444445,6.507976608187134,6.523508771929825,6.539040935672514,6.5545730994152045,6.5701052631578944,6.585637426900584,6.601169590643274,6.616701754385964,6.632233918128654,6.647766081871345,6.663298245614034,6.678830409356725,6.694362573099414,6.709894736842105,6.725426900584795,6.740959064327485,6.756491228070175,6.772023391812865,6.787555555555555,6.8030877192982455,6.8186198830409355,6.834152046783625,6.849684210526316,6.865216374269005,6.880748538011696,6.896280701754385,6.911812865497076,6.927345029239766,6.942877192982456,6.958409356725146,6.973941520467836,6.989473684210526,7.005005847953217,7.020538011695906,7.036070175438597,7.051602339181286,7.0671345029239765,7.082666666666666,7.098198830409356,7.113730994152046,7.129263157894736,7.144795321637426,7.160327485380117,7.175859649122806,7.191391812865497,7.206923976608186,7.222456140350877,7.237988304093567,7.253520467836257,7.269052631578947,7.284584795321637,7.300116959064327,7.3156491228070175,7.331181286549707,7.346713450292397,7.3622456140350865,7.377777777777777,7.393309941520468,7.408842105263157,7.424374269005848,7.439906432748537,7.455438596491228,7.470970760233918,7.486502923976608,7.502035087719298,7.517567251461989,7.533099415204678,7.548631578947369,7.564163742690058,7.5796959064327485,7.595228070175438,7.610760233918128,7.626292397660818,7.641824561403508,7.657356725146198,7.672888888888889,7.688421052631578,7.703953216374269,7.719485380116958,7.735017543859649,7.750549707602339],\"xaxis\":\"x\",\"y\":[0.26304445179983227,0.2689471575875514,0.2747676018496359,0.2804964030697139,0.2861243281899704,0.2916423246817859,0.2970415520088924,0.30231341231631104,0.3074495801826604,0.3124420312788523,0.31728306978275406,0.32196535440693996,0.32648192290523814,0.33082621493318143,0.3349920931477931,0.3389738624431058,0.3427662872295153,0.34636460667726204,0.349764547857022,0.3529623367236367,0.35595470690228115,0.3587389062498354,0.361312701177705,0.3636743787357908,0.3658227464705926,0.3677571300834833,0.36947736892788885,0.37098380939639314,0.37227729626053807,0.37335916203728153,0.3742312144665709,0.37489572219427875,0.3753553987637688,0.3756133850274945,0.37567323009736053,0.37553887095893196,0.37521461088001934,0.37470509674867375,0.3740152954791002,0.37315046962657267,0.3721161523539847,0.3709181218932714,0.36956237564463074,0.3680551040551927,0.3664026644166632,0.3646115547184735,0.36268838768916195,0.3606398651541459,0.3584727528327734,0.3561938556915853,0.35380999396419066,0.35132797994106096,0.3487545956249907,0.3460965713399936,0.3433605653730633,0.3405531447196259,0.33768076699467914,0.33474976356262637,0.33176632392975985,0.32873648143425827,0.3256661002595245,0.32256086378775356,0.31942626430183907,0.31626759403519855,0.31308993756077996,0.3098981655025831,0.30669692954543404,0.3034906587115543,0.3002835568657667,0.2970796014049147,0.2938825430813607,0.29069590690522157,0.2875229940653992,0.2843668848053982,0.2812304421864685,0.2781163166677735,0.2750269514309919,0.2719645883751508,0.2689312747063729,0.26592887004679217,0.26295905398694724,0.2600233340066116,0.25712305369020333,0.2542594011645646,0.251433417689068,0.24864600633059303,0.24589794065889856,0.24318987340130505,0.24052234499928304,0.23789579201354646,0.235310555328479,0.23276688811116938,0.23026496348494385,0.22780488188199569,0.22538667804451912,0.2230103276485782,0.2206757535297523,0.21838283149437288,0.216131395704813,0.21392124363184647,0.2117521405714421,0.20962382372753446,0.20753600586623847,0.20548837855064636,0.20348061496874073,0.20151237237002442,0.199583294129241,0.19769301145796708,0.19584114478693743,0.19402730484367411,0.19225109345136315,0.1905121040759076,0.18880992214875858,0.1871441251934164,0.18551428278348497,0.1839199563598117,0.18236069893361367,0.18083605470156502,0.17934555859765824,0.17788873580523723,0.17646510125099993,0.17507415910099136,0.17371540227667734,0.17238831200715696,0.1710923574314527,0.1698269952626479,0.16859166952344806,0.1673858113605715,0.16620883894323235,0.16506015744890634,0.16393915913759724,0.1628452235139583,0.16177771757491233,0.160735996138837,0.1597194022510197,0.15872726765886497,0.15775891334936495,0.156813650140534,0.1558907793179388,0.15498959330708797,0.15410937637228309,0.15324940533258363,0.15240895028577542,0.15158727533166708,0.15078363928662736,0.14999729638204268,0.14922749694024798,0.14847348802251134,0.14773451404473695,0.14700981735774468,0.14629863879019558,0.14560021815350122,0.14491379470929258,0.14423860760127077,0.14357389625444697,0.1429189007459,0.14227286215221832,0.14163502287972773,0.14100462698441021,0.14038092048909587,0.13976315170602796,0.13915057157327138,0.13854243401362032,0.13793799632470147,0.13733651960880902,0.13673726925069948,0.13613951545108702,0.1355425338229334,0.13494560605684114,0.13434802066091323,0.1337490737793969,0.13314807009326032,0.1325443238045904,0.1319371597053869,0.1313259143299397,0.13070993718858304,0.13008859207919743,0.12946125847144868,0.12882733295738066,0.12818623076068705,0.12753738729575786,0.12688025976647666,0.12621432879372593,0.12553910005968524,0.12485410595626464,0.12415890722443415,0.12345309457079841,0.12273629024751094,0.1220081495815625,0.12126836243956862,0.1205166546144742,0.1197527891210316,0.11897656738752765,0.118187830332,0.11738645931209298,0.11657237693874448,0.11574554774505041,0.1149059787028985,0.11405371958130602,0.11318886314177515,0.11231154516741701,0.11142194432404524,0.11052028185289249,0.10960682109602958,0.10868186685696431,0.10774576460022259,0.10679889949498227,0.10584169530898456,0.10487461316002225,0.10389815013323965,0.10291283777330032,0.1019192404611599,0.10091795368572505,0.09990960222107087,0.09889483822015299,0.0978743392360491,0.09684880618174296,0.09581896123930216,0.09478554572900802,0.09374931794860496,0.0927110509923209,0.09167153055872646,0.09063155275582782,0.089591921911057,0.08855344839305884,0.0875169464513677,0.08648323207926084,0.08545312090427444,0.08442742611008051,0.08340695639268741,0.08239251395322271,0.08138489252893698,0.08038487546351043,0.07939323381727122,0.0784107245175647,0.07743808854923258,0.07647604918498635,0.07552531025539386,0.07458655445822693,0.07366044170706426,0.07274760751926795,0.07184866144379089,0.07096418552967189,0.070094732836566,0.06924082598920084,0.06840295577824528,0.06758157981070934,0.06677712121364841,0.06598996739560133,0.06522046887084605,0.06446893815218026,0.06373564871852254,0.06302083406415963,0.06232468683692888,0.06164735807300615,0.060988956536255495,0.06034954817027916,0.05972915567137499,0.059127758190552306,0.05854529117258076,0.05798164633973194,0.057436671827428426,0.056910172478443134,0.05640191030157883,0.05591160509992891,0.05543893527286557,0.05498353879483877,0.054545014372901025,0.05412292278361749,0.05371678838868568,0.053326100827192136,0.05295031688098534,0.052588862508168216,0.052241135038220414,0.05190650552076742,0.05158432121854634,0.051273908233681484,0.05097457425500621,0.05068561141285845,0.05040629922655982,0.05013590762866947,0.04987370004910674,0.049618936541366655,0.04937087693232514,0.04912878397655735,0.04889192649567699,0.048659582482956744,0.04843104215341701,0.048205610919666186,0.04798261227405598,0.04776139055816194,0.04754131360122703,0.04732177520999503,0.04710219749331596,0.046882033006012604,0.046660766697748,0.04643791765402026,0.046213040617914584,0.045985727282855805,0.045755607348308774,0.04552234933215575,0.04528566113532076,0.04504529035609635,0.04480102435353977,0.044552690061224726,0.044300153554546653,0.044043319376665106,0.04378212963000794,0.04351656284204656,0.043246632615757175,0.04297238607680325,0.042693902130983445,0.04241128954688949,0.04212468487998125,0.04183425025541577,0.04154017102794285,0.041242653338002276,0.04094192158381518,0.04063821582975148,0.04033178917157611,0.04002290507932171,0.03971183473850862,0.039398854410237376,0.0390842428303099,0.038768278667006405,0.03845123805645706,0.03813339223370677,0.03781500527658933,0.037496331978412706,0.037177615864217986,0.036859087364028646,0.03654096215505657,0.03622343968330324,0.03590670187338898,0.03559091203378415,0.035276213962915096,0.03496273125988534,0.03465056684181468,0.03433980266805525,0.034030499669824195,0.033722697882101145,0.033416416772992834,0.03311165576418374,0.03280839493457495,0.03250659589778642,0.032206202842861874,0.03190714372628717,0.031609331602319816,0.031312666077635276,0.031017034875436496,0.030722315493447675,0.030428376939630082,0.030135081529016835,0.02984228672477195,0.029549847006429656,0.02925761574827274,0.02896544709095116,0.02867319778973077,0.028380729023184913,0.028087908146700785,0.027794610375854012,0.027500720385508957,0.027206133811413756,0.026910758642075143,0.026614516489802464,0.02631734373099847,0.02601919250703031,0.02572003157832894,0.02541984702572634,0.025118642794433006,0.024816441077475528,0.02451328253683664,0.02420922636196214,0.023904350166703333,0.023598749727140236,0.023292538564068935,0.022985847375222957,0.02267882332352401,0.022371629188813667,0.02206444239159043,0.021757453898265656,0.0214508670183402,0.02114489610469431,0.02083976516886301,0.02053570642373823,0.020232958766592538,0.019931766215653814,0.019632376313676352,0.01933503851205086,0.019040002548972375,0.018747516835048078,0.018457826859472035,0.018171173629533324,0.017887792155754784,0.017607909994393052,0.017331745858369513,0.017059508306956843,0.016791394523719937,0.016527589191318418,0.016268263470821547,0.01601357409218275,0.015763662561472134,0.015518654489387742,0.015278659044464609,0.015043768533288662,0.014814058108907902,0.014589585607527355,0.014370391512485153,0.014156499043445552,0.013947914367718662,0.013744626929634142,0.01354660989296747,0.01335382069054515,0.013166201674352347,0.01298368085873214,0.012806172748611407,0.012633579244113211,0.012465790612427374,0.01230268651740985,0.012144137097071024,0.011990004078893203,0.011840141922790549,0.011694398981487289,0.011552618668144731,0.011414640621208323,0.011280301856674078,0.011149437898282539,0.011021883876536147,0.010897475587896655,0.010776050506048815,0.010657448737707893,0.010541513916097913,0.010428094025924909,0.01031704215441232,0.010208217163742265,0.010101484281053898,0.009996715602977302,0.009893790512523037,0.009792596006995467,0.009693026936444162,0.009594986153005318,0.009498384572307039,0.009403141148910473,0.009309182768527432,0.009216444060487779,0.009124867134618849,0.009034401247341683,0.008945002402376081,0.008856632891977616,0.00876926078509679,0.00868285936925296,0.00859740655324855,0.008512884238111106,0.008429277663839206,0.00834657473964359,0.008264765365414393,0.008183840752112379,0.008103792748673854,0.008024613182841055,0.00794629322308081,0.007868822768439943,0.007792189872807855,0.007716380209620237,0.0076413765825463975,0.007567158487163111,0.007493701728033327,0.007420978094987233,0.007348955101749883,0.00727759578938248,0.007206858596308884,0.007136697295992651,0.007067061002620098,0.006997894244437906,0.006929137103697414,0.0068607254214787,0.006792591065011778,0.006724662254487739,0.006656863945763452,0.0065891182648172555,0.006521344989313577,0.006453462072186811,0.006385386201763837,0.006317033392612354,0.006248319601033029,0.006179161358908486,0.006109476419483288,0.006039184408577008,0.00596820747472721,0.005896470931819517,0.00582390388788808,0.005750439853956813,0.005676017327040377,0.005600580341727811,0.005524078985128463,0.0054464698703650125,0.0053677165642462225,0.0052877899652377935,0.0052066686283680115,0.005124339034248207,0.005040795799953153],\"yaxis\":\"y\",\"type\":\"scatter\"},{\"legendgroup\":\"Means\",\"marker\":{\"color\":\"green\",\"symbol\":\"line-ns-open\"},\"mode\":\"markers\",\"name\":\"Means\",\"showlegend\":false,\"x\":[4.666666666666667,0.585,0.5555555555555556,0.72,0.17913832199546487,1.1904761904761905,0.4897959183673469,0.4,2.230769230769231,1.4197530864197532,3.2975206611570247,0.2222222222222222,0.02356902356902357,0.9333333333333333,0.2345679012345679,4.0,4.290249433106576,0.20394736842105263,0.3,0.17,2.024793388429752,0.5537190082644629,1.3636363636363635,0.09090909090909091,0.4534412955465587,4.514285714285714,0.31,0.1,3.2095588235294117,0.35,0.4583333333333333,1.44,2.2422145328719725,0.1728395061728395,1.65,0.63,0.58,0.5802469135802469,1.08,1.17,1.04,0.54,0.5,2.49,0.48,1.6666666666666667,0.18518518518518517,3.1666666666666665,2.5,1.5123456790123457,0.358974358974359,0.38636363636363635,4.888888888888889,0.4444444444444444,0.1111111111111111,2.818888888888889,1.8823529411764706,4.444444444444445,3.888888888888889,1.1111111111111112,0.234375,0.0,2.3140495867768593,0.4909090909090909,3.574074074074074,0.08,2.1530612244897958,2.699248120300752,0.8579881656804734,1.7159763313609468,1.52,1.63,1.92,0.7785467128027682,1.171875,1.476923076923077,1.2307692307692308,1.48,3.0444444444444443,0.9145299145299145,0.5333333333333333,4.169934640522876,0.59,0.5306122448979592,2.4209274673008325,1.9591836734693877,0.2222222222222222,1.3333333333333333,0.3,1.731818181818182,1.2152777777777777,5.222222222222222,0.13742690058479531,0.34911242603550297,0.46875,1.2747252747252746,0.125,0.9183673469387755,7.004444444444444,0.30864197530864196,1.3878116343490305,0.7058823529411765,1.4767801857585139,0.37,2.88,0.09803921568627451,1.6319444444444444,1.5555555555555556,0.4444444444444444,1.2222222222222223,0.13609467455621302,4.666666666666667,3.24,0.16,0.7751479289940828,3.249702734839477,0.5,0.1111111111111111,1.3,3.6666666666666665,3.066326530612245,5.666666666666667,0.31555555555555553,2.638755980861244,0.7777777777777778,1.0164835164835164,0.47337278106508873,0.36134453781512604,3.0,0.6,2.08,7.591111111111111,1.0389610389610389,1.6753246753246753,0.6355555555555555,5.777777777777778,1.9876543209876543,0.4444444444444444,0.3888888888888889,0.2771929824561403,1.4895104895104896,3.2222222222222223,0.12,0.015306122448979591,0.925,0.4444444444444444,3.5555555555555554,0.020761245674740483,1.4444444444444444,1.51,2.7777777777777777,0.5,3.6666666666666665,1.32,0.19047619047619047,3.2892561983471076,4.777777777777778,0.6458333333333334,3.111111111111111,0.54,0.4488888888888889,3.204081632653061,2.16,1.2733333333333334,3.010330578512397,0.1858974358974359,0.27,1.0230263157894737,2.05,2.925619834710744,5.555555555555555,0.325,1.9393939393939394,3.0,0.72,0.9,0.5515873015873016,0.0,4.444444444444445,0.22160664819944598,1.25,3.4648526077097506,0.6666666666666666,0.4117647058823529,3.6666666666666665,5.444444444444445,2.671875,1.1111111111111112,0.8275,1.91,2.7267080745341614,0.6920332936979786,0.2222222222222222,0.4444444444444444,1.489090909090909,4.416666666666667,2.3703703703703702,0.56,0.23062381852551986,2.2401960784313726,2.48,2.2222222222222223,0.8359133126934984,0.2986111111111111,0.4857142857142857,1.7489711934156378,0.020833333333333332,0.01,0.7455621301775148,3.6745098039215685,4.918367346938775,0.26,5.547987616099071,0.15454545454545454,2.2,0.8866213151927438,0.6052631578947368,0.2222222222222222,2.5,0.62,1.9861495844875345,2.787878787878788,0.12087912087912088,0.6325,0.12345679012345678,2.997732426303855,1.3333333333333333,0.05078125,1.7777777777777777,1.8046875,1.5555555555555556,0.4444444444444444,0.3055555555555556,3.2,1.0625,0.74,2.2222222222222223,0.5333333333333333,0.6666666666666666,0.2361111111111111,0.9508771929824561,1.1715686274509804,3.2142857142857144,1.1666666666666667,0.30357142857142855,0.6953125,3.375,0.08033240997229917,1.7222222222222223,4.95703125,2.49609375,2.8487712665406426,0.45,0.02976190476190476,0.74,0.02,1.9,0.28,0.8148148148148148,0.9583333333333334,0.31952662721893493,1.2962962962962963,1.0977777777777777,0.12345679012345678,2.8271604938271606,0.12,1.1111111111111112,0.99,1.28,1.6666666666666667,2.577777777777778,1.5541666666666667,3.0709876543209877,0.13333333333333333,2.489795918367347,0.34,2.6666666666666665,0.11555555555555555,2.345679012345679,0.8,0.32,2.950617283950617,3.5625,6.5625,2.0,0.20588235294117646,6.866666666666666,0.8275,0.6863905325443787,0.24691358024691357,2.1,0.07602339181286549,0.18229166666666666,4.013333333333334,5.3359375,0.9629629629629629,3.7777777777777777,0.7032967032967034,2.204761904761905,2.6666666666666665,1.9393939393939394,3.0,0.25,0.14285714285714285,0.7166666666666667,5.111111111111111,4.8125,0.5555555555555556,1.3950617283950617,1.8295454545454546,1.25,2.3407407407407406,3.7777777777777777,3.83984375,0.5190562613430127,2.28,7.766081871345029,5.6,2.560763888888889,3.111111111111111,3.0972222222222223,4.62962962962963,1.046875,1.2222222222222223,0.44,0.24691358024691357,1.0833333333333333,3.3271604938271606,0.5252525252525253,2.642857142857143,2.111111111111111,0.047337278106508875,4.987616099071207,1.0222222222222221,6.5,1.7777777777777777,0.04498269896193772,1.7551020408163265,1.45,0.07,1.6666666666666667,0.5,0.4,0.96,0.0641025641025641,0.85,5.875,0.64,0.192,2.2222222222222223,1.138655462184874,0.68,0.52,1.04,0.7777777777777778,0.21,0.4930555555555556,1.5555555555555556,1.5,0.6049382716049383,0.72,0.047619047619047616,4.53125,0.25,0.05785123966942149,0.7777777777777778,2.28,4.535087719298246,0.48,0.02,0.045,4.217777777777778,1.1222222222222222,0.37,1.62,2.92,0.5892857142857143,2.37,3.59375,1.4583333333333333,2.1,3.6,2.9583333333333335,0.013888888888888888,0.03333333333333333,1.4710743801652892,4.0,0.7,5.950413223140496,1.1647058823529413,2.3290598290598292,0.4583333333333333,0.8668730650154799,1.6666666666666667,0.82,0.18627450980392157,2.435672514619883,0.345679012345679,1.25,2.392857142857143,0.032679738562091505,0.5625,3.72,0.38222222222222224,0.7692307692307693,1.12,0.3888888888888889,4.673469387755102,2.7222222222222223,0.8235294117647058,0.46,6.0,0.6666666666666666,0.6530612244897959,0.8163265306122449,2.9461805555555554],\"xaxis\":\"x\",\"y\":[\"Means\",\"Means\",\"Means\",\"Means\",\"Means\",\"Means\",\"Means\",\"Means\",\"Means\",\"Means\",\"Means\",\"Means\",\"Means\",\"Means\",\"Means\",\"Means\",\"Means\",\"Means\",\"Means\",\"Means\",\"Means\",\"Means\",\"Means\",\"Means\",\"Means\",\"Means\",\"Means\",\"Means\",\"Means\",\"Means\",\"Means\",\"Means\",\"Means\",\"Means\",\"Means\",\"Means\",\"Means\",\"Means\",\"Means\",\"Means\",\"Means\",\"Means\",\"Means\",\"Means\",\"Means\",\"Means\",\"Means\",\"Means\",\"Means\",\"Means\",\"Means\",\"Means\",\"Means\",\"Means\",\"Means\",\"Means\",\"Means\",\"Means\",\"Means\",\"Means\",\"Means\",\"Means\",\"Means\",\"Means\",\"Means\",\"Means\",\"Means\",\"Means\",\"Means\",\"Means\",\"Means\",\"Means\",\"Means\",\"Means\",\"Means\",\"Means\",\"Means\",\"Means\",\"Means\",\"Means\",\"Means\",\"Means\",\"Means\",\"Means\",\"Means\",\"Means\",\"Means\",\"Means\",\"Means\",\"Means\",\"Means\",\"Means\",\"Means\",\"Means\",\"Means\",\"Means\",\"Means\",\"Means\",\"Means\",\"Means\",\"Means\",\"Means\",\"Means\",\"Means\",\"Means\",\"Means\",\"Means\",\"Means\",\"Means\",\"Means\",\"Means\",\"Means\",\"Means\",\"Means\",\"Means\",\"Means\",\"Means\",\"Means\",\"Means\",\"Means\",\"Means\",\"Means\",\"Means\",\"Means\",\"Means\",\"Means\",\"Means\",\"Means\",\"Means\",\"Means\",\"Means\",\"Means\",\"Means\",\"Means\",\"Means\",\"Means\",\"Means\",\"Means\",\"Means\",\"Means\",\"Means\",\"Means\",\"Means\",\"Means\",\"Means\",\"Means\",\"Means\",\"Means\",\"Means\",\"Means\",\"Means\",\"Means\",\"Means\",\"Means\",\"Means\",\"Means\",\"Means\",\"Means\",\"Means\",\"Means\",\"Means\",\"Means\",\"Means\",\"Means\",\"Means\",\"Means\",\"Means\",\"Means\",\"Means\",\"Means\",\"Means\",\"Means\",\"Means\",\"Means\",\"Means\",\"Means\",\"Means\",\"Means\",\"Means\",\"Means\",\"Means\",\"Means\",\"Means\",\"Means\",\"Means\",\"Means\",\"Means\",\"Means\",\"Means\",\"Means\",\"Means\",\"Means\",\"Means\",\"Means\",\"Means\",\"Means\",\"Means\",\"Means\",\"Means\",\"Means\",\"Means\",\"Means\",\"Means\",\"Means\",\"Means\",\"Means\",\"Means\",\"Means\",\"Means\",\"Means\",\"Means\",\"Means\",\"Means\",\"Means\",\"Means\",\"Means\",\"Means\",\"Means\",\"Means\",\"Means\",\"Means\",\"Means\",\"Means\",\"Means\",\"Means\",\"Means\",\"Means\",\"Means\",\"Means\",\"Means\",\"Means\",\"Means\",\"Means\",\"Means\",\"Means\",\"Means\",\"Means\",\"Means\",\"Means\",\"Means\",\"Means\",\"Means\",\"Means\",\"Means\",\"Means\",\"Means\",\"Means\",\"Means\",\"Means\",\"Means\",\"Means\",\"Means\",\"Means\",\"Means\",\"Means\",\"Means\",\"Means\",\"Means\",\"Means\",\"Means\",\"Means\",\"Means\",\"Means\",\"Means\",\"Means\",\"Means\",\"Means\",\"Means\",\"Means\",\"Means\",\"Means\",\"Means\",\"Means\",\"Means\",\"Means\",\"Means\",\"Means\",\"Means\",\"Means\",\"Means\",\"Means\",\"Means\",\"Means\",\"Means\",\"Means\",\"Means\",\"Means\",\"Means\",\"Means\",\"Means\",\"Means\",\"Means\",\"Means\",\"Means\",\"Means\",\"Means\",\"Means\",\"Means\",\"Means\",\"Means\",\"Means\",\"Means\",\"Means\",\"Means\",\"Means\",\"Means\",\"Means\",\"Means\",\"Means\",\"Means\",\"Means\",\"Means\",\"Means\",\"Means\",\"Means\",\"Means\",\"Means\",\"Means\",\"Means\",\"Means\",\"Means\",\"Means\",\"Means\",\"Means\",\"Means\",\"Means\",\"Means\",\"Means\",\"Means\",\"Means\",\"Means\",\"Means\",\"Means\",\"Means\",\"Means\",\"Means\",\"Means\",\"Means\",\"Means\",\"Means\",\"Means\",\"Means\",\"Means\",\"Means\",\"Means\",\"Means\",\"Means\",\"Means\",\"Means\",\"Means\",\"Means\",\"Means\",\"Means\",\"Means\",\"Means\",\"Means\",\"Means\",\"Means\",\"Means\",\"Means\",\"Means\",\"Means\",\"Means\",\"Means\",\"Means\",\"Means\",\"Means\",\"Means\",\"Means\",\"Means\",\"Means\",\"Means\",\"Means\",\"Means\",\"Means\",\"Means\",\"Means\",\"Means\",\"Means\",\"Means\",\"Means\",\"Means\",\"Means\",\"Means\",\"Means\",\"Means\",\"Means\",\"Means\",\"Means\",\"Means\",\"Means\",\"Means\",\"Means\",\"Means\",\"Means\",\"Means\",\"Means\",\"Means\",\"Means\",\"Means\",\"Means\",\"Means\",\"Means\",\"Means\",\"Means\",\"Means\",\"Means\",\"Means\",\"Means\",\"Means\",\"Means\",\"Means\",\"Means\",\"Means\",\"Means\",\"Means\"],\"yaxis\":\"y2\",\"type\":\"scatter\"}],                        {\"barmode\":\"overlay\",\"hovermode\":\"closest\",\"legend\":{\"traceorder\":\"reversed\"},\"xaxis\":{\"anchor\":\"y2\",\"domain\":[0.0,1.0],\"zeroline\":false},\"yaxis\":{\"anchor\":\"free\",\"domain\":[0.35,1],\"position\":0.0},\"yaxis2\":{\"anchor\":\"x\",\"domain\":[0,0.25],\"dtick\":1,\"showticklabels\":false},\"template\":{\"data\":{\"bar\":[{\"error_x\":{\"color\":\"#2a3f5f\"},\"error_y\":{\"color\":\"#2a3f5f\"},\"marker\":{\"line\":{\"color\":\"#E5ECF6\",\"width\":0.5},\"pattern\":{\"fillmode\":\"overlay\",\"size\":10,\"solidity\":0.2}},\"type\":\"bar\"}],\"barpolar\":[{\"marker\":{\"line\":{\"color\":\"#E5ECF6\",\"width\":0.5},\"pattern\":{\"fillmode\":\"overlay\",\"size\":10,\"solidity\":0.2}},\"type\":\"barpolar\"}],\"carpet\":[{\"aaxis\":{\"endlinecolor\":\"#2a3f5f\",\"gridcolor\":\"white\",\"linecolor\":\"white\",\"minorgridcolor\":\"white\",\"startlinecolor\":\"#2a3f5f\"},\"baxis\":{\"endlinecolor\":\"#2a3f5f\",\"gridcolor\":\"white\",\"linecolor\":\"white\",\"minorgridcolor\":\"white\",\"startlinecolor\":\"#2a3f5f\"},\"type\":\"carpet\"}],\"choropleth\":[{\"colorbar\":{\"outlinewidth\":0,\"ticks\":\"\"},\"type\":\"choropleth\"}],\"contour\":[{\"colorbar\":{\"outlinewidth\":0,\"ticks\":\"\"},\"colorscale\":[[0.0,\"#0d0887\"],[0.1111111111111111,\"#46039f\"],[0.2222222222222222,\"#7201a8\"],[0.3333333333333333,\"#9c179e\"],[0.4444444444444444,\"#bd3786\"],[0.5555555555555556,\"#d8576b\"],[0.6666666666666666,\"#ed7953\"],[0.7777777777777778,\"#fb9f3a\"],[0.8888888888888888,\"#fdca26\"],[1.0,\"#f0f921\"]],\"type\":\"contour\"}],\"contourcarpet\":[{\"colorbar\":{\"outlinewidth\":0,\"ticks\":\"\"},\"type\":\"contourcarpet\"}],\"heatmap\":[{\"colorbar\":{\"outlinewidth\":0,\"ticks\":\"\"},\"colorscale\":[[0.0,\"#0d0887\"],[0.1111111111111111,\"#46039f\"],[0.2222222222222222,\"#7201a8\"],[0.3333333333333333,\"#9c179e\"],[0.4444444444444444,\"#bd3786\"],[0.5555555555555556,\"#d8576b\"],[0.6666666666666666,\"#ed7953\"],[0.7777777777777778,\"#fb9f3a\"],[0.8888888888888888,\"#fdca26\"],[1.0,\"#f0f921\"]],\"type\":\"heatmap\"}],\"heatmapgl\":[{\"colorbar\":{\"outlinewidth\":0,\"ticks\":\"\"},\"colorscale\":[[0.0,\"#0d0887\"],[0.1111111111111111,\"#46039f\"],[0.2222222222222222,\"#7201a8\"],[0.3333333333333333,\"#9c179e\"],[0.4444444444444444,\"#bd3786\"],[0.5555555555555556,\"#d8576b\"],[0.6666666666666666,\"#ed7953\"],[0.7777777777777778,\"#fb9f3a\"],[0.8888888888888888,\"#fdca26\"],[1.0,\"#f0f921\"]],\"type\":\"heatmapgl\"}],\"histogram\":[{\"marker\":{\"pattern\":{\"fillmode\":\"overlay\",\"size\":10,\"solidity\":0.2}},\"type\":\"histogram\"}],\"histogram2d\":[{\"colorbar\":{\"outlinewidth\":0,\"ticks\":\"\"},\"colorscale\":[[0.0,\"#0d0887\"],[0.1111111111111111,\"#46039f\"],[0.2222222222222222,\"#7201a8\"],[0.3333333333333333,\"#9c179e\"],[0.4444444444444444,\"#bd3786\"],[0.5555555555555556,\"#d8576b\"],[0.6666666666666666,\"#ed7953\"],[0.7777777777777778,\"#fb9f3a\"],[0.8888888888888888,\"#fdca26\"],[1.0,\"#f0f921\"]],\"type\":\"histogram2d\"}],\"histogram2dcontour\":[{\"colorbar\":{\"outlinewidth\":0,\"ticks\":\"\"},\"colorscale\":[[0.0,\"#0d0887\"],[0.1111111111111111,\"#46039f\"],[0.2222222222222222,\"#7201a8\"],[0.3333333333333333,\"#9c179e\"],[0.4444444444444444,\"#bd3786\"],[0.5555555555555556,\"#d8576b\"],[0.6666666666666666,\"#ed7953\"],[0.7777777777777778,\"#fb9f3a\"],[0.8888888888888888,\"#fdca26\"],[1.0,\"#f0f921\"]],\"type\":\"histogram2dcontour\"}],\"mesh3d\":[{\"colorbar\":{\"outlinewidth\":0,\"ticks\":\"\"},\"type\":\"mesh3d\"}],\"parcoords\":[{\"line\":{\"colorbar\":{\"outlinewidth\":0,\"ticks\":\"\"}},\"type\":\"parcoords\"}],\"pie\":[{\"automargin\":true,\"type\":\"pie\"}],\"scatter\":[{\"marker\":{\"colorbar\":{\"outlinewidth\":0,\"ticks\":\"\"}},\"type\":\"scatter\"}],\"scatter3d\":[{\"line\":{\"colorbar\":{\"outlinewidth\":0,\"ticks\":\"\"}},\"marker\":{\"colorbar\":{\"outlinewidth\":0,\"ticks\":\"\"}},\"type\":\"scatter3d\"}],\"scattercarpet\":[{\"marker\":{\"colorbar\":{\"outlinewidth\":0,\"ticks\":\"\"}},\"type\":\"scattercarpet\"}],\"scattergeo\":[{\"marker\":{\"colorbar\":{\"outlinewidth\":0,\"ticks\":\"\"}},\"type\":\"scattergeo\"}],\"scattergl\":[{\"marker\":{\"colorbar\":{\"outlinewidth\":0,\"ticks\":\"\"}},\"type\":\"scattergl\"}],\"scattermapbox\":[{\"marker\":{\"colorbar\":{\"outlinewidth\":0,\"ticks\":\"\"}},\"type\":\"scattermapbox\"}],\"scatterpolar\":[{\"marker\":{\"colorbar\":{\"outlinewidth\":0,\"ticks\":\"\"}},\"type\":\"scatterpolar\"}],\"scatterpolargl\":[{\"marker\":{\"colorbar\":{\"outlinewidth\":0,\"ticks\":\"\"}},\"type\":\"scatterpolargl\"}],\"scatterternary\":[{\"marker\":{\"colorbar\":{\"outlinewidth\":0,\"ticks\":\"\"}},\"type\":\"scatterternary\"}],\"surface\":[{\"colorbar\":{\"outlinewidth\":0,\"ticks\":\"\"},\"colorscale\":[[0.0,\"#0d0887\"],[0.1111111111111111,\"#46039f\"],[0.2222222222222222,\"#7201a8\"],[0.3333333333333333,\"#9c179e\"],[0.4444444444444444,\"#bd3786\"],[0.5555555555555556,\"#d8576b\"],[0.6666666666666666,\"#ed7953\"],[0.7777777777777778,\"#fb9f3a\"],[0.8888888888888888,\"#fdca26\"],[1.0,\"#f0f921\"]],\"type\":\"surface\"}],\"table\":[{\"cells\":{\"fill\":{\"color\":\"#EBF0F8\"},\"line\":{\"color\":\"white\"}},\"header\":{\"fill\":{\"color\":\"#C8D4E3\"},\"line\":{\"color\":\"white\"}},\"type\":\"table\"}]},\"layout\":{\"annotationdefaults\":{\"arrowcolor\":\"#2a3f5f\",\"arrowhead\":0,\"arrowwidth\":1},\"autotypenumbers\":\"strict\",\"coloraxis\":{\"colorbar\":{\"outlinewidth\":0,\"ticks\":\"\"}},\"colorscale\":{\"diverging\":[[0,\"#8e0152\"],[0.1,\"#c51b7d\"],[0.2,\"#de77ae\"],[0.3,\"#f1b6da\"],[0.4,\"#fde0ef\"],[0.5,\"#f7f7f7\"],[0.6,\"#e6f5d0\"],[0.7,\"#b8e186\"],[0.8,\"#7fbc41\"],[0.9,\"#4d9221\"],[1,\"#276419\"]],\"sequential\":[[0.0,\"#0d0887\"],[0.1111111111111111,\"#46039f\"],[0.2222222222222222,\"#7201a8\"],[0.3333333333333333,\"#9c179e\"],[0.4444444444444444,\"#bd3786\"],[0.5555555555555556,\"#d8576b\"],[0.6666666666666666,\"#ed7953\"],[0.7777777777777778,\"#fb9f3a\"],[0.8888888888888888,\"#fdca26\"],[1.0,\"#f0f921\"]],\"sequentialminus\":[[0.0,\"#0d0887\"],[0.1111111111111111,\"#46039f\"],[0.2222222222222222,\"#7201a8\"],[0.3333333333333333,\"#9c179e\"],[0.4444444444444444,\"#bd3786\"],[0.5555555555555556,\"#d8576b\"],[0.6666666666666666,\"#ed7953\"],[0.7777777777777778,\"#fb9f3a\"],[0.8888888888888888,\"#fdca26\"],[1.0,\"#f0f921\"]]},\"colorway\":[\"#636efa\",\"#EF553B\",\"#00cc96\",\"#ab63fa\",\"#FFA15A\",\"#19d3f3\",\"#FF6692\",\"#B6E880\",\"#FF97FF\",\"#FECB52\"],\"font\":{\"color\":\"#2a3f5f\"},\"geo\":{\"bgcolor\":\"white\",\"lakecolor\":\"white\",\"landcolor\":\"#E5ECF6\",\"showlakes\":true,\"showland\":true,\"subunitcolor\":\"white\"},\"hoverlabel\":{\"align\":\"left\"},\"hovermode\":\"closest\",\"mapbox\":{\"style\":\"light\"},\"paper_bgcolor\":\"white\",\"plot_bgcolor\":\"#E5ECF6\",\"polar\":{\"angularaxis\":{\"gridcolor\":\"white\",\"linecolor\":\"white\",\"ticks\":\"\"},\"bgcolor\":\"#E5ECF6\",\"radialaxis\":{\"gridcolor\":\"white\",\"linecolor\":\"white\",\"ticks\":\"\"}},\"scene\":{\"xaxis\":{\"backgroundcolor\":\"#E5ECF6\",\"gridcolor\":\"white\",\"gridwidth\":2,\"linecolor\":\"white\",\"showbackground\":true,\"ticks\":\"\",\"zerolinecolor\":\"white\"},\"yaxis\":{\"backgroundcolor\":\"#E5ECF6\",\"gridcolor\":\"white\",\"gridwidth\":2,\"linecolor\":\"white\",\"showbackground\":true,\"ticks\":\"\",\"zerolinecolor\":\"white\"},\"zaxis\":{\"backgroundcolor\":\"#E5ECF6\",\"gridcolor\":\"white\",\"gridwidth\":2,\"linecolor\":\"white\",\"showbackground\":true,\"ticks\":\"\",\"zerolinecolor\":\"white\"}},\"shapedefaults\":{\"line\":{\"color\":\"#2a3f5f\"}},\"ternary\":{\"aaxis\":{\"gridcolor\":\"white\",\"linecolor\":\"white\",\"ticks\":\"\"},\"baxis\":{\"gridcolor\":\"white\",\"linecolor\":\"white\",\"ticks\":\"\"},\"bgcolor\":\"#E5ECF6\",\"caxis\":{\"gridcolor\":\"white\",\"linecolor\":\"white\",\"ticks\":\"\"}},\"title\":{\"x\":0.05},\"xaxis\":{\"automargin\":true,\"gridcolor\":\"white\",\"linecolor\":\"white\",\"ticks\":\"\",\"title\":{\"standoff\":15},\"zerolinecolor\":\"white\",\"zerolinewidth\":2},\"yaxis\":{\"automargin\":true,\"gridcolor\":\"white\",\"linecolor\":\"white\",\"ticks\":\"\",\"title\":{\"standoff\":15},\"zerolinecolor\":\"white\",\"zerolinewidth\":2}}},\"title\":{\"text\":\"Distribution of matrix mean values\"}},                        {\"responsive\": true}                    ).then(function(){\n",
              "                            \n",
              "var gd = document.getElementById('6d5169fc-1ab8-4cf1-bde2-3230593b7333');\n",
              "var x = new MutationObserver(function (mutations, observer) {{\n",
              "        var display = window.getComputedStyle(gd).display;\n",
              "        if (!display || display === 'none') {{\n",
              "            console.log([gd, 'removed!']);\n",
              "            Plotly.purge(gd);\n",
              "            observer.disconnect();\n",
              "        }}\n",
              "}});\n",
              "\n",
              "// Listen for the removal of the full notebook cells\n",
              "var notebookContainer = gd.closest('#notebook-container');\n",
              "if (notebookContainer) {{\n",
              "    x.observe(notebookContainer, {childList: true});\n",
              "}}\n",
              "\n",
              "// Listen for the clearing of the current output cell\n",
              "var outputEl = gd.closest('.output');\n",
              "if (outputEl) {{\n",
              "    x.observe(outputEl, {childList: true});\n",
              "}}\n",
              "\n",
              "                        })                };                            </script>        </div>\n",
              "</body>\n",
              "</html>"
            ]
          },
          "metadata": {}
        }
      ],
      "source": [
        "means = [np.mean(matrix) for matrix in matrices]\n",
        "fig = ff.create_distplot([means], group_labels=[\"Means\"], colors=[\"green\"])\n",
        "fig.update_layout(title_text=\"Distribution of matrix mean values\")"
      ]
    },
    {
      "cell_type": "code",
      "execution_count": null,
      "metadata": {
        "colab": {
          "base_uri": "https://localhost:8080/",
          "height": 901
        },
        "id": "3zyoHYF3XQSd",
        "outputId": "a77d2e61-d651-48bd-9469-76ecb05ffb35"
      },
      "outputs": [
        {
          "output_type": "display_data",
          "data": {
            "text/plain": [
              "<Figure size 432x432 with 3 Axes>"
            ],
            "image/png": "[encoded data removed]"
          },
          "metadata": {
            "needs_background": "light"
          }
        },
        {
          "output_type": "display_data",
          "data": {
            "text/plain": [
              "<Figure size 432x432 with 3 Axes>"
            ],
            "image/png": "[encoded data removed]"
          },
          "metadata": {
            "needs_background": "light"
          }
        }
      ],
      "source": [
        "heights = [np.shape(matrix)[0] for matrix in matrices]\n",
        "widths = [np.shape(matrix)[1] for matrix in matrices]\n",
        "\n",
        "plot = sns.jointplot(x=widths, y=heights, kind=\"kde\", fill=True, thresh = 0.09, color=\"blueviolet\")\n",
        "plot.set_axis_labels(xlabel=\"Width\", ylabel=\"Height\", fontsize=14)\n",
        "plt.show(plot)\n",
        "\n",
        "plot = sns.jointplot(x=widths, y=heights, kind=\"reg\", color=\"blueviolet\")\n",
        "plot.set_axis_labels(xlabel=\"Width\", ylabel=\"Height\", fontsize=14)\n",
        "plt.show(plot)"
      ]
    },
    {
      "cell_type": "markdown",
      "source": [
        "## **PyTorch Dataset**\n",
        "\n",
        "Preparing the data for the PyTorch framework and applying transformations (e.g., scaling)"
      ],
      "metadata": {
        "id": "kcwIeoBT2B0z"
      }
    },
    {
      "cell_type": "code",
      "execution_count": 44,
      "metadata": {
        "id": "GP9zDHPcGm8k"
      },
      "outputs": [],
      "source": [
        "# Load in Dataset (incl. Augmentations, Padding)\n",
        "class ARCDataset(Dataset):\n",
        "    def __init__(self, X, y, stage=\"train\", aug=[True, True]):\n",
        "        self.stage = stage\n",
        "\n",
        "        if self.stage == \"train\":\n",
        "            self.X, self.y = preprocess_matrix(X, y, aug)\n",
        "            self.X = get_final_matrix(self.X, self.stage)\n",
        "            self.y = get_final_matrix(self.y, self.stage)\n",
        "        else:\n",
        "            self.X = get_final_matrix(X, self.stage)\n",
        "\n",
        "    def __len__(self):\n",
        "        return len(self.X)\n",
        "\n",
        "    def __getitem__(self, idx):\n",
        "        inp = self.X[idx]\n",
        "        inp = torch.tensor(inp, dtype=torch.float32)\n",
        "\n",
        "        if self.stage == \"train\":\n",
        "            outp = self.y[idx]\n",
        "            outp = torch.tensor(outp, dtype=torch.float32)\n",
        "\n",
        "        return inp, outp"
      ]
    },
    {
      "cell_type": "code",
      "source": [
        "# Showcase Padding, One-Hot Encoding, Dimensionality, and Augmentation with regards to Colors\n",
        "train_set = ARCDataset(X_train, y_train, stage=\"train\", aug=[True, True])\n",
        "\n",
        "fig, axs = plt.subplots(2, 5, figsize=(20,8))\n",
        "for i in range(5):\n",
        "    idx = random.randrange(len(train_set.X))\n",
        "    plot_one(reverse_one_hot_encoder(train_set.X[idx]), axs[0,i], i, 'input')\n",
        "    plot_one(reverse_one_hot_encoder(train_set.y[idx]), axs[1,i], i, 'output')"
      ],
      "metadata": {
        "id": "Wdcm6D63fRV1",
        "colab": {
          "base_uri": "https://localhost:8080/"
        },
        "outputId": "06d3f9bc-9806-4f58-a892-b22d3e90e617"
      },
      "execution_count": 70,
      "outputs": [
        {
          "output_type": "stream",
          "name": "stdout",
          "text": [
            "Augmentation: Random Color Flipping\n"
          ]
        }
      ]
    },
    {
      "cell_type": "markdown",
      "metadata": {
        "id": "QXmGhTPqp6AG"
      },
      "source": [
        "## **Embeddings: Variational Autoencoder**"
      ]
    },
    {
      "cell_type": "code",
      "source": [
        "convo_eff(w=30, num=3, k=3)"
      ],
      "metadata": {
        "colab": {
          "base_uri": "https://localhost:8080/"
        },
        "id": "hApVacQu4mjo",
        "outputId": "c51fd5ce-8d25-4502-d4ed-2713803a36e6"
      },
      "execution_count": 17,
      "outputs": [
        {
          "output_type": "execute_result",
          "data": {
            "text/plain": [
              "24.0"
            ]
          },
          "metadata": {},
          "execution_count": 17
        }
      ]
    },
    {
      "cell_type": "code",
      "execution_count": 18,
      "metadata": {
        "id": "unHmrO8r-3ED"
      },
      "outputs": [],
      "source": [
        "class VariationalAutoencoder(nn.Module):\n",
        "    def __init__(self, img_channels=10, feature_dim=[64, 24, 24], latent_dim=64): # Alternatives 32*22*22\n",
        "        super(VariationalAutoencoder, self).__init__()\n",
        "\n",
        "        self.f_dim = feature_dim\n",
        "\n",
        "        # Initializing the 2 convolutional layers and 2 full-connected layers for the encoder\n",
        "        self.encoder = nn.Sequential(\n",
        "            nn.Conv2d(in_channels=img_channels, \n",
        "                      out_channels=256, \n",
        "                      kernel_size=3),\n",
        "            nn.ReLU(),\n",
        "            nn.Conv2d(in_channels=256, \n",
        "                      out_channels=128, \n",
        "                      kernel_size=3),\n",
        "            nn.ReLU(),\n",
        "            nn.Conv2d(in_channels=128, \n",
        "                      out_channels=64, \n",
        "                      kernel_size=3),\n",
        "            nn.ReLU())#,\n",
        "            # nn.Conv2d(in_channels=64, \n",
        "            #           out_channels=32, \n",
        "            #           kernel_size=3),\n",
        "            # nn.ReLU())\n",
        "        self.fc_mu = nn.Linear(np.prod(self.f_dim), latent_dim)\n",
        "        self.fc_var = nn.Linear(np.prod(self.f_dim), latent_dim)\n",
        "\n",
        "        # Initializing the fully-connected layer and 2 convolutional layers for decoder\n",
        "        self.dec_inp = nn.Linear(latent_dim, np.prod(self.f_dim))\n",
        "        self.decoder = nn.Sequential(\n",
        "            # nn.ConvTranspose2d(in_channels=32, \n",
        "            #                    out_channels=64, \n",
        "            #                    kernel_size=3),\n",
        "            # nn.ReLU(),\n",
        "            nn.ConvTranspose2d(in_channels=64, \n",
        "                               out_channels=128, \n",
        "                               kernel_size=3),\n",
        "            nn.ReLU(),\n",
        "            nn.ConvTranspose2d(in_channels=128, \n",
        "                               out_channels=256, \n",
        "                               kernel_size=3),\n",
        "            nn.ReLU(),\n",
        "            nn.ConvTranspose2d(in_channels=256, \n",
        "                               out_channels=img_channels, \n",
        "                               kernel_size=3),\n",
        "            nn.Sigmoid())\n",
        "\n",
        "    def encode(self, x):\n",
        "        # Input is fed into 2 convolutional layers sequentially\n",
        "        # The output feature map are fed into 2 fully-connected layers to predict mean (mu) and variance (logVar)\n",
        "        # Mu and logVar are used for generating middle representation z and KL divergence loss\n",
        "        x = self.encoder(x)\n",
        "        x = x.view(-1, np.prod(self.f_dim))\n",
        "        mu = self.fc_mu(x)\n",
        "        logVar = self.fc_var(x)\n",
        "        return mu, logVar\n",
        "\n",
        "    def reparameterize(self, mu, logVar):\n",
        "        # Reparameterization takes in the input mu and logVar and sample the mu + std * eps\n",
        "        std = torch.exp(logVar/2)\n",
        "        eps = torch.randn_like(std)\n",
        "        return mu + std * eps\n",
        "\n",
        "    def decode(self, z):\n",
        "        # z is fed back into a fully-connected layers and then into two transpose convolutional layers\n",
        "        # The generated output is the same size of the original input\n",
        "        x = self.dec_inp(z)\n",
        "        x = x.view(-1, self.f_dim[0], self.f_dim[1], self.f_dim[2])\n",
        "        x = self.decoder(x)\n",
        "        return x.squeeze()\n",
        "\n",
        "    def forward(self, x):\n",
        "        # The entire pipeline of the VAE: encoder -> reparameterization -> decoder\n",
        "        # output, mu, and logVar are returned for loss computation\n",
        "        mu, logVar = self.encode(x)\n",
        "        z = self.reparameterize(mu, logVar)\n",
        "        out = self.decode(z)\n",
        "        return out, mu, logVar"
      ]
    },
    {
      "cell_type": "markdown",
      "source": [
        "## **Training**"
      ],
      "metadata": {
        "id": "XEtF-ZmAYpy3"
      }
    },
    {
      "cell_type": "code",
      "execution_count": 19,
      "metadata": {
        "id": "wt0cW09_OuNu",
        "colab": {
          "base_uri": "https://localhost:8080/"
        },
        "outputId": "21ad802d-6f64-462a-a2f8-3c53fc521910"
      },
      "outputs": [
        {
          "output_type": "stream",
          "name": "stderr",
          "text": [
            "/usr/local/lib/python3.8/dist-packages/torch/nn/_reduction.py:42: UserWarning: size_average and reduce args will be deprecated, please use reduction='sum' instead.\n",
            "  warnings.warn(warning.format(ret))\n"
          ]
        },
        {
          "output_type": "stream",
          "name": "stdout",
          "text": [
            "Epoch 1: Loss 181550.734375\n",
            "Epoch 2: Loss 151942.109375\n",
            "Epoch 3: Loss 140090.6875\n",
            "Epoch 4: Loss 120628.6328125\n",
            "Epoch 5: Loss 100497.796875\n",
            "Epoch 6: Loss 85655.625\n",
            "Epoch 7: Loss 75513.46875\n",
            "Epoch 8: Loss 75028.1328125\n",
            "Epoch 9: Loss 55960.3828125\n",
            "Epoch 10: Loss 63356.87890625\n",
            "Epoch 11: Loss 56750.40625\n",
            "Epoch 12: Loss 52254.7734375\n",
            "Epoch 13: Loss 45996.25\n",
            "Epoch 14: Loss 49864.9375\n",
            "Epoch 15: Loss 50118.1328125\n",
            "Epoch 16: Loss 46128.9375\n",
            "Epoch 17: Loss 35953.1171875\n",
            "Epoch 18: Loss 54421.8203125\n",
            "Epoch 19: Loss 46433.94921875\n",
            "Epoch 20: Loss 36478.95703125\n",
            "Epoch 21: Loss 41661.14453125\n",
            "Epoch 22: Loss 41834.78125\n",
            "Epoch 23: Loss 42562.046875\n",
            "Epoch 24: Loss 34255.171875\n",
            "Epoch 25: Loss 42873.0078125\n",
            "Epoch 26: Loss 36846.4375\n",
            "Epoch 27: Loss 40878.82421875\n",
            "Epoch 28: Loss 32864.0078125\n",
            "Epoch 29: Loss 41032.71484375\n",
            "Epoch 30: Loss 34752.9609375\n",
            "Epoch 31: Loss 36120.6875\n",
            "Epoch 32: Loss 34759.625\n",
            "Epoch 33: Loss 38480.34375\n",
            "Epoch 34: Loss 34838.28515625\n",
            "Epoch 35: Loss 31679.501953125\n",
            "Epoch 36: Loss 33604.88671875\n",
            "Epoch 37: Loss 39458.97265625\n",
            "Epoch 38: Loss 34090.703125\n",
            "Epoch 39: Loss 32505.486328125\n",
            "Epoch 40: Loss 31864.509765625\n",
            "Epoch 41: Loss 28958.31640625\n",
            "Epoch 42: Loss 31472.17578125\n",
            "Epoch 43: Loss 31501.359375\n",
            "Epoch 44: Loss 30668.4921875\n",
            "Epoch 45: Loss 31438.10546875\n",
            "Epoch 46: Loss 27970.171875\n",
            "Epoch 47: Loss 30127.80859375\n",
            "Epoch 48: Loss 28594.77734375\n",
            "Epoch 49: Loss 30136.6015625\n",
            "Epoch 50: Loss 29246.548828125\n"
          ]
        }
      ],
      "source": [
        "# Define batch size, create dataloaders and initialize network\n",
        "batch_size = 128\n",
        "\n",
        "train_set = ARCDataset(X_train, y_train, stage=\"train\", aug=[True, True])\n",
        "train_loader = DataLoader(train_set, batch_size=batch_size, shuffle=True)\n",
        "\n",
        "vae = VariationalAutoencoder().to(device)\n",
        "\n",
        "# Training the network for a given number of epochs (loss after every epoch is printed)\n",
        "def train(model, train_loader, epochs=20):\n",
        "    optimizer = Adam(model.parameters(), lr=0.001)\n",
        "    for epoch in range(epochs):\n",
        "        model.train()\n",
        "        for batch_idx, data in enumerate(train_loader):\n",
        "            input, _ = data\n",
        "            input = input.to(device)\n",
        "\n",
        "            # Feeding a batch of images into the network to obtain the output image, mu, and logVar \n",
        "            out, mu, logVar = model(input)\n",
        "\n",
        "            # The loss is the BCE loss combined with the KL divergence to ensure the distribution is learnt\n",
        "            kl_divergence = -0.5 * torch.sum(1 + logVar - mu.pow(2) - logVar.exp())\n",
        "            # print(out.shape, inputs.shape)\n",
        "            loss = F.binary_cross_entropy(out, input, size_average=False) + kl_divergence\n",
        "\n",
        "            # Backpropagation based on the loss\n",
        "            optimizer.zero_grad()\n",
        "            loss.backward()\n",
        "            optimizer.step()\n",
        "\n",
        "        print('Epoch {}: Loss {}'.format(epoch+1, loss))\n",
        "    \n",
        "    return model\n",
        "\n",
        "vae_final = train(vae, train_loader, epochs=50)"
      ]
    },
    {
      "cell_type": "markdown",
      "source": [
        "## **Building**"
      ],
      "metadata": {
        "id": "Hpb7zb6iiMPd"
      }
    },
    {
      "cell_type": "code",
      "source": [
        "# Load model for testing\n",
        "model_vae = torch.load('/content/drive/MyDrive/Thesis_LucaThoms/model_64.pt', map_location=torch.device(device))"
      ],
      "metadata": {
        "id": "-ip1KA63tuc4"
      },
      "execution_count": 21,
      "outputs": []
    },
    {
      "cell_type": "code",
      "source": [
        "X_inp = []\n",
        "X_out = []\n",
        "\n",
        "model_vae.eval()\n",
        "with torch.no_grad():\n",
        "    for idx, data in enumerate(train_loader):\n",
        "        input, _ = data\n",
        "        input = input.to(device)\n",
        "        out, mu, logVAR = model_vae(input)\n",
        "        for i in range(len(input)):\n",
        "            X_inp.append(reverse_one_hot_encoder(input[i].cpu().numpy()))\n",
        "            X_out.append(reverse_one_hot_encoder(out[i].cpu().numpy()))"
      ],
      "metadata": {
        "id": "KhMAtUbwZJxu"
      },
      "execution_count": 22,
      "outputs": []
    },
    {
      "cell_type": "code",
      "source": [
        "fig, axs = plt.subplots(2, 5, figsize=(20,8))\n",
        "for i in range(5):\n",
        "    idx = random.randrange(len(X_inp))\n",
        "    plot_one(X_inp[idx], axs[0,i], i, 'input')\n",
        "    plot_one(X_out[idx], axs[1,i], i, 'output')"
      ],
      "metadata": {
        "colab": {
          "base_uri": "https://localhost:8080/",
          "height": 480
        },
        "id": "sbVNLvdvDEi8",
        "outputId": "28805cf7-62a2-42e0-b477-a97c19829e78"
      },
      "execution_count": 34,
      "outputs": [
        {
          "output_type": "display_data",
          "data": {
            "text/plain": [
              "<Figure size 1440x576 with 10 Axes>"
            ],
            "image/png": "[encoded data removed]"
          },
          "metadata": {
            "needs_background": "light"
          }
        }
      ]
    },
    {
      "cell_type": "code",
      "source": [
        "# Plot differences be tween input and output matrices\n",
        "plot_pix_acc(X_inp, X_out)"
      ],
      "metadata": {
        "colab": {
          "base_uri": "https://localhost:8080/",
          "height": 527
        },
        "id": "r-Tz-A-k9URn",
        "outputId": "20b5bb95-174d-4280-af21-cf5bf3f1d3f6"
      },
      "execution_count": 33,
      "outputs": [
        {
          "output_type": "display_data",
          "data": {
            "text/plain": [
              "<Figure size 1080x504 with 1 Axes>"
            ],
            "image/png": "[encoded data removed]"
          },
          "metadata": {
            "needs_background": "light"
          }
        },
        {
          "output_type": "stream",
          "name": "stdout",
          "text": [
            "Number of 100% Correct Representations: 1510\n",
            "Number of 90%+ Correct Representations: 11496\n",
            "Number of 80%+ Correct Representations: 12386\n",
            "Number of 70%+ Correct Representations: 12776\n"
          ]
        }
      ]
    },
    {
      "cell_type": "code",
      "source": [
        "# Plot heatmap of correct pixel determination by the model (absolute)\n",
        "plot_pix_heatmap(X_inp, X_out)"
      ],
      "metadata": {
        "colab": {
          "base_uri": "https://localhost:8080/",
          "height": 411
        },
        "id": "gH8yOlzcjsnY",
        "outputId": "bc437c50-4e44-41ed-b316-166d208cc93a"
      },
      "execution_count": 32,
      "outputs": [
        {
          "output_type": "display_data",
          "data": {
            "text/plain": [
              "<Figure size 504x504 with 2 Axes>"
            ],
            "image/png": "[encoded data removed]"
          },
          "metadata": {
            "needs_background": "light"
          }
        }
      ]
    },
    {
      "cell_type": "markdown",
      "source": [
        "## **Predictions**"
      ],
      "metadata": {
        "id": "XsJjX4ib17eU"
      }
    },
    {
      "cell_type": "code",
      "execution_count": 20,
      "metadata": {
        "id": "Vx3vH7Y7kOnD"
      },
      "outputs": [],
      "source": [
        "## Saving models\n",
        "# torch.save(vae_final, '/content/drive/MyDrive/Thesis_LucaThoms/model.pt')\n",
        "# model_vae = torch.load('/content/drive/MyDrive/Thesis_LucaThoms/model.pt', map_location=torch.device(device.type))\n",
        "\n",
        "## Saving predictions\n",
        "# with open('example_pred.pkl', 'wb') as f:\n",
        "#   pickle.dump(test_predictions, f)\n",
        "\n",
        "# Loading saved predictions\n",
        "# with open('/content/drive/MyDrive/Thesis_LucaThoms/example_pred.pkl', 'rb') as f:\n",
        "#     test_predictions = pickle.load(f)"
      ]
    },
    {
      "cell_type": "markdown",
      "metadata": {
        "id": "1dJSyOwbGhMp"
      },
      "source": [
        "## **Archive**"
      ]
    },
    {
      "cell_type": "code",
      "execution_count": null,
      "metadata": {
        "id": "d-HScTvu_Ifb"
      },
      "outputs": [],
      "source": [
        "def replace_values(a, d):\n",
        "    return np.array([d.get(i, -1) for i in range(a.min(), a.max() + 1)])[a - a.min()]\n",
        "\n",
        "def repeat_matrix(X):\n",
        "    return np.concatenate([X]*((1000 // len(X)) + 1))[:1000]\n",
        "\n",
        "def get_new_matrix(X):\n",
        "    if len(set([np.array(x).shape for x in X])) > 1:\n",
        "        X = np.array([X[0]])\n",
        "    return X\n",
        "\n",
        "def get_ind_matrix(X):\n",
        "    X_mat = []\n",
        "    if len(set([np.array(x).shape for x in X])) > 1:\n",
        "        X_ls = list([np.array(x).shape for x in X])\n",
        "        max_ls = [max(X_ls, key=lambda x:x[i])[i] for i in range(2)]\n",
        "        for i in range(len(X)):\n",
        "            X_pad = padding(np.array(X[i]), max_ls[0], max_ls[1])\n",
        "            X_mat.append(X_pad)\n",
        "    else:\n",
        "        for i in range(len(X)):\n",
        "            X_mat.append(np.array(X[i]))\n",
        "    return X_mat\n",
        "\n",
        "def get_outp(outp, dictionary=None, replace=True):\n",
        "    if replace:\n",
        "        outp = replace_values(outp, dictionary)\n",
        "\n",
        "    outp_matrix_dims = outp.shape\n",
        "    outp_probs_len = outp.shape[0]*outp.shape[1]*10\n",
        "    outp = to_categorical(outp.flatten(),\n",
        "                          num_classes=10).flatten()\n",
        "\n",
        "    return outp, outp_probs_len, outp_matrix_dims\n",
        "\n",
        "def transform_dim(inp_dim, outp_dim, test_dim):\n",
        "    return (test_dim[0]*outp_dim[0]/inp_dim[0],\n",
        "            test_dim[1]*outp_dim[1]/inp_dim[1])\n",
        "\n",
        "def resize(x, test_dim, inp_dim):\n",
        "    if inp_dim == test_dim:\n",
        "        return x\n",
        "    else:\n",
        "        return cv2.resize(flt(x), inp_dim, interpolation=cv2.INTER_AREA)\n",
        "\n",
        "def flt(x): return np.float32(x)\n",
        "def npy(x): return x.cpu().detach().numpy()\n",
        "def itg(x): return np.int32(np.round(x))"
      ]
    },
    {
      "cell_type": "code",
      "execution_count": null,
      "metadata": {
        "id": "at7et6xaq0bK"
      },
      "outputs": [],
      "source": [
        "class ARCDataset(Dataset):\n",
        "    def __init__(self, X, y, stage=\"train\"):\n",
        "        self.X = get_new_matrix(X)\n",
        "        self.X = repeat_matrix(X)\n",
        "        \n",
        "        self.stage = stage\n",
        "        if self.stage == \"train\":\n",
        "            self.y = get_new_matrix(y)\n",
        "            self.y = repeat_matrix(y)\n",
        "        \n",
        "    def __len__(self):\n",
        "        return 1000\n",
        "    \n",
        "    def __getitem__(self, idx):\n",
        "        inp = self.X[idx]\n",
        "        if self.stage == \"train\":\n",
        "            outp = self.y[idx]\n",
        "\n",
        "        if idx != 0:\n",
        "            rep = np.arange(10)\n",
        "            orig = np.arange(10)\n",
        "            np.random.shuffle(rep)\n",
        "            dictionary = dict(zip(orig, rep))\n",
        "            inp = replace_values(inp, dictionary)\n",
        "            if self.stage == \"train\":\n",
        "                outp, outp_probs_len, outp_matrix_dims = get_outp(outp, dictionary)\n",
        "                \n",
        "        if idx == 0:\n",
        "            if self.stage == \"train\":\n",
        "                outp, outp_probs_len, outp_matrix_dims = get_outp(outp, None, False)\n",
        "        \n",
        "        return inp, outp, outp_probs_len, outp_matrix_dims, self.y\n",
        "\n",
        "class ARCDataset(Dataset):\n",
        "    def __init__(self, X, y, stage=\"train\"):\n",
        "        self.X = get_ind_matrix(X)\n",
        "        self.stage = stage\n",
        "        if self.stage == \"train\":\n",
        "            self.y = get_ind_matrix(y)\n",
        "        \n",
        "    def __len__(self):\n",
        "        return len(self.X)\n",
        "    \n",
        "    def __getitem__(self, idx):\n",
        "        inp = self.X[idx]\n",
        "        if self.stage == \"train\":\n",
        "            outp = self.y[idx]\n",
        "            outp, outp_probs_len, outp_matrix_dims = get_outp(outp, None, False)\n",
        "        \n",
        "        return inp, outp, outp_probs_len, outp_matrix_dims, self.y"
      ]
    },
    {
      "cell_type": "code",
      "execution_count": null,
      "metadata": {
        "id": "mircXWr2q-9n"
      },
      "outputs": [],
      "source": [
        "class BasicCNNModel(nn.Module):\n",
        "    def __init__(self, inp_dim=(10, 10), outp_dim=(10, 10)):\n",
        "        super(BasicCNNModel, self).__init__()\n",
        "        \n",
        "        Conv_In = 3\n",
        "        Conv_Out_1 = 50\n",
        "        Conv_Out_2 = 100\n",
        "        Kernel = 3\n",
        "        Dense_In = Conv_Out_2\n",
        "        self.relu = nn.ReLU()\n",
        "        self.softmax = nn.Softmax(dim=1)\n",
        "        self.dense_1 = nn.Linear(Dense_In, outp_dim[0]*outp_dim[1]*10)\n",
        "        \n",
        "        if inp_dim[0] < 5 or inp_dim[1] < 5:\n",
        "            Kernel = 1\n",
        "\n",
        "        self.conv2d_1 = nn.Conv2d(Conv_In, Conv_Out_1, kernel_size=Kernel)\n",
        "        self.conv2d_2 = nn.Conv2d(Conv_Out_1, Conv_Out_2, kernel_size=Kernel)\n",
        "\n",
        "    def forward(self, x, outp_dim):\n",
        "        x = torch.cat([x.unsqueeze(0)]*3)\n",
        "        x = x.permute((1, 0, 2, 3)).float()\n",
        "        self.conv2d_1.in_features = x.shape[1]\n",
        "        conv_1_out = self.relu(self.conv2d_1(x))\n",
        "        self.conv2d_2.in_features = conv_1_out.shape[1]\n",
        "        conv_2_out = self.relu(self.conv2d_2(conv_1_out))\n",
        "        \n",
        "        self.dense_1.out_features = outp_dim\n",
        "        feature_vector, _ = torch.max(conv_2_out, 2)\n",
        "        feature_vector, _ = torch.max(feature_vector, 2)\n",
        "        logit_outputs = self.dense_1(feature_vector)\n",
        "        \n",
        "        out = []\n",
        "        for idx in range(logit_outputs.shape[1]//10):\n",
        "            out.append(self.softmax(logit_outputs[:, idx*10: (idx+1)*10]))\n",
        "        return torch.cat(out, axis=1)\n",
        "\n",
        "class ARCModel(nn.Module):\n",
        "    def __init__(self, inp_dim=(10, 10), outp_dim=(10, 10)):\n",
        "        super(ARCModel, self).__init__()\n",
        "\n",
        "        kernel = 3\n",
        "        if inp_dim[0] < 5 or inp_dim[1] < 5:\n",
        "            kernel = 1\n",
        "        \n",
        "        self.input_shape = inp_dim\n",
        "        self.conv1 = nn.Conv2d(in_channels=3, out_channels=50, kernel_size=(kernel,kernel), padding='same')\n",
        "        self.conv2 = nn.Conv2d(in_channels=50, out_channels=100, kernel_size=(kernel,kernel), padding='same')\n",
        "        self.relu = nn.ReLU()\n",
        "        self.softmax = nn.Softmax(dim=1)\n",
        "        self.dense = nn.Linear(in_features=100, out_features=(outp_dim[0]*outp_dim[1]*10))\n",
        "\n",
        "\n",
        "    def forward(self, x, outp_dim):\n",
        "        x = torch.cat([x.unsqueeze(0)]*3)\n",
        "        x = x.permute((1, 0, 2, 3)).float()\n",
        "        self.conv1.in_features = x.shape[1]\n",
        "        conv_1_out = self.relu(self.conv1(x))\n",
        "        self.conv2.in_features = conv_1_out.shape[1]\n",
        "        conv_2_out = self.relu(self.conv2(conv_1_out))\n",
        "        \n",
        "        self.dense.out_features = outp_dim\n",
        "        feature_vector, _ = torch.max(conv_2_out, 2)\n",
        "        feature_vector, _ = torch.max(feature_vector, 2)\n",
        "        logit_outputs = self.dense(feature_vector)\n",
        "        \n",
        "        out = []\n",
        "        for idx in range(logit_outputs.shape[1]//10):\n",
        "            out.append(self.softmax(logit_outputs[:, idx*10: (idx+1)*10]))\n",
        "        return torch.cat(out, axis=1)\n",
        "\n",
        "class VariationalAutoencoder(nn.Module):\n",
        "\n",
        "    def __init__(self, \n",
        "                 in_channels: int, \n",
        "                 latent_dim: int, \n",
        "                 layer_dim: int,\n",
        "                 hidden_dims: List = None,\n",
        "                 kernel_size: List = None, \n",
        "                 **kwargs) -> None:\n",
        "        super(VariationalAutoencoder, self).__init__()\n",
        "\n",
        "        self.latent_dim = latent_dim\n",
        "\n",
        "        if hidden_dims is None:\n",
        "            hidden_dims = [128] * layer_dim\n",
        "\n",
        "        if kernel_size is None:\n",
        "            kernel_size = list(range(1, (layer_dim + 1)))\n",
        "\n",
        "        # Build Encoder\n",
        "        modules = []\n",
        "        for i in range(len(hidden_dims)):\n",
        "            modules.append(\n",
        "                nn.Sequential(\n",
        "                    nn.Conv2d(in_channels, \n",
        "                              hidden_dims[i],\n",
        "                              kernel_size=kernel_size[i], \n",
        "                              stride=2, \n",
        "                              padding=1),\n",
        "                    nn.BatchNorm2d(hidden_dims[i]),\n",
        "                    nn.LeakyReLU())\n",
        "            )\n",
        "            in_channels = hidden_dims[i]\n",
        "\n",
        "        self.encoder = nn.Sequential(*modules)\n",
        "        self.fc_mu = nn.Linear(hidden_dims[-1]*4, latent_dim)\n",
        "        self.fc_var = nn.Linear(hidden_dims[-1]*4, latent_dim)\n",
        "\n",
        "\n",
        "        # Build Decoder\n",
        "        self.decoder_input = nn.Linear(latent_dim, hidden_dims[-1] * 4)\n",
        "\n",
        "        hidden_dims.reverse()\n",
        "        kernel_size.reverse()\n",
        "        modules = []\n",
        "        for i in range(len(hidden_dims) - 1):\n",
        "            modules.append(\n",
        "                nn.Sequential(\n",
        "                    nn.ConvTranspose2d(hidden_dims[i],\n",
        "                                       hidden_dims[i + 1],\n",
        "                                       kernel_size=kernel_size[i],\n",
        "                                       stride=2,\n",
        "                                       padding=1,\n",
        "                                       output_padding=1),\n",
        "                    nn.BatchNorm2d(hidden_dims[i + 1]),\n",
        "                    nn.LeakyReLU())\n",
        "            )\n",
        "\n",
        "        self.decoder = nn.Sequential(*modules)\n",
        "\n",
        "        self.final_layer = nn.Sequential(\n",
        "                            nn.ConvTranspose2d(hidden_dims[-1],\n",
        "                                               hidden_dims[-1],\n",
        "                                               kernel_size=kernel_size[-1],\n",
        "                                               stride=2,\n",
        "                                               padding=1,\n",
        "                                               output_padding=1),\n",
        "                            nn.BatchNorm2d(hidden_dims[-1]),\n",
        "                            nn.LeakyReLU(),\n",
        "                            nn.Conv2d(hidden_dims[-1], \n",
        "                                      3,\n",
        "                                      kernel_size=kernel_size[-1], \n",
        "                                      padding=1),\n",
        "                            nn.Tanh())\n",
        "\n",
        "    def encode(self, input: Tensor) -> List[Tensor]:\n",
        "        \"\"\"\n",
        "        Encodes the input by passing through the encoder network\n",
        "        and returns the latent codes.\n",
        "        :param input: (Tensor) Input tensor to encoder [N x C x H x W]\n",
        "        :return: (Tensor) List of latent codes\n",
        "        \"\"\"\n",
        "        result = self.encoder(input)\n",
        "        result = torch.flatten(result, start_dim=1)\n",
        "\n",
        "        # Split the result into mu and var components\n",
        "        # of the latent Gaussian distribution\n",
        "        mu = self.fc_mu(result)\n",
        "        log_var = self.fc_var(result)\n",
        "\n",
        "        return [mu, log_var]\n",
        "\n",
        "    def decode(self, z: Tensor) -> Tensor:\n",
        "        \"\"\"\n",
        "        Maps the given latent codes\n",
        "        onto the image space.\n",
        "        :param z: (Tensor) [B x D]\n",
        "        :return: (Tensor) [B x C x H x W]\n",
        "        \"\"\"\n",
        "        result = self.decoder_input(z)\n",
        "        result = result.view(-1, 512, 2, 2)\n",
        "        result = self.decoder(result)\n",
        "        result = self.final_layer(result)\n",
        "        return result\n",
        "\n",
        "    def reparameterize(self, mu: Tensor, logvar: Tensor) -> Tensor:\n",
        "        \"\"\"\n",
        "        Reparameterization trick to sample from N(mu, var) from\n",
        "        N(0,1).\n",
        "        :param mu: (Tensor) Mean of the latent Gaussian [B x D]\n",
        "        :param logvar: (Tensor) Standard deviation of the latent Gaussian [B x D]\n",
        "        :return: (Tensor) [B x D]\n",
        "        \"\"\"\n",
        "        std = torch.exp(0.5 * logvar)\n",
        "        eps = torch.randn_like(std)\n",
        "        return eps * std + mu\n",
        "\n",
        "    def forward(self, input: Tensor, **kwargs) -> List[Tensor]:\n",
        "        mu, log_var = self.encode(input)\n",
        "        z = self.reparameterize(mu, log_var)\n",
        "        return  [self.decode(z), input, mu, log_var]\n",
        "\n",
        "    def loss_function(self, *args, **kwargs) -> dict:\n",
        "        \"\"\"\n",
        "        Computes the VAE loss function.\n",
        "        KL(N(\\mu, \\sigma), N(0, 1)) = \\log \\frac{1}{\\sigma} + \\frac{\\sigma^2 + \\mu^2}{2} - \\frac{1}{2}\n",
        "        :param args:\n",
        "        :param kwargs:\n",
        "        :return:\n",
        "        \"\"\"\n",
        "        recons = args[0]\n",
        "        input = args[1]\n",
        "        mu = args[2]\n",
        "        log_var = args[3]\n",
        "\n",
        "        kld_weight = kwargs['M_N'] # Account for the minibatch samples from the dataset\n",
        "        recons_loss = F.mse_loss(recons, input)\n",
        "\n",
        "        kld_loss = torch.mean(-0.5 * torch.sum(1 + log_var - mu ** 2 - log_var.exp(), dim = 1), dim = 0)\n",
        "\n",
        "        loss = recons_loss + kld_weight * kld_loss\n",
        "        return {'loss': loss, 'Reconstruction_Loss': recons_loss.detach(), 'KLD': kld_loss.detach()}\n",
        "\n",
        "    def sample(self, num_samples: int, current_device: int, **kwargs) -> Tensor:\n",
        "        \"\"\"\n",
        "        Samples from the latent space and return the corresponding\n",
        "        image space map.\n",
        "        :param num_samples: (Int) Number of samples\n",
        "        :param current_device: (Int) Device to run the model\n",
        "        :return: (Tensor)\n",
        "        \"\"\"\n",
        "        z = torch.randn(num_samples,\n",
        "                        self.latent_dim)\n",
        "\n",
        "        z = z.to(current_device)\n",
        "\n",
        "        samples = self.decode(z)\n",
        "        return samples\n",
        "\n",
        "    def generate(self, x: Tensor, **kwargs) -> Tensor:\n",
        "        \"\"\"\n",
        "        Given an input image x, returns the reconstructed image\n",
        "        :param x: (Tensor) [B x C x H x W]\n",
        "        :return: (Tensor) [B x C x H x W]\n",
        "        \"\"\"\n",
        "\n",
        "        return self.forward(x)[0]\n",
        "\n",
        "class ConvEncoder(nn.Module):\n",
        "    def __init__(self):\n",
        "        super(ConvEncoder, self).__init__()\n",
        "\n",
        "        # Convolutional layers\n",
        "        self.conv1 = nn.Conv2d(10, 32, 3, stride=2, padding=1)\n",
        "        self.conv2 = nn.Conv2d(32, 32, 3, stride=2, padding=1)\n",
        "        self.conv3 = nn.Conv2d(32, 128, 3, stride=2, padding=1)\n",
        "\n",
        "        # Fully-connected layers\n",
        "        self.fc1 = nn.Linear(4*4*32, 256)\n",
        "        self.fc2 = nn.Linear(256, 128)\n",
        "\n",
        "        # Nonlinearities\n",
        "        self.relu = nn.ReLU()\n",
        "\n",
        "        # Initialize parameters\n",
        "        for name, param in self.named_parameters():\n",
        "            # Initialize all biases to 0\n",
        "            if 'bias' in name:\n",
        "                nn.init.constant_(param, 0.0)\n",
        "            # Initialize all pre-ReLU weights using Kaiming normal distribution\n",
        "            elif 'weight' in name:\n",
        "                nn.init.kaiming_normal_(param, nonlinearity='relu')\n",
        "\n",
        "    def forward(self, x):\n",
        "        # Convolutional layers\n",
        "        conv1_out = self.relu(self.conv1(x))\n",
        "        conv2_out = self.relu(self.conv2(conv1_out))\n",
        "        conv3_out = self.relu(self.conv3(conv2_out))\n",
        "\n",
        "        # Flatten output of conv net\n",
        "        conv3_out_flat = torch.flatten(conv3_out, 1)\n",
        "\n",
        "        # Fully-connected layers\n",
        "        fc1_out = self.relu(self.fc1(conv3_out_flat))\n",
        "        fc2_out = self.relu(self.fc2(fc1_out))\n",
        "\n",
        "        # Output\n",
        "        z = fc2_out\n",
        "        return z\n",
        "\n",
        "\n",
        "class ESBN(nn.Module):\n",
        "    def __init__(self, norm_type='contextnorm'):\n",
        "        super(ESBN, self).__init__()\n",
        "\n",
        "        # Task Specifications\n",
        "        seq_len = 4\n",
        "        y_dim = 30*30\n",
        "\n",
        "        # Encoder\n",
        "        self.encoder = ConvEncoder()\n",
        "\n",
        "        # LSTM and output layers\n",
        "        self.z_size = 128\n",
        "        self.key_size = 256\n",
        "        self.hidden_size = 512\n",
        "        self.lstm = nn.LSTM(self.key_size + 1, self.hidden_size, batch_first=True)\n",
        "        self.key_w_out = nn.Linear(self.hidden_size, self.key_size)\n",
        "        self.g_out = nn.Linear(self.hidden_size, 1)\n",
        "        self.confidence_gain = nn.Parameter(torch.ones(1))\n",
        "        self.confidence_bias = nn.Parameter(torch.zeros(1))\n",
        "        self.y_out = nn.Linear(self.hidden_size, y_dim)\n",
        "\n",
        "        # Context normalization\n",
        "        if norm_type == 'contextnorm':\n",
        "            self.contextnorm = True\n",
        "            self.task_seg = [np.arange(seq_len)]\n",
        "            self.gamma = nn.Parameter(torch.ones(self.z_size))\n",
        "            self.beta = nn.Parameter(torch.zeros(self.z_size))\n",
        "        else:\n",
        "            self.contextnorm = False\n",
        "            \n",
        "        # Nonlinearities\n",
        "        self.relu = nn.ReLU()\n",
        "        self.sigmoid = nn.Sigmoid()\n",
        "        self.softmax = nn.Softmax(dim=1)\n",
        "\n",
        "        # Initialize parameters\n",
        "        for name, param in self.named_parameters():\n",
        "            # Encoder parameters have already been initialized\n",
        "            if not ('encoder' in name) and not ('confidence' in name):\n",
        "                # Initialize all biases to 0\n",
        "                if 'bias' in name:\n",
        "                    nn.init.constant_(param, 0.0)\n",
        "                else:\n",
        "                    if 'lstm' in name:\n",
        "                        # Initialize gate weights (followed by sigmoid) using Xavier normal distribution\n",
        "                        nn.init.xavier_normal_(param[:self.hidden_size*2,:])\n",
        "                        nn.init.xavier_normal_(param[self.hidden_size*3:,:])\n",
        "                        # Initialize input->hidden and hidden->hidden weights (followed by tanh) using Xavier normal distribution with gain = \n",
        "                        nn.init.xavier_normal_(param[self.hidden_size*2:self.hidden_size*3,:], gain=5.0/3.0)\n",
        "                    elif 'key_w' in name:\n",
        "                        # Initialize weights for key output layer (followed by ReLU) using Kaiming normal distribution\n",
        "                        nn.init.kaiming_normal_(param, nonlinearity='relu')\n",
        "                    elif 'g_out' in name:\n",
        "                        # Initialize weights for gate output layer (followed by sigmoid) using Xavier normal distribution\n",
        "                        nn.init.xavier_normal_(param)\n",
        "                    elif 'y_out' in name:\n",
        "                        # Initialize weights for multiple-choice output layer (followed by softmax) using Xavier normal distribution\n",
        "                        nn.init.xavier_normal_(param)\n",
        "\n",
        "    def forward(self, x_seq, device):\n",
        "        # Encode all images in sequence\n",
        "        z_seq = []\n",
        "        mat_dim = x_seq.shape[2], x_seq.shape[2]//3 \n",
        "        for i in range(0, mat_dim[0], mat_dim[1]):\n",
        "            for j in range(0, mat_dim[0], mat_dim[1]):\n",
        "                x_t = x_seq[:,:,i:i+mat_dim[1],j:j+mat_dim[1]]\n",
        "                z_t = encoder(x_t)\n",
        "                z_seq.append(z_t)\n",
        "        z_seq = torch.stack(z_seq, dim=1)\n",
        "        if self.contextnorm:\n",
        "            z_seq_all_seg = [self.apply_context_norm(z_seq[:,self.task_seg[0],:])]\n",
        "            z_seq = torch.cat(z_seq_all_seg, dim=1)\n",
        "        # Initialize hidden state\n",
        "        hidden = torch.zeros(1, x_seq.shape[0], self.hidden_size).to(device)\n",
        "        cell_state = torch.zeros(1, x_seq.shape[0], self.hidden_size).to(device)\n",
        "        # Initialize retrieved key vector\n",
        "        key_r = torch.zeros(x_seq.shape[0], 1, self.key_size + 1).to(device)\n",
        "        # Memory model (extra time step to process key retrieved on final time step)\n",
        "        for t in range(z_seq.shape[1] + 1):\n",
        "            # Image embedding\n",
        "            if t == z_seq.shape[1]:\n",
        "                z_t = torch.zeros(x_seq.shape[0], 1, self.z_size).to(device)\n",
        "            else:\n",
        "                z_t = z_seq[:,t,:].unsqueeze(1)\n",
        "            # Controller\n",
        "            # LSTM\n",
        "            lstm_out, (hidden, cell_state) = self.lstm(key_r, (hidden, cell_state))\n",
        "            # Key output layers\n",
        "            key_w = self.relu(self.key_w_out(lstm_out))\n",
        "            # Gates\n",
        "            g = self.sigmoid(self.g_out(lstm_out))\n",
        "            # Task output layer\n",
        "            y_pred_linear = self.y_out(lstm_out).squeeze()\n",
        "            y_pred = y_pred_linear.argmax(1)\n",
        "            # Read from memory\n",
        "            if t == 0:\n",
        "                key_r = torch.zeros(x_seq.shape[0], 1, self.key_size + 1).to(device)\n",
        "            else:\n",
        "                # Read key\n",
        "                w_k = self.softmax((z_t * M_v).sum(dim=2))\n",
        "                c_k = self.sigmoid(((z_t * M_v).sum(dim=2) * self.confidence_gain) + self.confidence_bias)\n",
        "                key_r = g * (torch.cat([M_k, c_k.unsqueeze(2)], dim=2) * w_k.unsqueeze(2)).sum(1).unsqueeze(1)\n",
        "            # Write to memory\n",
        "            if t == 0:\n",
        "                M_k = key_w\n",
        "                M_v = z_t\n",
        "            else:\n",
        "                M_k = torch.cat([M_k, key_w], dim=1)\n",
        "                M_v = torch.cat([M_v, z_t], dim=1)\n",
        "        return y_pred_linear, y_pred\n",
        "    \n",
        "    def apply_context_norm(self, z_seq):\n",
        "        eps = 1e-8\n",
        "        z_mu = z_seq.mean(1)\n",
        "        z_sigma = (z_seq.var(1) + eps).sqrt()\n",
        "        z_seq = (z_seq - z_mu.unsqueeze(1)) / z_sigma.unsqueeze(1)\n",
        "        z_seq = (z_seq * self.gamma) + self.beta\n",
        "        return z_seq"
      ]
    },
    {
      "cell_type": "code",
      "execution_count": null,
      "metadata": {
        "id": "NCTua2Q1Y8b5"
      },
      "outputs": [],
      "source": [
        "Batch_Size = 1\n",
        "Epochs = 50\n",
        "\n",
        "idx = 0\n",
        "start = time.time()\n",
        "test_predictions = []\n",
        "\n",
        "for Xs_train, ys_train in zip(X_train, y_train):\n",
        "    print(\"TASK \" + str(idx + 1))\n",
        "\n",
        "    train_set = ARCDataset(Xs_train, ys_train, stage=\"train\")\n",
        "    train_loader = DataLoader(train_set, batch_size=Batch_Size, shuffle=True)\n",
        "\n",
        "    inp_dim = np.array(get_matrix(Xs_train)).shape[1:]\n",
        "    outp_dim = np.array(get_matrix(ys_train)).shape[1:]\n",
        "    network = ARCModel(inp_dim, outp_dim).cuda()\n",
        "    optimizer = Adam(network.parameters(), lr=0.01)\n",
        "    \n",
        "    for epoch in range(Epochs):\n",
        "        for train_batch in train_loader:\n",
        "            train_X, train_y, out_d, d, out = train_batch\n",
        "            train_preds = network.forward(train_X.cuda(), out_d.cuda())\n",
        "            train_loss = nn.MSELoss()(train_preds, train_y.cuda())\n",
        "            \n",
        "            optimizer.zero_grad()\n",
        "            train_loss.backward()\n",
        "            optimizer.step()\n",
        "\n",
        "    end = time.time()        \n",
        "    print(\"Train loss: \" + str(np.round(train_loss.item(), 3)) + \"   \" +\\\n",
        "          \"Total time: \" + str(np.round(end - start, 1)) + \" s\" + \"\\n\")\n",
        "    \n",
        "    Xs_test = np.array([resize(flt(X), np.shape(X), inp_dim) for X in X_test[idx-1]])\n",
        "    for X in Xs_test:\n",
        "        test_dim = np.array(torch.Tensor(X)).shape\n",
        "        test_preds = npy(network.forward(torch.Tensor(X).unsqueeze(0).cuda(), out_d.cuda()))\n",
        "        test_preds = np.argmax(test_preds.reshape((10, *outp_dim)), axis=0)\n",
        "        test_predictions.append(itg(resize(test_preds, np.shape(test_preds),\n",
        "                                           tuple(itg(transform_dim(inp_dim, outp_dim, test_dim))))))\n",
        "    idx += 1"
      ]
    }
  ],
  "metadata": {
    "accelerator": "GPU",
    "colab": {
      "collapsed_sections": [
        "8q1Ga8mfx1Qo",
        "QWlGYZJ0V9Np",
        "sVuzNCh7lx-B",
        "Fv1CZ0L010H1",
        "s780SDsKp0u9",
        "kcwIeoBT2B0z",
        "QXmGhTPqp6AG",
        "XEtF-ZmAYpy3",
        "XsJjX4ib17eU",
        "1dJSyOwbGhMp"
      ],
      "provenance": []
    },
    "gpuClass": "standard",
    "kernelspec": {
      "display_name": "Python 3",
      "name": "python3"
    },
    "language_info": {
      "name": "python"
    }
  },
  "nbformat": 4,
  "nbformat_minor": 0
}