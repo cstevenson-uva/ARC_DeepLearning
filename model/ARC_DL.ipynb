{
  "cells": [
    {
      "cell_type": "markdown",
      "metadata": {
        "id": "8q1Ga8mfx1Qo"
      },
      "source": [
        "## ***Disclaimer!***\n",
        "This notebook is meant to be used by anyone interested in replicating our model or playing around with the data. In order to access all features, please go to this [Google Drive Folder](https://drive.google.com/drive/folders/1kUTkGI89PJRl0dVy79xIZuH9Qokl9Stq) and store it on your own Google Drive. By clicking on the folder name \"Thesis_LucaThoms\" and selecting \"Add a shortcut to Drive\", all necessary files are automatically shared with your main Drive environment without having to download all the data or files individually! After that, simply run all the code as you like."
      ]
    },
    {
      "cell_type": "code",
      "execution_count": null,
      "metadata": {
        "id": "96ipln9OlC9Y"
      },
      "outputs": [],
      "source": [
        "import os, json, random\n",
        "\n",
        "import numpy as np\n",
        "import pandas as pd\n",
        "import matplotlib.pyplot as plt\n",
        "from matplotlib import colors\n",
        "from google.colab import drive"
      ]
    },
    {
      "cell_type": "code",
      "execution_count": null,
      "metadata": {
        "colab": {
          "base_uri": "https://localhost:8080/"
        },
        "id": "gppFKWfRYh7q",
        "outputId": "436b43e6-070d-4f51-ec93-314ba3b8f021"
      },
      "outputs": [
        {
          "name": "stdout",
          "output_type": "stream",
          "text": [
            "Mounted at /content/drive\n"
          ]
        }
      ],
      "source": [
        "# Define directory to access image folders, labels, and pre-trained models\n",
        "drive.mount('/content/drive', force_remount = True)\n",
        "our_data_dir = '/content/drive/MyDrive/Thesis_LucaThoms/'"
      ]
    },
    {
      "cell_type": "code",
      "execution_count": null,
      "metadata": {
        "id": "-OHg2PQjpsJK"
      },
      "outputs": [],
      "source": [
        "training_path = f'{our_data_dir}Data/data_training/'\n",
        "evaluation_path = f'{our_data_dir}Data/data_evaluation/'\n",
        "test_path = f'{our_data_dir}Data/data_test/'\n",
        "\n",
        "training_tasks = sorted(os.listdir(training_path))\n",
        "evaluation_tasks = sorted(os.listdir(evaluation_path))"
      ]
    },
    {
      "cell_type": "code",
      "execution_count": null,
      "metadata": {
        "id": "nRb9aHZ1rXLV"
      },
      "outputs": [],
      "source": [
        "def plot_one(task, ax, i, train_or_test, input_or_output):\n",
        "    cmap = colors.ListedColormap(\n",
        "        ['#000000', '#0074D9','#FF4136','#2ECC40','#FFDC00',\n",
        "         '#AAAAAA', '#F012BE', '#FF851B', '#7FDBFF', '#870C25'])\n",
        "    norm = colors.Normalize(vmin=0, vmax=9)\n",
        "    \n",
        "    input_matrix = task[train_or_test][i][input_or_output]\n",
        "    ax.imshow(input_matrix, cmap=cmap, norm=norm)\n",
        "    ax.grid(True,which='both',color='lightgrey', linewidth=0.5)    \n",
        "    ax.set_yticks([x-0.5 for x in range(1+len(input_matrix))])\n",
        "    ax.set_xticks([x-0.5 for x in range(1+len(input_matrix[0]))])     \n",
        "    ax.set_xticklabels([])\n",
        "    ax.set_yticklabels([])\n",
        "    ax.set_title(train_or_test + ' '+input_or_output)\n",
        "    \n",
        "\n",
        "def plot_task(task):\n",
        "    \"\"\"\n",
        "    Plots the first train and test pairs of a specified task,\n",
        "    using same color scheme as the ARC app\n",
        "    \"\"\"    \n",
        "    num_train = len(task['train'])\n",
        "    fig, axs = plt.subplots(2, num_train, figsize=(3*num_train,3*2))\n",
        "    for i in range(num_train):     \n",
        "        plot_one(task, axs[0,i], i, 'train', 'input')\n",
        "        plot_one(task, axs[1,i], i, 'train', 'output')        \n",
        "    plt.tight_layout()\n",
        "    plt.show()        \n",
        "        \n",
        "    num_test = len(task['test'])\n",
        "    fig, axs = plt.subplots(2, num_test, figsize=(3*num_test,3*2))\n",
        "    if num_test==1: \n",
        "        plot_one(task, axs[0], 0, 'test', 'input')\n",
        "        plot_one(task, axs[1], 0, 'test', 'output')     \n",
        "    else:\n",
        "        for i in range(num_test):      \n",
        "            plot_one(task, axs[0,i], i, 'test', 'input')\n",
        "            plot_one(task, axs[1,i], i, 'test', 'output')  \n",
        "    plt.tight_layout()\n",
        "    plt.show() \n",
        "\n",
        "\n",
        "def example_ARC(example_num = None, path = 'training'):\n",
        "\n",
        "    rando = random.randint(0, 99) if example_num is None else example_num\n",
        "\n",
        "    task_file = f'{eval(path + \"_path\")}{(eval(path + \"_tasks\"))[rando]}'\n",
        "    with open(task_file, 'r') as f:\n",
        "        example = json.load(f)\n",
        "\n",
        "    plot_task(example)"
      ]
    },
    {
      "cell_type": "code",
      "execution_count": null,
      "metadata": {
        "colab": {
          "base_uri": "https://localhost:8080/",
          "height": 866
        },
        "id": "cIHhe1UoJ3NA",
        "outputId": "dd7a4f02-5e06-4bc2-a615-57b442a3ba4e"
      },
      "outputs": [
        {
          "data": {
            "image/png": "[encoded data removed]",
            "text/plain": [
              "<Figure size 648x432 with 6 Axes>"
            ]
          },
          "metadata": {
            "needs_background": "light"
          },
          "output_type": "display_data"
        },
        {
          "data": {
            "image/png": "[encoded data removed]",
            "text/plain": [
              "<Figure size 216x432 with 2 Axes>"
            ]
          },
          "metadata": {
            "needs_background": "light"
          },
          "output_type": "display_data"
        }
      ],
      "source": [
        "example_ARC(6, path = \"evaluation\")"
      ]
    }
  ],
  "metadata": {
    "accelerator": "GPU",
    "colab": {
      "provenance": []
    },
    "gpuClass": "standard",
    "kernelspec": {
      "display_name": "Python 3",
      "name": "python3"
    },
    "language_info": {
      "name": "python"
    }
  },
  "nbformat": 4,
  "nbformat_minor": 0
}
